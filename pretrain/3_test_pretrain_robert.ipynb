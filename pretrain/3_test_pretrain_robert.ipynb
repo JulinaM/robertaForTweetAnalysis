{
 "cells": [
  {
   "cell_type": "code",
   "execution_count": 17,
   "metadata": {},
   "outputs": [],
   "source": [
    "import os\n",
    "import pandas as pd\n",
    "import tqdm\n",
    "import math"
   ]
  },
  {
   "cell_type": "code",
   "execution_count": 18,
   "metadata": {},
   "outputs": [],
   "source": [
    "#Set the path to the data folder, datafile and output folder and files\n",
    "op_folder_name = 'oct2022/'\n",
    "root_folder = '/users/kent/jmaharja/drugAbuse/'\n",
    "output_folder = os.path.abspath(os.path.join(root_folder, 'output/'+ op_folder_name))\n",
    "model_folder = os.path.abspath(os.path.join(output_folder, 'RoBERTaMLM/'))\n",
    "tokenizer_folder = os.path.abspath(os.path.join(output_folder, 'TokRoBERTa/'))"
   ]
  },
  {
   "cell_type": "code",
   "execution_count": 19,
   "metadata": {},
   "outputs": [
    {
     "data": {
      "text/plain": [
       "'/users/kent/jmaharja/drugAbuse/output/oct2022/TokRoBERTa'"
      ]
     },
     "execution_count": 19,
     "metadata": {},
     "output_type": "execute_result"
    }
   ],
   "source": [
    "tokenizer_folder"
   ]
  },
  {
   "cell_type": "code",
   "execution_count": 20,
   "metadata": {},
   "outputs": [],
   "source": [
    "# !pip3 install transformers"
   ]
  },
  {
   "cell_type": "code",
   "execution_count": null,
   "metadata": {},
   "outputs": [],
   "source": [
    "from transformers import pipeline\n",
    "\n",
    "fill_mask = pipeline(\n",
    "    \"fill-mask\",\n",
    "    model=model_folder,\n",
    "    tokenizer=tokenizer_folder\n",
    ")"
   ]
  },
  {
   "cell_type": "code",
   "execution_count": 14,
   "metadata": {},
   "outputs": [
    {
     "data": {
      "text/plain": [
       "[{'score': 0.1735764741897583,\n",
       "  'token': 465,\n",
       "  'token_str': ' just',\n",
       "  'sequence': \"let's just some joint this weekend\"},\n",
       " {'score': 0.03924444690346718,\n",
       "  'token': 1579,\n",
       "  'token_str': ' having',\n",
       "  'sequence': \"let's having some joint this weekend\"},\n",
       " {'score': 0.03251732513308525,\n",
       "  'token': 467,\n",
       "  'token_str': ' like',\n",
       "  'sequence': \"let's like some joint this weekend\"},\n",
       " {'score': 0.03049570880830288,\n",
       "  'token': 437,\n",
       "  'token_str': ' not',\n",
       "  'sequence': \"let's not some joint this weekend\"},\n",
       " {'score': 0.026419034227728844,\n",
       "  'token': 1855,\n",
       "  'token_str': ' such',\n",
       "  'sequence': \"let's such some joint this weekend\"}]"
      ]
     },
     "execution_count": 14,
     "metadata": {},
     "output_type": "execute_result"
    }
   ],
   "source": [
    "fill_mask(\"let's <mask> some joint this weekend\")"
   ]
  },
  {
   "cell_type": "code",
   "execution_count": 15,
   "metadata": {},
   "outputs": [
    {
     "data": {
      "text/plain": [
       "[{'score': 0.1425766944885254,\n",
       "  'token': 360,\n",
       "  'token_str': ' it',\n",
       "  'sequence': \"It's blue and I'm having it.\"},\n",
       " {'score': 0.03183109685778618,\n",
       "  'token': 992,\n",
       "  'token_str': ' fun',\n",
       "  'sequence': \"It's blue and I'm having fun.\"},\n",
       " {'score': 0.031793493777513504,\n",
       "  'token': 1008,\n",
       "  'token_str': ' better',\n",
       "  'sequence': \"It's blue and I'm having better.\"},\n",
       " {'score': 0.023372432217001915,\n",
       "  'token': 315,\n",
       "  'token_str': ' you',\n",
       "  'sequence': \"It's blue and I'm having you.\"},\n",
       " {'score': 0.020561954006552696,\n",
       "  'token': 3650,\n",
       "  'token_str': ' married',\n",
       "  'sequence': \"It's blue and I'm having married.\"}]"
      ]
     },
     "execution_count": 15,
     "metadata": {},
     "output_type": "execute_result"
    }
   ],
   "source": [
    "fill_mask(\"It's blue and I'm having <mask>.\")"
   ]
  },
  {
   "cell_type": "code",
   "execution_count": null,
   "metadata": {},
   "outputs": [],
   "source": []
  }
 ],
 "metadata": {
  "kernelspec": {
   "display_name": "gpu",
   "language": "python",
   "name": "gpu"
  },
  "language_info": {
   "codemirror_mode": {
    "name": "ipython",
    "version": 3
   },
   "file_extension": ".py",
   "mimetype": "text/x-python",
   "name": "python",
   "nbconvert_exporter": "python",
   "pygments_lexer": "ipython3",
   "version": "3.8.16"
  }
 },
 "nbformat": 4,
 "nbformat_minor": 4
}
