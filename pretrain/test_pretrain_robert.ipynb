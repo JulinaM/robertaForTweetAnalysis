{
 "cells": [
  {
   "cell_type": "code",
   "execution_count": 1,
   "metadata": {},
   "outputs": [],
   "source": [
    "import os\n",
    "import pandas as pd\n",
    "import tqdm\n",
    "import math"
   ]
  },
  {
   "cell_type": "code",
   "execution_count": 26,
   "metadata": {},
   "outputs": [],
   "source": [
    "#Set the path to the data folder, datafile and output folder and files\n",
    "op_folder_name = 'april2022/'\n",
    "root_folder = '/users/kent/jmaharja/drugAbuse/'\n",
    "output_folder = os.path.abspath(os.path.join(root_folder, 'output/'+ op_folder_name))\n",
    "model_folder = os.path.abspath(os.path.join(output_folder, 'RoBERTaMLM/'))\n",
    "tokenizer_folder = os.path.abspath(os.path.join(output_folder, 'TokRoBERTa/'))"
   ]
  },
  {
   "cell_type": "code",
   "execution_count": 28,
   "metadata": {},
   "outputs": [
    {
     "data": {
      "text/plain": [
       "'/users/kent/jmaharja/drugAbuse/output/april2022/TokRoBERTa'"
      ]
     },
     "execution_count": 28,
     "metadata": {},
     "output_type": "execute_result"
    }
   ],
   "source": [
    "tokenizer_folder"
   ]
  },
  {
   "cell_type": "code",
   "execution_count": 30,
   "metadata": {},
   "outputs": [],
   "source": [
    "from transformers import pipeline\n",
    "\n",
    "fill_mask = pipeline(\n",
    "    \"fill-mask\",\n",
    "    model=model_folder,\n",
    "    tokenizer=tokenizer_folder\n",
    ")"
   ]
  },
  {
   "cell_type": "code",
   "execution_count": 31,
   "metadata": {},
   "outputs": [
    {
     "data": {
      "text/plain": [
       "[{'score': 0.18096739053726196,\n",
       "  'token': 428,\n",
       "  'token_str': ' do',\n",
       "  'sequence': \"let's do some joint this weekend\"},\n",
       " {'score': 0.13350661098957062,\n",
       "  'token': 453,\n",
       "  'token_str': ' have',\n",
       "  'sequence': \"let's have some joint this weekend\"},\n",
       " {'score': 0.12134105712175369,\n",
       "  'token': 527,\n",
       "  'token_str': ' get',\n",
       "  'sequence': \"let's get some joint this weekend\"},\n",
       " {'score': 0.06619331985712051,\n",
       "  'token': 635,\n",
       "  'token_str': ' start',\n",
       "  'sequence': \"let's start some joint this weekend\"},\n",
       " {'score': 0.03441227599978447,\n",
       "  'token': 1016,\n",
       "  'token_str': ' try',\n",
       "  'sequence': \"let's try some joint this weekend\"}]"
      ]
     },
     "execution_count": 31,
     "metadata": {},
     "output_type": "execute_result"
    }
   ],
   "source": [
    "fill_mask(\"let's <mask> some joint this weekend\")"
   ]
  },
  {
   "cell_type": "code",
   "execution_count": 32,
   "metadata": {},
   "outputs": [
    {
     "data": {
      "text/plain": [
       "[{'score': 0.28802749514579773,\n",
       "  'token': 992,\n",
       "  'token_str': ' fun',\n",
       "  'sequence': \"It's blue and I'm having fun.\"},\n",
       " {'score': 0.10256712883710861,\n",
       "  'token': 5649,\n",
       "  'token_str': ' coffee',\n",
       "  'sequence': \"It's blue and I'm having coffee.\"},\n",
       " {'score': 0.08462421596050262,\n",
       "  'token': 360,\n",
       "  'token_str': ' it',\n",
       "  'sequence': \"It's blue and I'm having it.\"},\n",
       " {'score': 0.051855605095624924,\n",
       "  'token': 1755,\n",
       "  'token_str': ' sex',\n",
       "  'sequence': \"It's blue and I'm having sex.\"},\n",
       " {'score': 0.03230766952037811,\n",
       "  'token': 725,\n",
       "  'token_str': ' them',\n",
       "  'sequence': \"It's blue and I'm having them.\"}]"
      ]
     },
     "execution_count": 32,
     "metadata": {},
     "output_type": "execute_result"
    }
   ],
   "source": [
    "fill_mask(\"It's blue and I'm having <mask>.\")"
   ]
  },
  {
   "cell_type": "code",
   "execution_count": null,
   "metadata": {},
   "outputs": [],
   "source": []
  }
 ],
 "metadata": {
  "kernelspec": {
   "display_name": "Python 3",
   "language": "python",
   "name": "python3"
  },
  "language_info": {
   "codemirror_mode": {
    "name": "ipython",
    "version": 3
   },
   "file_extension": ".py",
   "mimetype": "text/x-python",
   "name": "python",
   "nbconvert_exporter": "python",
   "pygments_lexer": "ipython3",
   "version": "3.6.8"
  }
 },
 "nbformat": 4,
 "nbformat_minor": 2
}
