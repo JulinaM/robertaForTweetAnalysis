{
 "cells": [
  {
   "cell_type": "code",
   "execution_count": 2,
   "metadata": {},
   "outputs": [],
   "source": [
    "import os\n",
    "import pandas as pd\n",
    "import tqdm\n",
    "import math"
   ]
  },
  {
   "cell_type": "code",
   "execution_count": 3,
   "metadata": {},
   "outputs": [],
   "source": [
    "#Set the path to the data folder, datafile and output folder and files\n",
    "op_folder_name = 'april2022/'\n",
    "root_folder = '/users/kent/jmaharja/drugAbuse/'\n",
    "output_folder = os.path.abspath(os.path.join(root_folder, 'output/'+ op_folder_name))\n",
    "model_folder = os.path.abspath(os.path.join(output_folder, 'RoBERTaMLM/'))\n",
    "tokenizer_folder = os.path.abspath(os.path.join(output_folder, 'TokRoBERTa/'))"
   ]
  },
  {
   "cell_type": "code",
   "execution_count": 4,
   "metadata": {},
   "outputs": [
    {
     "data": {
      "text/plain": [
       "'/users/kent/jmaharja/drugAbuse/output/april2022/TokRoBERTa'"
      ]
     },
     "execution_count": 4,
     "metadata": {},
     "output_type": "execute_result"
    }
   ],
   "source": [
    "tokenizer_folder"
   ]
  },
  {
   "cell_type": "code",
   "execution_count": 5,
   "metadata": {},
   "outputs": [
    {
     "name": "stdout",
     "output_type": "stream",
     "text": [
      "Defaulting to user installation because normal site-packages is not writeable\n",
      "Requirement already satisfied: transformers in /users/kent/jmaharja/.local/lib/python3.6/site-packages (4.17.0)\n",
      "Requirement already satisfied: huggingface-hub<1.0,>=0.1.0 in /users/kent/jmaharja/.local/lib/python3.6/site-packages (from transformers) (0.4.0)\n",
      "Requirement already satisfied: sacremoses in /users/kent/jmaharja/.local/lib/python3.6/site-packages (from transformers) (0.0.47)\n",
      "Requirement already satisfied: filelock in /users/kent/jmaharja/.local/lib/python3.6/site-packages (from transformers) (3.4.1)\n",
      "Requirement already satisfied: numpy>=1.17 in /users/kent/jmaharja/.local/lib/python3.6/site-packages (from transformers) (1.19.5)\n",
      "Requirement already satisfied: importlib-metadata in /users/kent/jmaharja/.local/lib/python3.6/site-packages (from transformers) (0.23)\n",
      "Requirement already satisfied: packaging>=20.0 in /users/kent/jmaharja/.local/lib/python3.6/site-packages (from transformers) (21.3)\n",
      "Requirement already satisfied: tokenizers!=0.11.3,>=0.11.1 in /users/kent/jmaharja/.local/lib/python3.6/site-packages (from transformers) (0.11.6)\n",
      "Requirement already satisfied: requests in /users/kent/jmaharja/.local/lib/python3.6/site-packages (from transformers) (2.27.1)\n",
      "Requirement already satisfied: dataclasses in /users/kent/jmaharja/.local/lib/python3.6/site-packages (from transformers) (0.7)\n",
      "Requirement already satisfied: tqdm>=4.27 in /users/kent/jmaharja/.local/lib/python3.6/site-packages (from transformers) (4.45.0)\n",
      "Requirement already satisfied: regex!=2019.12.17 in /users/kent/jmaharja/.local/lib/python3.6/site-packages (from transformers) (2022.1.18)\n",
      "Requirement already satisfied: pyyaml>=5.1 in /users/kent/jmaharja/.local/lib/python3.6/site-packages (from transformers) (6.0)\n",
      "Requirement already satisfied: typing-extensions>=3.7.4.3 in /users/kent/jmaharja/.local/lib/python3.6/site-packages (from huggingface-hub<1.0,>=0.1.0->transformers) (3.7.4.3)\n",
      "Requirement already satisfied: pyparsing!=3.0.5,>=2.0.2 in /users/kent/jmaharja/.local/lib/python3.6/site-packages (from packaging>=20.0->transformers) (2.4.2)\n",
      "Requirement already satisfied: zipp>=0.5 in /users/kent/jmaharja/.local/lib/python3.6/site-packages (from importlib-metadata->transformers) (0.6.0)\n",
      "Requirement already satisfied: certifi>=2017.4.17 in /users/kent/jmaharja/.local/lib/python3.6/site-packages (from requests->transformers) (2019.3.9)\n",
      "Requirement already satisfied: idna<4,>=2.5 in /users/kent/jmaharja/.local/lib/python3.6/site-packages (from requests->transformers) (2.8)\n",
      "Requirement already satisfied: charset-normalizer~=2.0.0 in /users/kent/jmaharja/.local/lib/python3.6/site-packages (from requests->transformers) (2.0.11)\n",
      "Requirement already satisfied: urllib3<1.27,>=1.21.1 in /users/kent/jmaharja/.local/lib/python3.6/site-packages (from requests->transformers) (1.26.8)\n",
      "Requirement already satisfied: joblib in /users/kent/jmaharja/.local/lib/python3.6/site-packages (from sacremoses->transformers) (0.14.0)\n",
      "Requirement already satisfied: click in /users/kent/jmaharja/.local/lib/python3.6/site-packages (from sacremoses->transformers) (7.0)\n",
      "Requirement already satisfied: six in /users/kent/jmaharja/.local/lib/python3.6/site-packages (from sacremoses->transformers) (1.15.0)\n",
      "Requirement already satisfied: more-itertools in /users/kent/jmaharja/.local/lib/python3.6/site-packages (from zipp>=0.5->importlib-metadata->transformers) (7.2.0)\n"
     ]
    }
   ],
   "source": [
    "!pip3 install transformers"
   ]
  },
  {
   "cell_type": "code",
   "execution_count": 6,
   "metadata": {},
   "outputs": [],
   "source": [
    "from transformers import pipeline\n",
    "\n",
    "fill_mask = pipeline(\n",
    "    \"fill-mask\",\n",
    "    model=model_folder,\n",
    "    tokenizer=tokenizer_folder\n",
    ")"
   ]
  },
  {
   "cell_type": "code",
   "execution_count": 7,
   "metadata": {},
   "outputs": [
    {
     "data": {
      "text/plain": [
       "[{'score': 0.18096739053726196,\n",
       "  'token': 428,\n",
       "  'token_str': ' do',\n",
       "  'sequence': \"let's do some joint this weekend\"},\n",
       " {'score': 0.13350661098957062,\n",
       "  'token': 453,\n",
       "  'token_str': ' have',\n",
       "  'sequence': \"let's have some joint this weekend\"},\n",
       " {'score': 0.12134105712175369,\n",
       "  'token': 527,\n",
       "  'token_str': ' get',\n",
       "  'sequence': \"let's get some joint this weekend\"},\n",
       " {'score': 0.06619331985712051,\n",
       "  'token': 635,\n",
       "  'token_str': ' start',\n",
       "  'sequence': \"let's start some joint this weekend\"},\n",
       " {'score': 0.03441227599978447,\n",
       "  'token': 1016,\n",
       "  'token_str': ' try',\n",
       "  'sequence': \"let's try some joint this weekend\"}]"
      ]
     },
     "execution_count": 7,
     "metadata": {},
     "output_type": "execute_result"
    }
   ],
   "source": [
    "fill_mask(\"let's <mask> some joint this weekend\")"
   ]
  },
  {
   "cell_type": "code",
   "execution_count": 8,
   "metadata": {},
   "outputs": [
    {
     "data": {
      "text/plain": [
       "[{'score': 0.28802749514579773,\n",
       "  'token': 992,\n",
       "  'token_str': ' fun',\n",
       "  'sequence': \"It's blue and I'm having fun.\"},\n",
       " {'score': 0.10256712883710861,\n",
       "  'token': 5649,\n",
       "  'token_str': ' coffee',\n",
       "  'sequence': \"It's blue and I'm having coffee.\"},\n",
       " {'score': 0.08462421596050262,\n",
       "  'token': 360,\n",
       "  'token_str': ' it',\n",
       "  'sequence': \"It's blue and I'm having it.\"},\n",
       " {'score': 0.051855605095624924,\n",
       "  'token': 1755,\n",
       "  'token_str': ' sex',\n",
       "  'sequence': \"It's blue and I'm having sex.\"},\n",
       " {'score': 0.03230766952037811,\n",
       "  'token': 725,\n",
       "  'token_str': ' them',\n",
       "  'sequence': \"It's blue and I'm having them.\"}]"
      ]
     },
     "execution_count": 8,
     "metadata": {},
     "output_type": "execute_result"
    }
   ],
   "source": [
    "fill_mask(\"It's blue and I'm having <mask>.\")"
   ]
  },
  {
   "cell_type": "code",
   "execution_count": null,
   "metadata": {},
   "outputs": [],
   "source": []
  }
 ],
 "metadata": {
  "kernelspec": {
   "display_name": "gpu",
   "language": "python",
   "name": "gpu"
  },
  "language_info": {
   "codemirror_mode": {
    "name": "ipython",
    "version": 3
   },
   "file_extension": ".py",
   "mimetype": "text/x-python",
   "name": "python",
   "nbconvert_exporter": "python",
   "pygments_lexer": "ipython3",
   "version": "3.6.8"
  }
 },
 "nbformat": 4,
 "nbformat_minor": 2
}
