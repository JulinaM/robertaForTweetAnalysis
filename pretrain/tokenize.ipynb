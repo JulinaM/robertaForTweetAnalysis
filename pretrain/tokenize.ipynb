{
 "cells": [
  {
   "cell_type": "code",
   "execution_count": 1,
   "metadata": {
    "id": "Ic6GPnGQiO9e"
   },
   "outputs": [
    {
     "name": "stdout",
     "output_type": "stream",
     "text": [
      "/usr/bin/sh: nvidia-smi: command not found\r\n",
      "0\r\n"
     ]
    }
   ],
   "source": [
    "# !nvidia-smi\n",
    "!nvidia-smi --query-gpu=name --format=csv,noheader | wc -l"
   ]
  },
  {
   "cell_type": "code",
   "execution_count": 3,
   "metadata": {
    "id": "sulqhTj6hqvM"
   },
   "outputs": [],
   "source": [
    "import os\n",
    "import pandas as pd\n",
    "import tqdm\n",
    "import math"
   ]
  },
  {
   "cell_type": "code",
   "execution_count": 17,
   "metadata": {
    "id": "ArJE6fM5iK43"
   },
   "outputs": [],
   "source": [
    "#Set the path to the data folder, datafile and output folder and files\n",
    "\n",
    "op_folder_name = 'sept2022'\n",
    "\n",
    "root_folder = '/users/kent/jmaharja/drugAbuse/'\n",
    "output_folder = os.path.abspath(os.path.join(root_folder, 'output/'+ op_folder_name))\n",
    "model_folder = os.path.abspath(os.path.join(output_folder, 'RoBERTaMLM/'))\n",
    "tokenizer_folder = os.path.abspath(os.path.join(output_folder, 'TokRoBERTa/'))\n",
    "\n",
    "datafile= '2020_01_01.csv'\n",
    "testfile= '20161007.csv'\n",
    "outputfile = 'submission.csv'\n",
    "\n",
    "input_folder = os.path.abspath(os.path.join(root_folder, 'input/'))\n",
    "datafile_path = os.path.abspath(os.path.join(input_folder, datafile))\n",
    "testfile_path = os.path.abspath(os.path.join(input_folder, testfile))\n",
    "outputfile_path = os.path.abspath(os.path.join(output_folder, outputfile))"
   ]
  },
  {
   "cell_type": "code",
   "execution_count": 15,
   "metadata": {},
   "outputs": [
    {
     "data": {
      "text/plain": [
       "(1115630, 1)"
      ]
     },
     "execution_count": 15,
     "metadata": {},
     "output_type": "execute_result"
    }
   ],
   "source": [
    "train_df =pd.read_csv(datafile_path,lineterminator='\\n',skipinitialspace=True, usecols= ['text'])\n",
    "train_df.rename(columns={'text':'Tweet'}, inplace=True)\n",
    "train_df = train_df.dropna()\n",
    "train_df.shape"
   ]
  },
  {
   "cell_type": "markdown",
   "metadata": {
    "id": "bHg-_qMajz9q"
   },
   "source": [
    "# Build a Tokenizer"
   ]
  },
  {
   "cell_type": "code",
   "execution_count": 18,
   "metadata": {
    "id": "dkfwjxpsjMwi"
   },
   "outputs": [],
   "source": [
    "# Drop the files from the output dir\n",
    "!mkdir -p {output_folder}\n",
    "txt_files_dir = output_folder + \"/text_split\"\n",
    "\n",
    "!rm -rf {txt_files_dir}\n",
    "!mkdir {txt_files_dir}"
   ]
  },
  {
   "cell_type": "code",
   "execution_count": 19,
   "metadata": {
    "id": "xtXxaWocj9QK"
   },
   "outputs": [],
   "source": [
    "# Store values in a dataframe column (Series object) to files, one file per record\n",
    "# The prefix is a unique ID to avoid to overwrite a text file\n",
    "def column_to_files(column, prefix, txt_files_dir):\n",
    "    i=prefix\n",
    "    for row in column.to_list():\n",
    "      file_name = os.path.join(txt_files_dir, str(i)+'.txt')\n",
    "      try:\n",
    "        f = open(file_name, 'wb')\n",
    "        f.write(row.encode('utf-8'))\n",
    "        f.close()\n",
    "      except Exception as e: \n",
    "        print(row, e) \n",
    "      i+=1\n",
    "    return i"
   ]
  },
  {
   "cell_type": "code",
   "execution_count": 20,
   "metadata": {
    "id": "i1MUD7ZjkAf_"
   },
   "outputs": [
    {
     "name": "stdout",
     "output_type": "stream",
     "text": [
      "1115630\n"
     ]
    }
   ],
   "source": [
    "# data = train_df[\"Tweet\"]\n",
    "# data = data.replace(\"\\n\",\" \")\n",
    "# prefix = 0\n",
    "# #Create a file for every description value\n",
    "# prefix = column_to_files(data, prefix, txt_files_dir)\n",
    "# print(prefix)"
   ]
  },
  {
   "cell_type": "code",
   "execution_count": 24,
   "metadata": {
    "id": "5gW-Fd6mkaBE"
   },
   "outputs": [],
   "source": [
    "from pathlib import Path\n",
    "from tokenizers import ByteLevelBPETokenizer\n",
    "from tokenizers.processors import BertProcessing\n",
    "import torch\n",
    "from torch.utils.data.dataset import Dataset"
   ]
  },
  {
   "cell_type": "code",
   "execution_count": null,
   "metadata": {
    "id": "gGXzTW_QkdG9"
   },
   "outputs": [],
   "source": [
    "%%time \n",
    "paths = [str(x) for x in Path('/users/kent/jmaharja/drugAbuse/output/sept2022/').glob(\"text_split/*.txt\")]\n",
    "\n",
    "# Initialize a tokenizer\n",
    "tokenizer = ByteLevelBPETokenizer(lowercase=True)\n",
    "\n",
    "# Customize training\n",
    "tokenizer.train(files=paths, vocab_size=8192, min_frequency=2,\n",
    "                show_progress=True,\n",
    "                special_tokens=[\n",
    "                                \"<s>\",\n",
    "                                \"<pad>\",\n",
    "                                \"</s>\",\n",
    "                                \"<unk>\",\n",
    "                                \"<mask>\",\n",
    "])"
   ]
  },
  {
   "cell_type": "code",
   "execution_count": 29,
   "metadata": {
    "id": "sArosNLXki_k"
   },
   "outputs": [
    {
     "data": {
      "text/plain": [
       "['/users/kent/jmaharja/drugAbuse/output/TokRoBERTa/vocab.json',\n",
       " '/users/kent/jmaharja/drugAbuse/output/TokRoBERTa/merges.txt']"
      ]
     },
     "execution_count": 29,
     "metadata": {},
     "output_type": "execute_result"
    }
   ],
   "source": [
    "#Save the Tokenizer to disk\n",
    "tokenizer.save_model(tokenizer_folder)"
   ]
  },
  {
   "cell_type": "code",
   "execution_count": 31,
   "metadata": {
    "id": "eJMY1o_Hko46"
   },
   "outputs": [],
   "source": [
    "# Prepare the tokenizer\n",
    "tokenizer._tokenizer.post_processor = BertProcessing(\n",
    "    (\"</s>\", tokenizer.token_to_id(\"</s>\")),\n",
    "    (\"<s>\", tokenizer.token_to_id(\"<s>\")),\n",
    ")\n",
    "tokenizer.enable_truncation(max_length=512)"
   ]
  },
  {
   "cell_type": "code",
   "execution_count": 32,
   "metadata": {
    "id": "a85eD5-7oOQ5"
   },
   "outputs": [
    {
     "data": {
      "text/plain": [
       "Encoding(num_tokens=6, attributes=[ids, type_ids, tokens, offsets, attention_mask, special_tokens_mask, overflowing])"
      ]
     },
     "execution_count": 32,
     "metadata": {},
     "output_type": "execute_result"
    }
   ],
   "source": [
    "tokenizer.encode(\"cook some blue.\")"
   ]
  },
  {
   "cell_type": "code",
   "execution_count": null,
   "metadata": {},
   "outputs": [],
   "source": [
    "tokenizer.encode(\"cook some blue.\").special_tokens_mask"
   ]
  },
  {
   "cell_type": "code",
   "execution_count": null,
   "metadata": {},
   "outputs": [],
   "source": [
    "tokenizer.encode(\"cook some blue.\").tokens"
   ]
  }
 ],
 "metadata": {
  "accelerator": "GPU",
  "colab": {
   "name": "Drug-Abuse-Tweets-onRobert",
   "private_outputs": true,
   "provenance": []
  },
  "kernelspec": {
   "display_name": "gpu2",
   "language": "python",
   "name": "gpu2"
  },
  "language_info": {
   "codemirror_mode": {
    "name": "ipython",
    "version": 3
   },
   "file_extension": ".py",
   "mimetype": "text/x-python",
   "name": "python",
   "nbconvert_exporter": "python",
   "pygments_lexer": "ipython3",
   "version": "3.6.8"
  }
 },
 "nbformat": 4,
 "nbformat_minor": 1
}
