{
 "cells": [
  {
   "cell_type": "code",
   "execution_count": 2,
   "metadata": {},
   "outputs": [
    {
     "name": "stdout",
     "output_type": "stream",
     "text": [
      "Mon Mar  7 16:04:27 2022       \n",
      "+-----------------------------------------------------------------------------+\n",
      "| NVIDIA-SMI 460.32.03    Driver Version: 460.32.03    CUDA Version: 11.2     |\n",
      "|-------------------------------+----------------------+----------------------+\n",
      "| GPU  Name        Persistence-M| Bus-Id        Disp.A | Volatile Uncorr. ECC |\n",
      "| Fan  Temp  Perf  Pwr:Usage/Cap|         Memory-Usage | GPU-Util  Compute M. |\n",
      "|                               |                      |               MIG M. |\n",
      "|===============================+======================+======================|\n",
      "|   0  TITAN X (Pascal)    Off  | 00000000:03:00.0 Off |                  N/A |\n",
      "| 23%   36C    P8    17W / 250W |     95MiB / 12188MiB |      0%      Default |\n",
      "|                               |                      |                  N/A |\n",
      "+-------------------------------+----------------------+----------------------+\n",
      "|   1  Quadro P6000        Off  | 00000000:81:00.0 Off |                  Off |\n",
      "| 26%   24C    P8     8W / 250W |      4MiB / 24449MiB |      0%      Default |\n",
      "|                               |                      |                  N/A |\n",
      "+-------------------------------+----------------------+----------------------+\n",
      "                                                                               \n",
      "+-----------------------------------------------------------------------------+\n",
      "| Processes:                                                                  |\n",
      "|  GPU   GI   CI        PID   Type   Process name                  GPU Memory |\n",
      "|        ID   ID                                                   Usage      |\n",
      "|=============================================================================|\n",
      "|    0   N/A  N/A      2823      G   /usr/lib/xorg/Xorg                 39MiB |\n",
      "|    0   N/A  N/A      2955      G   /usr/bin/gnome-shell               50MiB |\n",
      "+-----------------------------------------------------------------------------+\n"
     ]
    }
   ],
   "source": [
    "!nvidia-smi"
   ]
  },
  {
   "cell_type": "code",
   "execution_count": 3,
   "metadata": {},
   "outputs": [
    {
     "name": "stdout",
     "output_type": "stream",
     "text": [
      "Defaulting to user installation because normal site-packages is not writeable\n",
      "Requirement already satisfied: datasets in /users/kent/jmaharja/.local/lib/python3.6/site-packages (1.0.2)\n",
      "Collecting transformers==4.11.2\n",
      "  Using cached transformers-4.11.2-py3-none-any.whl (2.9 MB)\n",
      "Requirement already satisfied: importlib-metadata in /users/kent/jmaharja/.local/lib/python3.6/site-packages (from transformers==4.11.2) (0.23)\n",
      "Requirement already satisfied: packaging>=20.0 in /users/kent/jmaharja/.local/lib/python3.6/site-packages (from transformers==4.11.2) (21.3)\n",
      "Requirement already satisfied: regex!=2019.12.17 in /users/kent/jmaharja/.local/lib/python3.6/site-packages (from transformers==4.11.2) (2022.1.18)\n",
      "Requirement already satisfied: dataclasses in /users/kent/jmaharja/.local/lib/python3.6/site-packages (from transformers==4.11.2) (0.7)\n",
      "Requirement already satisfied: numpy>=1.17 in /users/kent/jmaharja/.local/lib/python3.6/site-packages (from transformers==4.11.2) (1.19.5)\n",
      "Requirement already satisfied: huggingface-hub>=0.0.17 in /users/kent/jmaharja/.local/lib/python3.6/site-packages (from transformers==4.11.2) (0.4.0)\n",
      "Requirement already satisfied: filelock in /users/kent/jmaharja/.local/lib/python3.6/site-packages (from transformers==4.11.2) (3.4.1)\n",
      "Requirement already satisfied: pyyaml>=5.1 in /users/kent/jmaharja/.local/lib/python3.6/site-packages (from transformers==4.11.2) (6.0)\n",
      "Requirement already satisfied: sacremoses in /users/kent/jmaharja/.local/lib/python3.6/site-packages (from transformers==4.11.2) (0.0.47)\n",
      "Requirement already satisfied: tokenizers<0.11,>=0.10.1 in /users/kent/jmaharja/.local/lib/python3.6/site-packages (from transformers==4.11.2) (0.10.3)\n",
      "Requirement already satisfied: requests in /users/kent/jmaharja/.local/lib/python3.6/site-packages (from transformers==4.11.2) (2.27.1)\n",
      "Requirement already satisfied: tqdm>=4.27 in /users/kent/jmaharja/.local/lib/python3.6/site-packages (from transformers==4.11.2) (4.45.0)\n",
      "Requirement already satisfied: pandas in /users/kent/jmaharja/.local/lib/python3.6/site-packages (from datasets) (0.24.2)\n",
      "Requirement already satisfied: xxhash in /users/kent/jmaharja/.local/lib/python3.6/site-packages (from datasets) (3.0.0)\n",
      "Requirement already satisfied: dill in /users/kent/jmaharja/.local/lib/python3.6/site-packages (from datasets) (0.3.1.1)\n",
      "Requirement already satisfied: pyarrow>=0.17.1 in /users/kent/jmaharja/.local/lib/python3.6/site-packages (from datasets) (6.0.1)\n",
      "Requirement already satisfied: typing-extensions>=3.7.4.3 in /users/kent/jmaharja/.local/lib/python3.6/site-packages (from huggingface-hub>=0.0.17->transformers==4.11.2) (3.7.4.3)\n",
      "Requirement already satisfied: pyparsing!=3.0.5,>=2.0.2 in /users/kent/jmaharja/.local/lib/python3.6/site-packages (from packaging>=20.0->transformers==4.11.2) (2.4.2)\n",
      "Requirement already satisfied: certifi>=2017.4.17 in /users/kent/jmaharja/.local/lib/python3.6/site-packages (from requests->transformers==4.11.2) (2019.3.9)\n",
      "Requirement already satisfied: urllib3<1.27,>=1.21.1 in /users/kent/jmaharja/.local/lib/python3.6/site-packages (from requests->transformers==4.11.2) (1.26.8)\n",
      "Requirement already satisfied: charset-normalizer~=2.0.0 in /users/kent/jmaharja/.local/lib/python3.6/site-packages (from requests->transformers==4.11.2) (2.0.11)\n",
      "Requirement already satisfied: idna<4,>=2.5 in /users/kent/jmaharja/.local/lib/python3.6/site-packages (from requests->transformers==4.11.2) (2.8)\n",
      "Requirement already satisfied: zipp>=0.5 in /users/kent/jmaharja/.local/lib/python3.6/site-packages (from importlib-metadata->transformers==4.11.2) (0.6.0)\n",
      "Requirement already satisfied: python-dateutil>=2.5.0 in /users/kent/jmaharja/.local/lib/python3.6/site-packages (from pandas->datasets) (2.8.0)\n",
      "Requirement already satisfied: pytz>=2011k in /users/kent/jmaharja/.local/lib/python3.6/site-packages (from pandas->datasets) (2019.1)\n",
      "Requirement already satisfied: six in /users/kent/jmaharja/.local/lib/python3.6/site-packages (from sacremoses->transformers==4.11.2) (1.15.0)\n",
      "Requirement already satisfied: joblib in /users/kent/jmaharja/.local/lib/python3.6/site-packages (from sacremoses->transformers==4.11.2) (0.14.0)\n",
      "Requirement already satisfied: click in /users/kent/jmaharja/.local/lib/python3.6/site-packages (from sacremoses->transformers==4.11.2) (7.0)\n",
      "Requirement already satisfied: more-itertools in /users/kent/jmaharja/.local/lib/python3.6/site-packages (from zipp>=0.5->importlib-metadata->transformers==4.11.2) (7.2.0)\n",
      "Installing collected packages: transformers\n",
      "  Attempting uninstall: transformers\n",
      "    Found existing installation: transformers 4.17.0\n",
      "    Uninstalling transformers-4.17.0:\n",
      "      Successfully uninstalled transformers-4.17.0\n",
      "Successfully installed transformers-4.11.2\n"
     ]
    }
   ],
   "source": [
    "!pip install datasets transformers==4.11.2"
   ]
  },
  {
   "cell_type": "code",
   "execution_count": 5,
   "metadata": {},
   "outputs": [],
   "source": [
    "import os\n",
    "import pandas as pd\n",
    "import tqdm\n",
    "import math"
   ]
  },
  {
   "cell_type": "code",
   "execution_count": 6,
   "metadata": {},
   "outputs": [],
   "source": [
    "df =pd.read_csv('2020_01_01.csv',lineterminator='\\n',skipinitialspace=True, usecols= ['text'])\n"
   ]
  },
  {
   "cell_type": "code",
   "execution_count": 7,
   "metadata": {},
   "outputs": [
    {
     "data": {
      "text/plain": [
       "(1115630, 1)"
      ]
     },
     "execution_count": 7,
     "metadata": {},
     "output_type": "execute_result"
    }
   ],
   "source": [
    "df.rename(columns={'text':'Tweet'}, inplace=True)\n",
    "df = df.dropna()\n",
    "df.shape"
   ]
  },
  {
   "cell_type": "code",
   "execution_count": null,
   "metadata": {},
   "outputs": [],
   "source": []
  }
 ],
 "metadata": {
  "kernelspec": {
   "display_name": "gpu2",
   "language": "python",
   "name": "gpu2"
  },
  "language_info": {
   "codemirror_mode": {
    "name": "ipython",
    "version": 3
   },
   "file_extension": ".py",
   "mimetype": "text/x-python",
   "name": "python",
   "nbconvert_exporter": "python",
   "pygments_lexer": "ipython3",
   "version": "3.6.9"
  }
 },
 "nbformat": 4,
 "nbformat_minor": 2
}
