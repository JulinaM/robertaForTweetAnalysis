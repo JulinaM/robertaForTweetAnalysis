{
 "cells": [
  {
   "cell_type": "code",
   "execution_count": 1,
   "metadata": {},
   "outputs": [],
   "source": [
    "import os\n",
    "import json\n",
    "import pandas as pd\n",
    "entries = os.listdir('/data2/TwitterStreamRawData/TwitterData_2021/2021JunData')"
   ]
  },
  {
   "cell_type": "code",
   "execution_count": 2,
   "metadata": {},
   "outputs": [
    {
     "data": {
      "text/plain": [
       "['2021Jun06EnRaw.csv', '2021_06_06.json', '2021_06_20.json']"
      ]
     },
     "execution_count": 2,
     "metadata": {},
     "output_type": "execute_result"
    }
   ],
   "source": [
    "entries"
   ]
  },
  {
   "cell_type": "code",
   "execution_count": 9,
   "metadata": {},
   "outputs": [
    {
     "name": "stdout",
     "output_type": "stream",
     "text": [
      "/data2/TwitterStreamRawData/TwitterData_2021/2021JunData/2021_06_21_TweetsEN.json\n",
      "/data2/TwitterStreamRawData/TwitterData_2021/2021JunData/2021_06_06_TweetsEN.json\n",
      "/data2/TwitterStreamRawData/TwitterData_2021/2021JunData/2021_06_20_TweetsEN.json\n"
     ]
    }
   ],
   "source": [
    "for file in entries:\n",
    "    print('/data2/TwitterStreamRawData/TwitterData_2021/2021JunData/'+file[0:10]+'_TweetsEN.json')\n",
    "   "
   ]
  },
  {
   "cell_type": "code",
   "execution_count": 6,
   "metadata": {},
   "outputs": [
    {
     "data": {
      "text/plain": [
       "'/data2/TwitterStreamRawData/TwitterData_2021/2021JunData/01.json'"
      ]
     },
     "execution_count": 6,
     "metadata": {},
     "output_type": "execute_result"
    }
   ],
   "source": [
    "rootfile = \"/data2/TwitterStreamRawData/TwitterData_2021/2021JunData/\"\n",
    "file =\"01.json\"\n",
    "filename = rootfile + file\n",
    "filename"
   ]
  },
  {
   "cell_type": "code",
   "execution_count": 5,
   "metadata": {},
   "outputs": [],
   "source": [
    "#method one\n",
    "def raw_data_filter(file):\n",
    "    rootfile = \"/data2/TwitterStreamRawData/TwitterData_2021/2021JunData/\"\n",
    "    filename = rootfile + file\n",
    "    data = []\n",
    "    with open(filename, 'r', encoding='utf-8') as f:\n",
    "        while True:\n",
    "        #time.sleep(0.1)\n",
    "            try:\n",
    "                c = f.readline()\n",
    "                j = json.loads(c)\n",
    "                try:\n",
    "                    if j['delete']:\n",
    "                       continue\n",
    "                except Exception as e1:\n",
    "                    lang = j['lang']\n",
    "                    if lang == 'en':\n",
    "                        #row = {'created_at': j['created_at'], 'id': j['id'], 'text': j['text'], 'hashtag': j['entities']['hashtags'], 'coordinates': j['coordinates']['coordinates'] }\n",
    "                         #you can get all feature here,change the feature keywords\n",
    "                        #row = {'created_at': j['created_at'], 'id': j['id'], 'text': j['text']}\n",
    "                        #data.append(row)\n",
    "                        data.append(j)\n",
    "                \n",
    "            except Exception as e:\n",
    "                break\n",
    "    \n",
    "    df = pd.DataFrame(data)\n",
    "    outfile = '/data2/TwitterStreamRawData/TwitterData_2021/2021JunData/'+file[0:10]+'_TweetsEN.json'\n",
    "    df.to_json(outfile, orient='records', lines=True)\n"
   ]
  },
  {
   "cell_type": "code",
   "execution_count": 7,
   "metadata": {},
   "outputs": [
    {
     "ename": "NameError",
     "evalue": "name 'df' is not defined",
     "output_type": "error",
     "traceback": [
      "\u001b[0;31m---------------------------------------------------------------------------\u001b[0m",
      "\u001b[0;31mNameError\u001b[0m                                 Traceback (most recent call last)",
      "\u001b[0;32m<ipython-input-7-633337079cd0>\u001b[0m in \u001b[0;36m<module>\u001b[0;34m\u001b[0m\n\u001b[0;32m----> 1\u001b[0;31m \u001b[0mdf\u001b[0m\u001b[0;34m.\u001b[0m\u001b[0mshape\u001b[0m\u001b[0;34m\u001b[0m\u001b[0;34m\u001b[0m\u001b[0m\n\u001b[0m",
      "\u001b[0;31mNameError\u001b[0m: name 'df' is not defined"
     ]
    }
   ],
   "source": [
    "df.shape"
   ]
  },
  {
   "cell_type": "code",
   "execution_count": 6,
   "metadata": {},
   "outputs": [],
   "source": [
    "raw_data_filter('2021_06_20.json')"
   ]
  },
  {
   "cell_type": "code",
   "execution_count": 6,
   "metadata": {},
   "outputs": [],
   "source": [
    "for file in entries:\n",
    "    raw_data_filter(file)"
   ]
  },
  {
   "cell_type": "code",
   "execution_count": 9,
   "metadata": {},
   "outputs": [],
   "source": [
    "raw_data_filter('30.json')"
   ]
  }
 ],
 "metadata": {
  "interpreter": {
   "hash": "aee8b7b246df8f9039afb4144a1f6fd8d2ca17a180786b69acc140d282b71a49"
  },
  "kernelspec": {
   "display_name": "Python 3",
   "language": "python",
   "name": "python3"
  },
  "language_info": {
   "codemirror_mode": {
    "name": "ipython",
    "version": 3
   },
   "file_extension": ".py",
   "mimetype": "text/x-python",
   "name": "python",
   "nbconvert_exporter": "python",
   "pygments_lexer": "ipython3",
   "version": "3.8.8"
  },
  "orig_nbformat": 4
 },
 "nbformat": 4,
 "nbformat_minor": 2
}
