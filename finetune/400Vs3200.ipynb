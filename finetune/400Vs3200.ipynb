{
 "cells": [
  {
   "cell_type": "code",
   "execution_count": null,
   "metadata": {},
   "outputs": [],
   "source": [
    "# https://colab.research.google.com/github/DhavalTaunk08/NLP_scripts/blob/master/sentiment_analysis_using_roberta.ipynb#scrollTo=HMqQTafXEaei"
   ]
  },
  {
   "cell_type": "code",
   "execution_count": 1,
   "metadata": {
    "colab": {
     "base_uri": "https://localhost:8080/"
    },
    "id": "mjlMoTtP6zh4",
    "outputId": "044618cf-e1c2-4bca-f68d-1c188f9af205",
    "scrolled": true
   },
   "outputs": [
    {
     "name": "stdout",
     "output_type": "stream",
     "text": [
      "Wed May 31 14:49:51 2023       \n",
      "+-----------------------------------------------------------------------------+\n",
      "| NVIDIA-SMI 455.45.01    Driver Version: 455.45.01    CUDA Version: 11.1     |\n",
      "|-------------------------------+----------------------+----------------------+\n",
      "| GPU  Name        Persistence-M| Bus-Id        Disp.A | Volatile Uncorr. ECC |\n",
      "| Fan  Temp  Perf  Pwr:Usage/Cap|         Memory-Usage | GPU-Util  Compute M. |\n",
      "|                               |                      |               MIG M. |\n",
      "|===============================+======================+======================|\n",
      "|   0  GeForce RTX 3090    Off  | 00000000:1B:00.0 Off |                  N/A |\n",
      "| 39%   47C    P2   112W / 350W |  14617MiB / 24268MiB |      0%      Default |\n",
      "|                               |                      |                  N/A |\n",
      "+-------------------------------+----------------------+----------------------+\n",
      "|   1  GeForce RTX 3090    Off  | 00000000:3E:00.0 Off |                  N/A |\n",
      "| 35%   45C    P2   111W / 350W |   2405MiB / 24268MiB |      0%      Default |\n",
      "|                               |                      |                  N/A |\n",
      "+-------------------------------+----------------------+----------------------+\n",
      "|   2  GeForce RTX 3090    Off  | 00000000:89:00.0 Off |                  N/A |\n",
      "| 30%   20C    P8     7W / 350W |      2MiB / 24268MiB |      0%      Default |\n",
      "|                               |                      |                  N/A |\n",
      "+-------------------------------+----------------------+----------------------+\n",
      "|   3  GeForce RTX 3090    Off  | 00000000:B2:00.0 Off |                  N/A |\n",
      "| 30%   20C    P8     8W / 350W |      2MiB / 24268MiB |      0%      Default |\n",
      "|                               |                      |                  N/A |\n",
      "+-------------------------------+----------------------+----------------------+\n",
      "                                                                               \n",
      "+-----------------------------------------------------------------------------+\n",
      "| Processes:                                                                  |\n",
      "|  GPU   GI   CI        PID   Type   Process name                  GPU Memory |\n",
      "|        ID   ID                                                   Usage      |\n",
      "|=============================================================================|\n",
      "|    0   N/A  N/A   4067740      C   ...conda/envs/sri/bin/python     1769MiB |\n",
      "|    0   N/A  N/A   4070936      C   ...conda/envs/sri/bin/python     1763MiB |\n",
      "|    0   N/A  N/A   4075569      C   ...conda/envs/sri/bin/python     2919MiB |\n",
      "|    0   N/A  N/A   4082512      C   ...conda/envs/sri/bin/python     2841MiB |\n",
      "|    0   N/A  N/A   4119871      C   ...conda/envs/sri/bin/python     1775MiB |\n",
      "|    0   N/A  N/A   4126230      C   ...conda/envs/sri/bin/python     1771MiB |\n",
      "|    1   N/A  N/A   4067740      C   ...conda/envs/sri/bin/python        0MiB |\n",
      "|    1   N/A  N/A   4070936      C   ...conda/envs/sri/bin/python        0MiB |\n",
      "|    1   N/A  N/A   4075569      C   ...conda/envs/sri/bin/python        0MiB |\n",
      "|    1   N/A  N/A   4082512      C   ...conda/envs/sri/bin/python        0MiB |\n",
      "|    1   N/A  N/A   4119871      C   ...conda/envs/sri/bin/python        0MiB |\n",
      "|    1   N/A  N/A   4126230      C   ...conda/envs/sri/bin/python        0MiB |\n",
      "|    2   N/A  N/A   4067740      C   ...conda/envs/sri/bin/python        0MiB |\n",
      "|    2   N/A  N/A   4070936      C   ...conda/envs/sri/bin/python        0MiB |\n",
      "|    2   N/A  N/A   4075569      C   ...conda/envs/sri/bin/python        0MiB |\n",
      "|    2   N/A  N/A   4082512      C   ...conda/envs/sri/bin/python        0MiB |\n",
      "|    2   N/A  N/A   4119871      C   ...conda/envs/sri/bin/python        0MiB |\n",
      "|    2   N/A  N/A   4126230      C   ...conda/envs/sri/bin/python        0MiB |\n",
      "|    3   N/A  N/A   4067740      C   ...conda/envs/sri/bin/python        0MiB |\n",
      "|    3   N/A  N/A   4070936      C   ...conda/envs/sri/bin/python        0MiB |\n",
      "|    3   N/A  N/A   4075569      C   ...conda/envs/sri/bin/python        0MiB |\n",
      "|    3   N/A  N/A   4082512      C   ...conda/envs/sri/bin/python        0MiB |\n",
      "|    3   N/A  N/A   4119871      C   ...conda/envs/sri/bin/python        0MiB |\n",
      "|    3   N/A  N/A   4126230      C   ...conda/envs/sri/bin/python        0MiB |\n",
      "+-----------------------------------------------------------------------------+\n"
     ]
    }
   ],
   "source": [
    "!nvidia-smi"
   ]
  },
  {
   "cell_type": "code",
   "execution_count": 2,
   "metadata": {
    "colab": {
     "base_uri": "https://localhost:8080/"
    },
    "id": "l59zl8RALeLS",
    "outputId": "6398f014-8da0-4246-a1c6-273ed1ead195"
   },
   "outputs": [
    {
     "name": "stderr",
     "output_type": "stream",
     "text": [
      "/home/jmaharja/anaconda3/envs/gpu/lib/python3.11/site-packages/tqdm/auto.py:21: TqdmWarning: IProgress not found. Please update jupyter and ipywidgets. See https://ipywidgets.readthedocs.io/en/stable/user_install.html\n",
      "  from .autonotebook import tqdm as notebook_tqdm\n"
     ]
    }
   ],
   "source": [
    "import transformers\n",
    "from transformers import BertModel, BertTokenizer, AdamW, get_linear_schedule_with_warmup\n",
    "import torch\n",
    "import numpy as np\n",
    "import pandas as pd\n",
    "import seaborn as sns\n",
    "from pylab import rcParams\n",
    "import matplotlib.pyplot as plt\n",
    "from matplotlib import rc\n",
    "from sklearn.model_selection import train_test_split\n",
    "from sklearn.metrics import confusion_matrix, classification_report, roc_auc_score, roc_curve\n",
    "from collections import defaultdict\n",
    "from textwrap import wrap\n",
    "from datetime import datetime\n",
    "import torch.nn.functional as F\n",
    "from torch import nn, optim\n",
    "from torch.utils.data import Dataset, DataLoader\n",
    "import re\n",
    "# import emoji\n",
    "# import nltk\n",
    "# nltk.download('words')\n",
    "# words = set(nltk.corpus.words.words())"
   ]
  },
  {
   "cell_type": "code",
   "execution_count": 3,
   "metadata": {},
   "outputs": [
    {
     "data": {
      "text/plain": [
       "'2023_05_31-02_49PM'"
      ]
     },
     "execution_count": 3,
     "metadata": {},
     "output_type": "execute_result"
    }
   ],
   "source": [
    "current_time = datetime.now().strftime(\"%Y_%m_%d-%I_%M%p\")\n",
    "current_time"
   ]
  },
  {
   "cell_type": "code",
   "execution_count": 4,
   "metadata": {
    "colab": {
     "base_uri": "https://localhost:8080/"
    },
    "id": "vOf9SIPJlkb4",
    "outputId": "4e017760-6961-4b6a-9091-4ea0012a1fc4"
   },
   "outputs": [],
   "source": [
    "%matplotlib inline\n",
    "%config InlineBackend.figure_format='retina'\n",
    "\n",
    "sns.set(style='whitegrid', palette='muted', font_scale=1.2)\n",
    "HAPPY_COLORS_PALETTE = [\"#01BEFE\", \"#FFDD00\", \"#FF7D00\", \"#FF006D\", \"#ADFF02\", \"#8F00FF\"]\n",
    "sns.set_palette(sns.color_palette(HAPPY_COLORS_PALETTE))\n",
    "\n",
    "rcParams['figure.figsize'] = 12, 8\n",
    "RANDOM_SEED = 42\n",
    "np.random.seed(RANDOM_SEED)\n",
    "torch.manual_seed(RANDOM_SEED)\n",
    "device = torch.device(\"cuda:0\" if torch.cuda.is_available() else \"cpu\")"
   ]
  },
  {
   "cell_type": "code",
   "execution_count": 5,
   "metadata": {},
   "outputs": [
    {
     "data": {
      "text/plain": [
       "(4467, 5)"
      ]
     },
     "execution_count": 5,
     "metadata": {},
     "output_type": "execute_result"
    }
   ],
   "source": [
    "df1 =pd.read_csv('/data/jmharja/projects/robertaForTweetAnalysis/input/Tweets_Spring_Summer_2021_coded.csv',lineterminator='\\n',skipinitialspace=True,)\n",
    "# df1['label']= 1\n",
    "# df1.drop(df1.columns[[0, 2,3,4]], axis=1, inplace=True)\n",
    "df1.shape"
   ]
  },
  {
   "cell_type": "code",
   "execution_count": 6,
   "metadata": {},
   "outputs": [
    {
     "name": "stderr",
     "output_type": "stream",
     "text": [
      "/tmp/ipykernel_869005/563259533.py:4: SettingWithCopyWarning: \n",
      "A value is trying to be set on a copy of a slice from a DataFrame\n",
      "\n",
      "See the caveats in the documentation: https://pandas.pydata.org/pandas-docs/stable/user_guide/indexing.html#returning-a-view-versus-a-copy\n",
      "  df1_pos.drop(df1_pos.columns[[0, 2,3,4]], axis=1, inplace=True)\n",
      "/tmp/ipykernel_869005/563259533.py:5: SettingWithCopyWarning: \n",
      "A value is trying to be set on a copy of a slice from a DataFrame\n",
      "\n",
      "See the caveats in the documentation: https://pandas.pydata.org/pandas-docs/stable/user_guide/indexing.html#returning-a-view-versus-a-copy\n",
      "  df1_neg.drop(df1_neg.columns[[0, 2,3,4]], axis=1, inplace=True)\n",
      "/tmp/ipykernel_869005/563259533.py:6: SettingWithCopyWarning: \n",
      "A value is trying to be set on a copy of a slice from a DataFrame.\n",
      "Try using .loc[row_indexer,col_indexer] = value instead\n",
      "\n",
      "See the caveats in the documentation: https://pandas.pydata.org/pandas-docs/stable/user_guide/indexing.html#returning-a-view-versus-a-copy\n",
      "  df1_pos['label']= 1\n",
      "/tmp/ipykernel_869005/563259533.py:7: SettingWithCopyWarning: \n",
      "A value is trying to be set on a copy of a slice from a DataFrame.\n",
      "Try using .loc[row_indexer,col_indexer] = value instead\n",
      "\n",
      "See the caveats in the documentation: https://pandas.pydata.org/pandas-docs/stable/user_guide/indexing.html#returning-a-view-versus-a-copy\n",
      "  df1_neg['label']= 0\n"
     ]
    },
    {
     "data": {
      "text/plain": [
       "((3605, 2), (456, 2))"
      ]
     },
     "execution_count": 6,
     "metadata": {},
     "output_type": "execute_result"
    }
   ],
   "source": [
    "df1_pos = df1.loc[(df1['Substance'] != 'X') & (df1['Use'] != 'X') & (df1['Intent'] != 'X')]\n",
    "df1_neg = df1.loc[(df1['Substance'] == 'X') & (df1['Use'] == 'X') & (df1['Intent'] == 'X')]\n",
    "\n",
    "df1_pos.drop(df1_pos.columns[[0, 2,3,4]], axis=1, inplace=True)\n",
    "df1_neg.drop(df1_neg.columns[[0, 2,3,4]], axis=1, inplace=True)\n",
    "df1_pos['label']= 1\n",
    "df1_neg['label']= 0\n",
    "df1_neg.shape,  df1_pos.shape"
   ]
  },
  {
   "cell_type": "code",
   "execution_count": 7,
   "metadata": {},
   "outputs": [
    {
     "data": {
      "text/plain": [
       "(821, 4)"
      ]
     },
     "execution_count": 7,
     "metadata": {},
     "output_type": "execute_result"
    }
   ],
   "source": [
    "# prediction result reviewed by Dr. King added for re-training\n",
    "df2 =pd.read_csv('/data/jmharja/projects/robertaForTweetAnalysis/input/ReviewedPrediction.csv',lineterminator='\\n', skipinitialspace=True,)\n",
    "df2.rename(columns = {'tweet':'Tweet'}, inplace = True)\n",
    "df2 = df2.loc[:, ~df2.columns.str.contains('^Unnamed')]\n",
    "df2.shape"
   ]
  },
  {
   "cell_type": "code",
   "execution_count": 8,
   "metadata": {},
   "outputs": [
    {
     "name": "stderr",
     "output_type": "stream",
     "text": [
      "/tmp/ipykernel_869005/3210941477.py:3: SettingWithCopyWarning: \n",
      "A value is trying to be set on a copy of a slice from a DataFrame\n",
      "\n",
      "See the caveats in the documentation: https://pandas.pydata.org/pandas-docs/stable/user_guide/indexing.html#returning-a-view-versus-a-copy\n",
      "  df2_pos.drop(df2_pos.columns[[2,3,1]], axis=1, inplace=True)\n",
      "/tmp/ipykernel_869005/3210941477.py:4: SettingWithCopyWarning: \n",
      "A value is trying to be set on a copy of a slice from a DataFrame\n",
      "\n",
      "See the caveats in the documentation: https://pandas.pydata.org/pandas-docs/stable/user_guide/indexing.html#returning-a-view-versus-a-copy\n",
      "  df2_neg.drop(df2_neg.columns[[2,3,1]], axis=1, inplace=True)\n",
      "/tmp/ipykernel_869005/3210941477.py:5: SettingWithCopyWarning: \n",
      "A value is trying to be set on a copy of a slice from a DataFrame.\n",
      "Try using .loc[row_indexer,col_indexer] = value instead\n",
      "\n",
      "See the caveats in the documentation: https://pandas.pydata.org/pandas-docs/stable/user_guide/indexing.html#returning-a-view-versus-a-copy\n",
      "  df2_pos['label']= 1\n",
      "/tmp/ipykernel_869005/3210941477.py:6: SettingWithCopyWarning: \n",
      "A value is trying to be set on a copy of a slice from a DataFrame.\n",
      "Try using .loc[row_indexer,col_indexer] = value instead\n",
      "\n",
      "See the caveats in the documentation: https://pandas.pydata.org/pandas-docs/stable/user_guide/indexing.html#returning-a-view-versus-a-copy\n",
      "  df2_neg['label']= 0\n"
     ]
    },
    {
     "data": {
      "text/plain": [
       "((641, 2), (180, 2))"
      ]
     },
     "execution_count": 8,
     "metadata": {},
     "output_type": "execute_result"
    }
   ],
   "source": [
    "df2_pos = df2.loc[(df2['type'] == 1) | (df2['use'] == 1) | (df2['intent'] ==1)]\n",
    "df2_neg = df2.loc[(df2['type'] != 1) & (df2['use'] != 1) & (df2['intent'] !=1)]\n",
    "df2_pos.drop(df2_pos.columns[[2,3,1]], axis=1, inplace=True)\n",
    "df2_neg.drop(df2_neg.columns[[2,3,1]], axis=1, inplace=True)\n",
    "df2_pos['label']= 1\n",
    "df2_neg['label']= 0\n",
    "df2_neg.shape,  df2_pos.shape"
   ]
  },
  {
   "cell_type": "code",
   "execution_count": 9,
   "metadata": {},
   "outputs": [
    {
     "data": {
      "text/plain": [
       "((412, 2), (710, 2))"
      ]
     },
     "execution_count": 9,
     "metadata": {},
     "output_type": "execute_result"
    }
   ],
   "source": [
    "# iteration (predicted result added for re-training)\n",
    "df3 =pd.read_csv('/data/jmharja/projects/robertaForTweetAnalysis/input/ReviewedPrediction_1.csv',lineterminator='\\n', skipinitialspace=True,)\n",
    "df3_pos= df3.loc[df3['label']==1]\n",
    "df3_neg = df3.loc[df3['label']==0]\n",
    "df3_neg.shape, df3_pos.shape"
   ]
  },
  {
   "cell_type": "code",
   "execution_count": 11,
   "metadata": {},
   "outputs": [],
   "source": [
    "# # predicted result from 202212 filtered by chatgpt added for retraining\n",
    "# df4_pos =pd.read_csv('test_result/chatgpt/all_pos.csv',lineterminator='\\n', skipinitialspace=True,)\n",
    "# df4_neg =pd.read_csv('test_result/chatgpt/all_neg.csv',lineterminator='\\n', skipinitialspace=True,)\n",
    "# df4_pos.drop(df4_pos.columns[[0]], axis=1, inplace=True)\n",
    "# df4_neg.drop(df4_neg.columns[[0]], axis=1, inplace=True)\n",
    "# df4_pos['label']= 1\n",
    "# df4_neg['label']= 0\n",
    "# df4_neg.shape, df4_pos.shape"
   ]
  },
  {
   "cell_type": "code",
   "execution_count": 10,
   "metadata": {},
   "outputs": [
    {
     "data": {
      "text/plain": [
       "((4658, 2), (1346, 2))"
      ]
     },
     "execution_count": 10,
     "metadata": {},
     "output_type": "execute_result"
    }
   ],
   "source": [
    "# df_pos = pd.concat([df1_pos, df2_pos, df3_pos, df4_pos])\n",
    "# df_neg = pd.concat([df1_neg, df2_neg, df3_neg, df4_neg])\n",
    "df_pos = pd.concat([df1_pos, df2_pos, df3_pos])\n",
    "df_neg = pd.concat([df1_neg, df2_neg, df3_neg])\n",
    "df_neg.shape,  df_pos.shape"
   ]
  },
  {
   "cell_type": "code",
   "execution_count": 11,
   "metadata": {},
   "outputs": [
    {
     "data": {
      "text/plain": [
       "(5725, 2)"
      ]
     },
     "execution_count": 11,
     "metadata": {},
     "output_type": "execute_result"
    }
   ],
   "source": [
    "# foldername = '400Vs2000'\n",
    "df1 = df_pos[:1150]\n",
    "df2 = df_neg[:4575]\n",
    "df = pd.concat([df1,df2])\n",
    "df.shape"
   ]
  },
  {
   "cell_type": "code",
   "execution_count": 14,
   "metadata": {},
   "outputs": [],
   "source": [
    "# df2 =pd.read_csv('/users/kent/jmaharja/drugAbuse/input/2020_01_31_CleanedTweets.csv',\n",
    "#                 lineterminator='\\n',\n",
    "#                 skipinitialspace=True\n",
    "#                 )\n",
    "# df2.drop(df2.columns[[0, 1]], axis=1, inplace=True)\n",
    "# df2.rename({'text': 'Tweet'}, axis=1, inplace=True)\n",
    "# df2['label'] = 0\n",
    "# df4 = df2[1160000:]\n",
    "# df2 = df2[:800]\n",
    "# df4 = df4[:200]\n",
    "# df2.shape, df4.shape"
   ]
  },
  {
   "cell_type": "code",
   "execution_count": 12,
   "metadata": {},
   "outputs": [
    {
     "data": {
      "text/plain": [
       "(279, 2)"
      ]
     },
     "execution_count": 12,
     "metadata": {},
     "output_type": "execute_result"
    }
   ],
   "source": [
    "# df_test =pd.read_csv('/users/kent/jmaharja/drugAbuse/finetune/test_new.csv',\n",
    "# #                    error_bad_lines=False,\n",
    "#                 lineterminator='\\n',\n",
    "#                 skipinitialspace=True\n",
    "#                 )\n",
    "# df_test.drop(df_test.columns[[1, 2, 3]], axis=1, inplace=True)\n",
    "# # df_test.rename({'text': 'Tweet'}, axis=1, inplace=True)\n",
    "# # df_test['label']=/ 1\n",
    "# df_test = df_test.rename(columns={df_test.columns[1]: 'label'})\n",
    "df_test_neg = df_neg[4575:]\n",
    "df_test_pos = df_pos[1150:]\n",
    "df3 = pd.concat([df_test_pos,df_test_neg])\n",
    "df3.shape"
   ]
  },
  {
   "cell_type": "markdown",
   "metadata": {
    "id": "i29J68U9Sk9S"
   },
   "source": [
    "# DATA PREPROCESSING"
   ]
  },
  {
   "cell_type": "code",
   "execution_count": 16,
   "metadata": {},
   "outputs": [],
   "source": [
    "# #choosing sequence length\n",
    "# token_lens = []\n",
    "# for txt in df.Tweet:\n",
    "#   tokens = tokenizer.encode(txt)\n",
    "#   token_lens.append(len(tokens))\n",
    "# sns.distplot(token_lens)\n",
    "# plt.xlim([0, 200])\n",
    "# plt.xlabel('Token count')\n",
    "\n",
    "# MAX_LEN = 80"
   ]
  },
  {
   "cell_type": "code",
   "execution_count": 25,
   "metadata": {
    "id": "iMU0a8QCTR3L"
   },
   "outputs": [
    {
     "name": "stderr",
     "output_type": "stream",
     "text": [
      "The tokenizer class you load from this checkpoint is not the same type as the class this function is called from. It may result in unexpected tokenization. \n",
      "The tokenizer class you load from this checkpoint is 'BertTokenizer'. \n",
      "The class this function is called from is 'RobertaTokenizer'.\n",
      "The tokenizer class you load from this checkpoint is not the same type as the class this function is called from. It may result in unexpected tokenization. \n",
      "The tokenizer class you load from this checkpoint is 'BertTokenizer'. \n",
      "The class this function is called from is 'RobertaTokenizerFast'.\n"
     ]
    }
   ],
   "source": [
    "MAX_LEN = 128\n",
    "from transformers import RobertaTokenizerFast\n",
    "from transformers.models.roberta.modeling_roberta import RobertaPreTrainedModel\n",
    "\n",
    "# Create the tokenizer from a trained one\n",
    "tokenizer_folder = '/data/jmharja/projects/robertaForTweetAnalysis/output/oct2022/TokRoBERTa'\n",
    "tokenizer = RobertaTokenizerFast.from_pretrained(tokenizer_folder, max_len=MAX_LEN)"
   ]
  },
  {
   "cell_type": "code",
   "execution_count": 26,
   "metadata": {
    "id": "eu0sHr3QhB0l"
   },
   "outputs": [],
   "source": [
    "from torch.utils.data import Dataset\n",
    "class Tweet_DataSet(Dataset):\n",
    "   def __init__(self, data, tokenizer, max_len):\n",
    "    self.data = data\n",
    "    self.data['Tweet'] = self.data['Tweet'].map(lambda x: self.cleaner(x))\n",
    "    self.tokenizer = tokenizer\n",
    "    self.max_len = max_len\n",
    "    \n",
    "  \n",
    "   def __len__(self):\n",
    "    return len(self.data)\n",
    "\n",
    "   def cleaner(self, tweet):\n",
    "#         print(tweet)\n",
    "        tweet = re.sub(\"@[A-Za-z0-9]+\",\"\", tweet) #Remove @ sign\n",
    "        tweet = re.sub(r\"(?:\\@|http?\\://|https?\\://|www)\\S+\", \"\", tweet) #Remove http links\n",
    "        tweet = \" \".join(tweet.split())\n",
    "        #     tweet = ''.join(c for c in tweet if c not in emoji.UNICODE_EMOJI) #Remove Emojis\n",
    "        #     tweet = tweet.replace(\"#\", \"\").replace(\"_\", \" \") #Remove hashtag sign but keep the text\n",
    "        #     tweet = \" \".join(w for w in nltk.wordpunct_tokenize(tweet) \\\n",
    "        #          if w.lower() in words or not w.isalpha())\n",
    "        return tweet\n",
    "    \n",
    "        \n",
    "  \n",
    "   def __getitem__(self, index:int):\n",
    "    data_row = self.data.iloc[index]\n",
    "    tweet = data_row.Tweet\n",
    "    labels = data_row['label']\n",
    "    encoding = tokenizer.encode_plus(tweet,\n",
    "                                     None,\n",
    "                                     max_length = MAX_LEN,\n",
    "                                     truncation=True,\n",
    "                                     pad_to_max_length=True,\n",
    "                                     add_special_tokens=True,\n",
    "                                     padding='max_length',\n",
    "                                     return_token_type_ids=True)\n",
    "\n",
    "    return {\n",
    "      'tweet_text': tweet,\n",
    "      'input_ids': torch.tensor(encoding.input_ids, dtype=torch.long),\n",
    "      'attention_mask':  torch.tensor(encoding.attention_mask, dtype=torch.long),\n",
    "      'token_type_ids': torch.tensor(encoding.token_type_ids, dtype=torch.long),\n",
    "      'targets': torch.tensor(labels, dtype=torch.long)\n",
    "    }"
   ]
  },
  {
   "cell_type": "code",
   "execution_count": 27,
   "metadata": {
    "id": "wp8kq4BikWLs"
   },
   "outputs": [
    {
     "data": {
      "text/plain": [
       "((5152, 2), (573, 2), (279, 2))"
      ]
     },
     "execution_count": 27,
     "metadata": {},
     "output_type": "execute_result"
    }
   ],
   "source": [
    "from sklearn.model_selection import train_test_split\n",
    "df_train, df_test = train_test_split(df, test_size=0.1, random_state=RANDOM_SEED)\n",
    "# df_val, df_test = train_test_split(df_test, test_size=0.5, random_state=RANDOM_SEED)\n",
    "df_val = df_test\n",
    "df_test = df3\n",
    "df_train.shape, df_val.shape, df_test.shape"
   ]
  },
  {
   "cell_type": "code",
   "execution_count": 28,
   "metadata": {
    "id": "UZy66nwyDuXp"
   },
   "outputs": [],
   "source": [
    "def create_data_loader(df, tokenizer, max_len, batch_size):\n",
    "  ds = Tweet_DataSet(df,tokenizer=tokenizer,max_len=max_len)\n",
    "  return DataLoader(ds, batch_size=batch_size,num_workers=4)\n",
    "\n",
    "BATCH_SIZE = 16\n",
    "train_data_loader = create_data_loader(df_train, tokenizer, MAX_LEN, BATCH_SIZE)\n",
    "val_data_loader = create_data_loader(df_val, tokenizer, MAX_LEN, BATCH_SIZE)\n",
    "test_data_loader = create_data_loader(df_test, tokenizer, MAX_LEN, BATCH_SIZE)"
   ]
  },
  {
   "cell_type": "code",
   "execution_count": 29,
   "metadata": {},
   "outputs": [],
   "source": [
    "# from transformers.models.roberta.modeling_roberta import RobertaPreTrainedModel\n",
    "# from transformers import RobertaModel, RobertaConfig, logging\n",
    "\n",
    "class TweetModel(RobertaPreTrainedModel):\n",
    "    def __init__(self, conf, n_classes):\n",
    "        super(TweetModel, self).__init__(conf)\n",
    "        self.roberta = transformers.RobertaModel.from_pretrained('/data/jmharja/projects/robertaForTweetAnalysis/output/oct2022/RoBERTaMLM/', config=conf)\n",
    "        self.drop_out = nn.Dropout(0.5)\n",
    "        self.pre_classifier = torch.nn.Linear(768, 768)\n",
    "        self.classifier = nn.Linear(768, n_classes)\n",
    "        \n",
    "    def forward(self, input_ids, attention_mask, token_type_ids):\n",
    "        output_1 = self.roberta(input_ids=input_ids, attention_mask=attention_mask, token_type_ids=token_type_ids)\n",
    "        hidden_state = output_1[0]\n",
    "        pooler = hidden_state[:, 0]\n",
    "        pooler = self.pre_classifier(pooler)\n",
    "        pooler = torch.nn.ReLU()(pooler)\n",
    "        pooler = self.drop_out(pooler)\n",
    "        output = self.classifier(pooler)\n",
    "        return output\n"
   ]
  },
  {
   "cell_type": "code",
   "execution_count": 30,
   "metadata": {},
   "outputs": [
    {
     "name": "stderr",
     "output_type": "stream",
     "text": [
      "Some weights of the model checkpoint at /data/jmharja/projects/robertaForTweetAnalysis/output/oct2022/RoBERTaMLM/ were not used when initializing RobertaModel: ['lm_head.layer_norm.weight', 'lm_head.dense.weight', 'lm_head.bias', 'lm_head.dense.bias', 'lm_head.layer_norm.bias']\n",
      "- This IS expected if you are initializing RobertaModel from the checkpoint of a model trained on another task or with another architecture (e.g. initializing a BertForSequenceClassification model from a BertForPreTraining model).\n",
      "- This IS NOT expected if you are initializing RobertaModel from the checkpoint of a model that you expect to be exactly identical (initializing a BertForSequenceClassification model from a BertForSequenceClassification model).\n",
      "Some weights of RobertaModel were not initialized from the model checkpoint at /data/jmharja/projects/robertaForTweetAnalysis/output/oct2022/RoBERTaMLM/ and are newly initialized: ['roberta.pooler.dense.weight', 'roberta.pooler.dense.bias']\n",
      "You should probably TRAIN this model on a down-stream task to be able to use it for predictions and inference.\n"
     ]
    }
   ],
   "source": [
    "from transformers import RobertaConfig\n",
    "\n",
    "config = RobertaConfig(\n",
    "    vocab_size=8192,\n",
    "    max_position_embeddings=514,\n",
    "    num_attention_heads=12,\n",
    "    num_hidden_layers=6,\n",
    "    type_vocab_size=1,\n",
    "    hidden_size=768,\n",
    "    pad_token_id=1\n",
    ")\n",
    "\n",
    "model = TweetModel(config, 2)\n",
    "model = model.to(device)"
   ]
  },
  {
   "cell_type": "code",
   "execution_count": 31,
   "metadata": {
    "id": "WigPq2Cz3Aqa"
   },
   "outputs": [
    {
     "name": "stderr",
     "output_type": "stream",
     "text": [
      "/home/jmaharja/anaconda3/envs/gpu/lib/python3.11/site-packages/transformers/optimization.py:407: FutureWarning: This implementation of AdamW is deprecated and will be removed in a future version. Use the PyTorch implementation torch.optim.AdamW instead, or set `no_deprecation_warning=True` to disable this warning\n",
      "  warnings.warn(\n"
     ]
    }
   ],
   "source": [
    "#training\n",
    "EPOCHS = 16\n",
    "\n",
    "optimizer = AdamW(model.parameters(), lr=2e-5, correct_bias=False)\n",
    "total_steps = len(train_data_loader) * EPOCHS\n",
    "\n",
    "scheduler = get_linear_schedule_with_warmup(optimizer, num_warmup_steps=0, num_training_steps=total_steps)\n",
    "loss_fn = nn.CrossEntropyLoss().to(device)"
   ]
  },
  {
   "cell_type": "code",
   "execution_count": 32,
   "metadata": {
    "id": "-lMBp21F3G3Q"
   },
   "outputs": [],
   "source": [
    "def train_epoch(model, data_loader, loss_fn, optimizer, device, scheduler, n_examples):\n",
    "  model = model.train()\n",
    "  losses = []\n",
    "  correct_predictions = 0\n",
    "     \n",
    "  for d in data_loader:\n",
    "    input_ids = d[\"input_ids\"].to(device)\n",
    "    attention_mask = d[\"attention_mask\"].to(device)\n",
    "    token_type_ids = d[\"token_type_ids\"].to(device)\n",
    "    targets = d[\"targets\"].to(device)\n",
    "\n",
    "    outputs = model(input_ids=input_ids, attention_mask=attention_mask, token_type_ids=token_type_ids)\n",
    "\n",
    "    big_val, big_idx = torch.max(outputs, dim=1)\n",
    "    correct_predictions += torch.sum(big_idx == targets)\n",
    "\n",
    "    loss = loss_fn(outputs, targets)\n",
    "    losses.append(loss.item())\n",
    "\n",
    "    loss.backward()\n",
    "    nn.utils.clip_grad_norm_(model.parameters(), max_norm=1.0)\n",
    "    optimizer.step()\n",
    "    scheduler.step()\n",
    "    optimizer.zero_grad()\n",
    "\n",
    "  return correct_predictions.double()/n_examples, np.mean(losses)"
   ]
  },
  {
   "cell_type": "code",
   "execution_count": 33,
   "metadata": {
    "id": "_DEVC-rR3Rb6"
   },
   "outputs": [],
   "source": [
    "def eval_model(model, data_loader, loss_fn, device, n_examples):\n",
    "  model = model.eval()\n",
    "\n",
    "  losses = []\n",
    "  correct_predictions = 0\n",
    "\n",
    "  with torch.no_grad():\n",
    "    for d in data_loader:\n",
    "      input_ids = d[\"input_ids\"].to(device)\n",
    "      attention_mask = d[\"attention_mask\"].to(device)\n",
    "      token_type_ids = d[\"token_type_ids\"].to(device)\n",
    "      targets = d[\"targets\"].to(device)\n",
    "\n",
    "      outputs = model(\n",
    "        input_ids=input_ids,\n",
    "        attention_mask=attention_mask,\n",
    "        token_type_ids=token_type_ids\n",
    "      )\n",
    "      _, preds = torch.max(outputs, dim=1)\n",
    "      correct_predictions += torch.sum(preds == targets)\n",
    "\n",
    "      loss = loss_fn(outputs, targets)\n",
    "      losses.append(loss.item())\n",
    "\n",
    "  return correct_predictions.double()/n_examples, np.mean(losses)"
   ]
  },
  {
   "cell_type": "code",
   "execution_count": null,
   "metadata": {
    "colab": {
     "base_uri": "https://localhost:8080/"
    },
    "id": "xnG-gI1f3XUC",
    "outputId": "a39a6bce-c0e5-4490-ea63-517efb30fa94"
   },
   "outputs": [
    {
     "name": "stdout",
     "output_type": "stream",
     "text": [
      "**************************************** Training\n",
      "2023_05_31-03_00PM\n",
      "Epoch 1/16\n",
      "----------\n",
      "Train loss 0.32225217212350193 accuracy 0.8866459627329193\n",
      "Val   loss 0.2702035355614498 accuracy 0.9284467713787086\n",
      "\n",
      "Epoch 2/16\n",
      "----------\n",
      "Train loss 0.19393658998526447 accuracy 0.9419642857142857\n",
      "Val   loss 0.25184288301453406 accuracy 0.9301919720767888\n",
      "\n",
      "Epoch 3/16\n",
      "----------\n",
      "Train loss 0.138300412988886 accuracy 0.9642857142857143\n",
      "Val   loss 0.270094422222529 accuracy 0.924956369982548\n",
      "\n",
      "Epoch 4/16\n",
      "----------\n",
      "Train loss 0.09323646913294142 accuracy 0.9778726708074534\n",
      "Val   loss 0.32098754246059497 accuracy 0.9284467713787086\n",
      "\n",
      "Epoch 5/16\n",
      "----------\n",
      "Train loss 0.07232052833546873 accuracy 0.984666149068323\n",
      "Val   loss 0.35192572517553344 accuracy 0.924956369982548\n",
      "\n",
      "Epoch 6/16\n",
      "----------\n",
      "Train loss 0.054923700462207514 accuracy 0.9879658385093167\n",
      "Val   loss 0.4110817005114061 accuracy 0.9197207678883071\n",
      "\n",
      "Epoch 7/16\n",
      "----------\n",
      "Train loss 0.0370469356147516 accuracy 0.9912655279503105\n",
      "Val   loss 0.4787647134168462 accuracy 0.9162303664921466\n",
      "\n",
      "Epoch 8/16\n",
      "----------\n",
      "Train loss 0.030178233971054628 accuracy 0.9935947204968945\n",
      "Val   loss 0.5219657334791918 accuracy 0.9179755671902269\n",
      "\n",
      "Epoch 9/16\n",
      "----------\n",
      "Train loss 0.026658752745178566 accuracy 0.9941770186335404\n",
      "Val   loss 0.5307477141984438 accuracy 0.9214659685863874\n",
      "\n",
      "Epoch 10/16\n",
      "----------\n",
      "Train loss 0.01992871193197174 accuracy 0.9955357142857143\n",
      "Val   loss 0.5299230223274409 accuracy 0.9232111692844677\n",
      "\n",
      "Epoch 11/16\n",
      "----------\n",
      "Train loss 0.01835483179803638 accuracy 0.9959239130434783\n",
      "Val   loss 0.5806182392477948 accuracy 0.9197207678883071\n",
      "\n",
      "Epoch 12/16\n",
      "----------\n",
      "Train loss 0.014196527272095477 accuracy 0.9965062111801242\n",
      "Val   loss 0.5954093228952944 accuracy 0.9197207678883071\n",
      "\n",
      "Epoch 13/16\n",
      "----------\n"
     ]
    }
   ],
   "source": [
    "from os.path import exists\n",
    "# %%time\n",
    "\n",
    "# set to True if you want to train the model\n",
    "# otherwise use the existing trained model\n",
    "FORCE_TRAIN = True\n",
    "\n",
    "# download trained model\n",
    "# !gdown --id 1QQ2d0_yFStL2rXz2eHoXpgRMvPWtMMeX\n",
    "\n",
    "print(40*\"*\", 'Training')\n",
    "current_time = datetime.now().strftime(\"%Y_%m_%d-%I_%M%p\")\n",
    "print(current_time)\n",
    "history = defaultdict(list)\n",
    "best_accuracy = 0\n",
    "val_acc = 0 \n",
    "\n",
    "for epoch in range(EPOCHS):\n",
    "\n",
    "\n",
    "#   modelPath = \"checkpoint/best_ftc_model_state.bin\"\n",
    "#   if (exists(modelPath) and FORCE_TRAIN == False ): # if model exists load it otherwise rebuild\n",
    "#     torch.load(modelPath)\n",
    "#     break # exit out of training\n",
    "  \n",
    "\n",
    "  print(f'Epoch {epoch + 1}/{EPOCHS}')\n",
    "  print('-' * 10)\n",
    "\n",
    "  train_acc, train_loss = train_epoch(model, train_data_loader, loss_fn, optimizer, device, scheduler, len(df_train))\n",
    "  print(f'Train loss {train_loss} accuracy {train_acc}')\n",
    "\n",
    "  val_acc, val_loss = eval_model(model, val_data_loader,loss_fn, device, len(df_val))\n",
    "\n",
    "  print(f'Val   loss {val_loss} accuracy {val_acc}')\n",
    "  print()\n",
    "\n",
    "  history['train_acc'].append(train_acc)\n",
    "  history['train_loss'].append(train_loss)\n",
    "  history['val_acc'].append(val_acc)\n",
    "  history['val_loss'].append(val_loss)\n",
    "\n",
    "  if val_acc > best_accuracy:\n",
    "    curr_time = datetime.now().strftime(\"%Y_%m_%d-%I_%M%p\")\n",
    "    torch.save(model.state_dict(), 'checkpoint/best_ftc_model_state'+ curr_time +'.bin')\n",
    "    best_accuracy = val_acc"
   ]
  },
  {
   "cell_type": "code",
   "execution_count": 27,
   "metadata": {
    "colab": {
     "base_uri": "https://localhost:8080/",
     "height": 306
    },
    "id": "SGWOG9FxDwhr",
    "outputId": "caccda71-7a38-4b86-f8a5-bf3f8fe2b68e"
   },
   "outputs": [
    {
     "data": {
      "image/png": "[encoded data removed]",
      "text/plain": [
       "<Figure size 864x576 with 1 Axes>"
      ]
     },
     "metadata": {
      "image/png": {
       "height": 506,
       "width": 732
      }
     },
     "output_type": "display_data"
    }
   ],
   "source": [
    "plt.plot(history['train_acc'], label='train accuracy')\n",
    "plt.plot(history['val_acc'], label='validation accuracy')\n",
    "\n",
    "plt.title('Training history')\n",
    "plt.ylabel('Accuracy')\n",
    "plt.xlabel('Epoch')\n",
    "plt.legend()\n",
    "plt.ylim([0, 1.05]);\n",
    "plt.savefig('images/training_history '+current_time+'.png')"
   ]
  },
  {
   "cell_type": "code",
   "execution_count": 28,
   "metadata": {},
   "outputs": [],
   "source": [
    "torch.save(model.state_dict(), 'checkpoint/best_ftc_model_state'+ curr_time +'.bin')"
   ]
  },
  {
   "cell_type": "code",
   "execution_count": 29,
   "metadata": {
    "colab": {
     "base_uri": "https://localhost:8080/"
    },
    "id": "KMgX1q0vDx4C",
    "outputId": "fff07436-f581-40c9-87e8-9306aa66608b"
   },
   "outputs": [
    {
     "data": {
      "text/plain": [
       "0.8100358422939068"
      ]
     },
     "execution_count": 29,
     "metadata": {},
     "output_type": "execute_result"
    }
   ],
   "source": [
    "test_acc, _ = eval_model(model, test_data_loader, loss_fn, device, len(df_test))\n",
    "test_acc.item()"
   ]
  },
  {
   "cell_type": "markdown",
   "metadata": {},
   "source": [
    "# PREDICTION\n"
   ]
  },
  {
   "cell_type": "code",
   "execution_count": 31,
   "metadata": {},
   "outputs": [],
   "source": [
    "# model.load_state_dict(torch.load('checkpoint/best_ftc_model_state2023_01_17-02_22PM.bin'))"
   ]
  },
  {
   "cell_type": "code",
   "execution_count": 32,
   "metadata": {
    "id": "l5-QMqvSDx8h"
   },
   "outputs": [],
   "source": [
    "def get_predictions(model, data_loader):\n",
    "  model = model.eval()\n",
    "  \n",
    "  review_texts = []\n",
    "  predictions = []\n",
    "  prediction_probs = []\n",
    "  real_values = []\n",
    "\n",
    "  with torch.no_grad():\n",
    "    for d in data_loader:\n",
    "\n",
    "      texts = d[\"tweet_text\"]\n",
    "      input_ids = d[\"input_ids\"].to(device)\n",
    "      attention_mask = d[\"attention_mask\"].to(device)\n",
    "      token_type_ids = d[\"token_type_ids\"].to(device)\n",
    "      targets = d[\"targets\"].to(device)\n",
    "\n",
    "      outputs = model(input_ids=input_ids, attention_mask=attention_mask, token_type_ids=token_type_ids)\n",
    "      _, preds = torch.max(outputs, dim=1)\n",
    "      probs = F.softmax(outputs, dim=1)\n",
    "\n",
    "      review_texts.extend(texts)\n",
    "      predictions.extend(preds)\n",
    "      prediction_probs.extend(probs)\n",
    "      real_values.extend(targets)\n",
    "\n",
    "  predictions = torch.stack(predictions).cpu()\n",
    "  prediction_probs = torch.stack(prediction_probs).cpu()\n",
    "  real_values = torch.stack(real_values).cpu()\n",
    "  return review_texts, predictions, prediction_probs, real_values"
   ]
  },
  {
   "cell_type": "code",
   "execution_count": 33,
   "metadata": {
    "colab": {
     "base_uri": "https://localhost:8080/"
    },
    "id": "xr7hsCroDyBJ",
    "outputId": "c0f726e5-930f-404e-b637-e6d8d194f851"
   },
   "outputs": [],
   "source": [
    "y_review_texts, y_pred, y_pred_probs, y_test = get_predictions(model, test_data_loader)"
   ]
  },
  {
   "cell_type": "code",
   "execution_count": 34,
   "metadata": {},
   "outputs": [
    {
     "data": {
      "image/png": "[encoded data removed]",
      "text/plain": [
       "<Figure size 864x576 with 1 Axes>"
      ]
     },
     "metadata": {
      "image/png": {
       "height": 506,
       "width": 743
      }
     },
     "output_type": "display_data"
    }
   ],
   "source": [
    "logit_roc_auc = roc_auc_score(y_test, y_pred)\n",
    "fpr, tpr, thresholds = roc_curve(y_test.numpy(), y_pred_probs[:, 1].numpy())\n",
    "plt.figure()\n",
    "plt.plot(fpr, tpr, label='BERT (area = %0.2f)' % logit_roc_auc)\n",
    "plt.plot([0, 1], [0, 1],'r--')\n",
    "plt.xlim([-0.05, 1.0])\n",
    "plt.ylim([0.0, 1.05])\n",
    "plt.xlabel('False Positive Rate')\n",
    "plt.ylabel('True Positive Rate')\n",
    "plt.title('Receiver operating characteristic')\n",
    "plt.legend(loc=\"lower right\")\n",
    "plt.savefig('images/Log_ROC_'+ current_time +'.png')\n",
    "# plt.savefig(foldername + '/Log_ROC_'+ current_time +'.png'')\n",
    "plt.show()"
   ]
  },
  {
   "cell_type": "code",
   "execution_count": 35,
   "metadata": {},
   "outputs": [
    {
     "name": "stderr",
     "output_type": "stream",
     "text": [
      "/users/kent/jmaharja/.local/lib/python3.6/site-packages/numpy/core/_asarray.py:83: VisibleDeprecationWarning: Creating an ndarray from ragged nested sequences (which is a list-or-tuple of lists-or-tuples-or ndarrays with different lengths or shapes) is deprecated. If you meant to do this, you must specify 'dtype=object' when creating the ndarray\n",
      "  return array(a, dtype, copy=False, order=order)\n"
     ]
    },
    {
     "data": {
      "text/html": [
       "<div>\n",
       "<style scoped>\n",
       "    .dataframe tbody tr th:only-of-type {\n",
       "        vertical-align: middle;\n",
       "    }\n",
       "\n",
       "    .dataframe tbody tr th {\n",
       "        vertical-align: top;\n",
       "    }\n",
       "\n",
       "    .dataframe thead th {\n",
       "        text-align: right;\n",
       "    }\n",
       "</style>\n",
       "<table border=\"1\" class=\"dataframe\">\n",
       "  <thead>\n",
       "    <tr style=\"text-align: right;\">\n",
       "      <th></th>\n",
       "      <th>readme</th>\n",
       "      <th>Real</th>\n",
       "      <th>Predicted</th>\n",
       "      <th>Pred-prob</th>\n",
       "      <th>All Pred-probs</th>\n",
       "    </tr>\n",
       "  </thead>\n",
       "  <tbody>\n",
       "    <tr>\n",
       "      <th>0</th>\n",
       "      <td>RT : Roll me like a blunt, because 2020 is her...</td>\n",
       "      <td>1</td>\n",
       "      <td>1</td>\n",
       "      <td>0.999867</td>\n",
       "      <td>[0.00013273073, 0.9998672]</td>\n",
       "    </tr>\n",
       "    <tr>\n",
       "      <th>1</th>\n",
       "      <td>RT : drunk af</td>\n",
       "      <td>1</td>\n",
       "      <td>1</td>\n",
       "      <td>0.999677</td>\n",
       "      <td>[0.00032328605, 0.9996767]</td>\n",
       "    </tr>\n",
       "    <tr>\n",
       "      <th>2</th>\n",
       "      <td>n e way i’m still kinda drunk but it’s six am ...</td>\n",
       "      <td>1</td>\n",
       "      <td>1</td>\n",
       "      <td>0.999509</td>\n",
       "      <td>[0.00049056485, 0.99950945]</td>\n",
       "    </tr>\n",
       "    <tr>\n",
       "      <th>3</th>\n",
       "      <td>RT : New Year ▪ continuing my sobriety drug an...</td>\n",
       "      <td>1</td>\n",
       "      <td>1</td>\n",
       "      <td>0.999836</td>\n",
       "      <td>[0.0001640631, 0.99983597]</td>\n",
       "    </tr>\n",
       "    <tr>\n",
       "      <th>4</th>\n",
       "      <td>I tire for guys on here... Any small thing how...</td>\n",
       "      <td>1</td>\n",
       "      <td>0</td>\n",
       "      <td>0.000028</td>\n",
       "      <td>[0.99997175, 2.829451e-05]</td>\n",
       "    </tr>\n",
       "    <tr>\n",
       "      <th>...</th>\n",
       "      <td>...</td>\n",
       "      <td>...</td>\n",
       "      <td>...</td>\n",
       "      <td>...</td>\n",
       "      <td>...</td>\n",
       "    </tr>\n",
       "    <tr>\n",
       "      <th>274</th>\n",
       "      <td>RT : scared of losing myself again</td>\n",
       "      <td>0</td>\n",
       "      <td>0</td>\n",
       "      <td>0.207009</td>\n",
       "      <td>[0.79299074, 0.20700927]</td>\n",
       "    </tr>\n",
       "    <tr>\n",
       "      <th>275</th>\n",
       "      <td>RT _: #NewEra_By_SaintRampalJi Don't smoking 🚬...</td>\n",
       "      <td>0</td>\n",
       "      <td>0</td>\n",
       "      <td>0.000018</td>\n",
       "      <td>[0.9999825, 1.7537212e-05]</td>\n",
       "    </tr>\n",
       "    <tr>\n",
       "      <th>276</th>\n",
       "      <td>RT : If you wanna be a bitch, don’t be a stupi...</td>\n",
       "      <td>0</td>\n",
       "      <td>0</td>\n",
       "      <td>0.073013</td>\n",
       "      <td>[0.92698747, 0.07301257]</td>\n",
       "    </tr>\n",
       "    <tr>\n",
       "      <th>277</th>\n",
       "      <td>RT _duh_nie_luh: this decade is gonna be crazy...</td>\n",
       "      <td>0</td>\n",
       "      <td>1</td>\n",
       "      <td>0.925071</td>\n",
       "      <td>[0.074929066, 0.92507094]</td>\n",
       "    </tr>\n",
       "    <tr>\n",
       "      <th>278</th>\n",
       "      <td>RT : Q: would you either visit a country where...</td>\n",
       "      <td>0</td>\n",
       "      <td>1</td>\n",
       "      <td>0.999812</td>\n",
       "      <td>[0.00018771883, 0.9998123]</td>\n",
       "    </tr>\n",
       "  </tbody>\n",
       "</table>\n",
       "<p>279 rows × 5 columns</p>\n",
       "</div>"
      ],
      "text/plain": [
       "                                                readme  Real  Predicted  \\\n",
       "0    RT : Roll me like a blunt, because 2020 is her...     1          1   \n",
       "1                                        RT : drunk af     1          1   \n",
       "2    n e way i’m still kinda drunk but it’s six am ...     1          1   \n",
       "3    RT : New Year ▪ continuing my sobriety drug an...     1          1   \n",
       "4    I tire for guys on here... Any small thing how...     1          0   \n",
       "..                                                 ...   ...        ...   \n",
       "274                 RT : scared of losing myself again     0          0   \n",
       "275  RT _: #NewEra_By_SaintRampalJi Don't smoking 🚬...     0          0   \n",
       "276  RT : If you wanna be a bitch, don’t be a stupi...     0          0   \n",
       "277  RT _duh_nie_luh: this decade is gonna be crazy...     0          1   \n",
       "278  RT : Q: would you either visit a country where...     0          1   \n",
       "\n",
       "     Pred-prob               All Pred-probs  \n",
       "0     0.999867   [0.00013273073, 0.9998672]  \n",
       "1     0.999677   [0.00032328605, 0.9996767]  \n",
       "2     0.999509  [0.00049056485, 0.99950945]  \n",
       "3     0.999836   [0.0001640631, 0.99983597]  \n",
       "4     0.000028   [0.99997175, 2.829451e-05]  \n",
       "..         ...                          ...  \n",
       "274   0.207009     [0.79299074, 0.20700927]  \n",
       "275   0.000018   [0.9999825, 1.7537212e-05]  \n",
       "276   0.073013     [0.92698747, 0.07301257]  \n",
       "277   0.925071    [0.074929066, 0.92507094]  \n",
       "278   0.999812   [0.00018771883, 0.9998123]  \n",
       "\n",
       "[279 rows x 5 columns]"
      ]
     },
     "execution_count": 35,
     "metadata": {},
     "output_type": "execute_result"
    }
   ],
   "source": [
    "y_pred_probs_pd = [y.numpy() for y in y_pred_probs]\n",
    "someListOfLists = list(zip(y_review_texts, y_test.numpy(), y_pred.numpy(), y_pred_probs[:, 1:].numpy().squeeze(), y_pred_probs_pd ))\n",
    "npa = np.asarray(someListOfLists)\n",
    "dff = pd.DataFrame(someListOfLists, columns = ['readme', 'Real', 'Predicted', 'Pred-prob', 'All Pred-probs' ])\n",
    "dff"
   ]
  },
  {
   "cell_type": "code",
   "execution_count": 36,
   "metadata": {},
   "outputs": [
    {
     "data": {
      "text/plain": [
       "'2023_02_20-03_08PM'"
      ]
     },
     "execution_count": 36,
     "metadata": {},
     "output_type": "execute_result"
    }
   ],
   "source": [
    "dff.to_csv('test_result/'+ current_time + 'testtresult.csv')\n",
    "current_time"
   ]
  },
  {
   "cell_type": "code",
   "execution_count": 37,
   "metadata": {
    "colab": {
     "base_uri": "https://localhost:8080/"
    },
    "id": "wgq_aUGOG4dK",
    "outputId": "e5a6c79a-b6e6-4626-bb6d-09257257a846"
   },
   "outputs": [
    {
     "name": "stdout",
     "output_type": "stream",
     "text": [
      "              precision    recall  f1-score   support\n",
      "\n",
      "           Y       0.75      0.54      0.63        83\n",
      "           N       0.83      0.92      0.87       196\n",
      "\n",
      "    accuracy                           0.81       279\n",
      "   macro avg       0.79      0.73      0.75       279\n",
      "weighted avg       0.80      0.81      0.80       279\n",
      "\n"
     ]
    }
   ],
   "source": [
    "print(classification_report(y_test, y_pred, target_names=['Y', 'N']))"
   ]
  },
  {
   "cell_type": "code",
   "execution_count": 38,
   "metadata": {
    "colab": {
     "base_uri": "https://localhost:8080/",
     "height": 296
    },
    "id": "2QtoYqSlHTG2",
    "outputId": "829b4ac4-d49e-4694-e52a-8de90666b2e2"
   },
   "outputs": [
    {
     "data": {
      "image/png": "[encoded data removed]",
      "text/plain": [
       "<Figure size 864x576 with 2 Axes>"
      ]
     },
     "metadata": {
      "image/png": {
       "height": 495,
       "width": 677
      }
     },
     "output_type": "display_data"
    }
   ],
   "source": [
    "def show_confusion_matrix(confusion_matrix):\n",
    "  hmap = sns.heatmap(confusion_matrix, annot=True, fmt=\"d\", cmap=\"Blues\")\n",
    "  hmap.yaxis.set_ticklabels(hmap.yaxis.get_ticklabels(), rotation=0, ha='right')\n",
    "  hmap.xaxis.set_ticklabels(hmap.xaxis.get_ticklabels(), rotation=30, ha='right')\n",
    "  plt.ylabel('Actual ')\n",
    "  plt.xlabel('Predicted ')\n",
    "  plt.savefig('confusion_matrix/'+ 'cm_'+current_time + '.png')\n",
    "\n",
    "\n",
    "cm = confusion_matrix(y_pred, y_test)\n",
    "df_cm = pd.DataFrame(cm, index=['Y', 'N'], columns=['Y', 'N'])\n",
    "show_confusion_matrix(df_cm)"
   ]
  },
  {
   "cell_type": "markdown",
   "metadata": {},
   "source": [
    "# PREDICTION ON REAL DATA"
   ]
  },
  {
   "cell_type": "code",
   "execution_count": 37,
   "metadata": {},
   "outputs": [],
   "source": [
    "df_pred =pd.read_csv('/users/kent/jmaharja/drugAbuse/input/2020_01_01.csv',lineterminator='\\n',   skipinitialspace=True)\n",
    "df_pred.drop(df_pred.columns[[0, 1,2, 4]], axis=1, inplace=True)\n",
    "df_pred = df_pred.rename(columns={df_pred.columns[0]: 'Tweet'})\n",
    "df_pred['label']= 1"
   ]
  },
  {
   "cell_type": "code",
   "execution_count": 38,
   "metadata": {},
   "outputs": [],
   "source": [
    "## df_pred =pd.read_csv('/users/kent/jmaharja/drugAbuse/input/2022_11.csv',lineterminator='\\n',skipinitialspace=True)\n",
    "# df_pred = pd.read_fwf('/users/kent/jmaharja/drugAbuse/input/2022_11.csv')\n",
    "# df_pred['label']= 1"
   ]
  },
  {
   "cell_type": "code",
   "execution_count": 39,
   "metadata": {},
   "outputs": [
    {
     "data": {
      "text/plain": [
       "(1115630, 2)"
      ]
     },
     "execution_count": 39,
     "metadata": {},
     "output_type": "execute_result"
    }
   ],
   "source": [
    "df_pred.shape"
   ]
  },
  {
   "cell_type": "code",
   "execution_count": 40,
   "metadata": {},
   "outputs": [],
   "source": [
    "# from sklearn.utils import shuffle\n",
    "# df_pred = shuffle(df_pred)"
   ]
  },
  {
   "cell_type": "code",
   "execution_count": 41,
   "metadata": {},
   "outputs": [],
   "source": [
    "# df_pred = df_pred[:150000]\n",
    "# df_pred = df_pred[150000:160000]\n",
    "# df_pred = df_pred[160000:170000]\n",
    "# df_pred = df_pred[170000:180000]\n",
    "# df_pred = df_pred[180000:190000]\n",
    "# df_pred = df_pred[190000:200000]\n",
    "# df_pred = df_pred[230000:240000]\n",
    "df_pred= df_pred[250000:260000]\n",
    "# df_pred = df_pred[1200:2000]"
   ]
  },
  {
   "cell_type": "code",
   "execution_count": 42,
   "metadata": {},
   "outputs": [],
   "source": [
    "pred_data_loader = create_data_loader(df_pred, tokenizer, MAX_LEN, BATCH_SIZE)"
   ]
  },
  {
   "cell_type": "code",
   "execution_count": 43,
   "metadata": {},
   "outputs": [],
   "source": [
    "y_review_texts, y_pred, y_pred_probs, y_test = get_predictions(model, pred_data_loader)"
   ]
  },
  {
   "cell_type": "code",
   "execution_count": 44,
   "metadata": {},
   "outputs": [
    {
     "name": "stderr",
     "output_type": "stream",
     "text": [
      "/users/kent/jmaharja/.local/lib/python3.6/site-packages/numpy/core/_asarray.py:83: VisibleDeprecationWarning: Creating an ndarray from ragged nested sequences (which is a list-or-tuple of lists-or-tuples-or ndarrays with different lengths or shapes) is deprecated. If you meant to do this, you must specify 'dtype=object' when creating the ndarray\n",
      "  return array(a, dtype, copy=False, order=order)\n"
     ]
    },
    {
     "data": {
      "text/html": [
       "<div>\n",
       "<style scoped>\n",
       "    .dataframe tbody tr th:only-of-type {\n",
       "        vertical-align: middle;\n",
       "    }\n",
       "\n",
       "    .dataframe tbody tr th {\n",
       "        vertical-align: top;\n",
       "    }\n",
       "\n",
       "    .dataframe thead th {\n",
       "        text-align: right;\n",
       "    }\n",
       "</style>\n",
       "<table border=\"1\" class=\"dataframe\">\n",
       "  <thead>\n",
       "    <tr style=\"text-align: right;\">\n",
       "      <th></th>\n",
       "      <th>tweet</th>\n",
       "      <th>Real</th>\n",
       "      <th>Predicted</th>\n",
       "      <th>Pred-prob</th>\n",
       "      <th>All Pred-probs</th>\n",
       "    </tr>\n",
       "  </thead>\n",
       "  <tbody>\n",
       "    <tr>\n",
       "      <th>0</th>\n",
       "      <td>RT : 😈 here y’all go , he cums at the end 💋 //...</td>\n",
       "      <td>1</td>\n",
       "      <td>0</td>\n",
       "      <td>0.000133</td>\n",
       "      <td>[0.9998672, 0.00013283546]</td>\n",
       "    </tr>\n",
       "    <tr>\n",
       "      <th>1</th>\n",
       "      <td>RT : african parents be like it hurts my feeli...</td>\n",
       "      <td>1</td>\n",
       "      <td>0</td>\n",
       "      <td>0.000124</td>\n",
       "      <td>[0.9998764, 0.00012365289]</td>\n",
       "    </tr>\n",
       "    <tr>\n",
       "      <th>2</th>\n",
       "      <td>RT _scopes: Jan 1st: There are times when we k...</td>\n",
       "      <td>1</td>\n",
       "      <td>0</td>\n",
       "      <td>0.000126</td>\n",
       "      <td>[0.999874, 0.00012598385]</td>\n",
       "    </tr>\n",
       "    <tr>\n",
       "      <th>3</th>\n",
       "      <td>Mr, president</td>\n",
       "      <td>1</td>\n",
       "      <td>0</td>\n",
       "      <td>0.000121</td>\n",
       "      <td>[0.99987876, 0.00012119376]</td>\n",
       "    </tr>\n",
       "    <tr>\n",
       "      <th>4</th>\n",
       "      <td>RT _kag: Minneapolis man charged with 13 count...</td>\n",
       "      <td>1</td>\n",
       "      <td>0</td>\n",
       "      <td>0.000120</td>\n",
       "      <td>[0.9998796, 0.00012039473]</td>\n",
       "    </tr>\n",
       "    <tr>\n",
       "      <th>...</th>\n",
       "      <td>...</td>\n",
       "      <td>...</td>\n",
       "      <td>...</td>\n",
       "      <td>...</td>\n",
       "      <td>...</td>\n",
       "    </tr>\n",
       "    <tr>\n",
       "      <th>9995</th>\n",
       "      <td>RT : See photos of BTS, Post Malone and Dua Li...</td>\n",
       "      <td>1</td>\n",
       "      <td>0</td>\n",
       "      <td>0.000135</td>\n",
       "      <td>[0.9998648, 0.00013521823]</td>\n",
       "    </tr>\n",
       "    <tr>\n",
       "      <th>9996</th>\n",
       "      <td>RT : Happy New Year. Love Blessing❤️😍</td>\n",
       "      <td>1</td>\n",
       "      <td>0</td>\n",
       "      <td>0.000123</td>\n",
       "      <td>[0.9998772, 0.00012271144]</td>\n",
       "    </tr>\n",
       "    <tr>\n",
       "      <th>9997</th>\n",
       "      <td>Kk ill watch big fan btw can i have a shoutuot...</td>\n",
       "      <td>1</td>\n",
       "      <td>0</td>\n",
       "      <td>0.000134</td>\n",
       "      <td>[0.99986637, 0.00013356957]</td>\n",
       "    </tr>\n",
       "    <tr>\n",
       "      <th>9998</th>\n",
       "      <td>RT : I can’t believe my little Novalee is 5 to...</td>\n",
       "      <td>1</td>\n",
       "      <td>0</td>\n",
       "      <td>0.000121</td>\n",
       "      <td>[0.9998791, 0.000120865894]</td>\n",
       "    </tr>\n",
       "    <tr>\n",
       "      <th>9999</th>\n",
       "      <td>RT _: Getting a girl to love you is an art, no...</td>\n",
       "      <td>1</td>\n",
       "      <td>0</td>\n",
       "      <td>0.000120</td>\n",
       "      <td>[0.9998803, 0.00011967661]</td>\n",
       "    </tr>\n",
       "  </tbody>\n",
       "</table>\n",
       "<p>10000 rows × 5 columns</p>\n",
       "</div>"
      ],
      "text/plain": [
       "                                                  tweet  Real  Predicted  \\\n",
       "0     RT : 😈 here y’all go , he cums at the end 💋 //...     1          0   \n",
       "1     RT : african parents be like it hurts my feeli...     1          0   \n",
       "2     RT _scopes: Jan 1st: There are times when we k...     1          0   \n",
       "3                                         Mr, president     1          0   \n",
       "4     RT _kag: Minneapolis man charged with 13 count...     1          0   \n",
       "...                                                 ...   ...        ...   \n",
       "9995  RT : See photos of BTS, Post Malone and Dua Li...     1          0   \n",
       "9996              RT : Happy New Year. Love Blessing❤️😍     1          0   \n",
       "9997  Kk ill watch big fan btw can i have a shoutuot...     1          0   \n",
       "9998  RT : I can’t believe my little Novalee is 5 to...     1          0   \n",
       "9999  RT _: Getting a girl to love you is an art, no...     1          0   \n",
       "\n",
       "      Pred-prob               All Pred-probs  \n",
       "0      0.000133   [0.9998672, 0.00013283546]  \n",
       "1      0.000124   [0.9998764, 0.00012365289]  \n",
       "2      0.000126    [0.999874, 0.00012598385]  \n",
       "3      0.000121  [0.99987876, 0.00012119376]  \n",
       "4      0.000120   [0.9998796, 0.00012039473]  \n",
       "...         ...                          ...  \n",
       "9995   0.000135   [0.9998648, 0.00013521823]  \n",
       "9996   0.000123   [0.9998772, 0.00012271144]  \n",
       "9997   0.000134  [0.99986637, 0.00013356957]  \n",
       "9998   0.000121  [0.9998791, 0.000120865894]  \n",
       "9999   0.000120   [0.9998803, 0.00011967661]  \n",
       "\n",
       "[10000 rows x 5 columns]"
      ]
     },
     "execution_count": 44,
     "metadata": {},
     "output_type": "execute_result"
    }
   ],
   "source": [
    "y_pred_probs_pd = [y.numpy() for y in y_pred_probs]\n",
    "someListOfLists = list(zip(y_review_texts, y_test.numpy(), y_pred.numpy(), y_pred_probs[:, 1:].numpy().squeeze(), y_pred_probs_pd ))\n",
    "npa = np.asarray(someListOfLists)\n",
    "dff = pd.DataFrame(someListOfLists, columns = ['tweet', 'Real', 'Predicted', 'Pred-prob', 'All Pred-probs' ])\n",
    "dff"
   ]
  },
  {
   "cell_type": "code",
   "execution_count": 45,
   "metadata": {},
   "outputs": [
    {
     "data": {
      "image/png": "[encoded data removed]",
      "text/plain": [
       "<Figure size 864x576 with 2 Axes>"
      ]
     },
     "metadata": {
      "image/png": {
       "height": 492,
       "width": 685
      }
     },
     "output_type": "display_data"
    }
   ],
   "source": [
    "cm = confusion_matrix(y_pred, y_test)\n",
    "df_cm = pd.DataFrame(cm, index=['Y', 'N'], columns=['Y', 'N'])\n",
    "show_confusion_matrix(df_cm)"
   ]
  },
  {
   "cell_type": "code",
   "execution_count": 46,
   "metadata": {},
   "outputs": [],
   "source": [
    "# dff.to_csv('test_result/'+ current_time + 'prediction_result.csv')"
   ]
  },
  {
   "cell_type": "code",
   "execution_count": 47,
   "metadata": {},
   "outputs": [
    {
     "data": {
      "text/html": [
       "<div>\n",
       "<style scoped>\n",
       "    .dataframe tbody tr th:only-of-type {\n",
       "        vertical-align: middle;\n",
       "    }\n",
       "\n",
       "    .dataframe tbody tr th {\n",
       "        vertical-align: top;\n",
       "    }\n",
       "\n",
       "    .dataframe thead th {\n",
       "        text-align: right;\n",
       "    }\n",
       "</style>\n",
       "<table border=\"1\" class=\"dataframe\">\n",
       "  <thead>\n",
       "    <tr style=\"text-align: right;\">\n",
       "      <th></th>\n",
       "      <th>tweet</th>\n",
       "      <th>Real</th>\n",
       "      <th>Predicted</th>\n",
       "      <th>Pred-prob</th>\n",
       "      <th>All Pred-probs</th>\n",
       "    </tr>\n",
       "  </thead>\n",
       "  <tbody>\n",
       "    <tr>\n",
       "      <th>149</th>\n",
       "      <td>RT : Girls really go to a dudes crib and survi...</td>\n",
       "      <td>1</td>\n",
       "      <td>1</td>\n",
       "      <td>0.999592</td>\n",
       "      <td>[0.0004080752, 0.9995919]</td>\n",
       "    </tr>\n",
       "    <tr>\n",
       "      <th>159</th>\n",
       "      <td>RT : Honestly, y’all really have to be idiots....</td>\n",
       "      <td>1</td>\n",
       "      <td>1</td>\n",
       "      <td>0.999584</td>\n",
       "      <td>[0.00041635236, 0.99958366]</td>\n",
       "    </tr>\n",
       "    <tr>\n",
       "      <th>166</th>\n",
       "      <td>RT : Happy new year, Wonho Happy new year, Mon...</td>\n",
       "      <td>1</td>\n",
       "      <td>1</td>\n",
       "      <td>0.894874</td>\n",
       "      <td>[0.10512604, 0.89487404]</td>\n",
       "    </tr>\n",
       "    <tr>\n",
       "      <th>219</th>\n",
       "      <td>Ayeee it’s lit</td>\n",
       "      <td>1</td>\n",
       "      <td>1</td>\n",
       "      <td>0.919856</td>\n",
       "      <td>[0.08014378, 0.91985625]</td>\n",
       "    </tr>\n",
       "    <tr>\n",
       "      <th>265</th>\n",
       "      <td>RT : Me tonight once that liquor hit!!!!</td>\n",
       "      <td>1</td>\n",
       "      <td>1</td>\n",
       "      <td>0.999720</td>\n",
       "      <td>[0.0002803828, 0.99971956]</td>\n",
       "    </tr>\n",
       "    <tr>\n",
       "      <th>...</th>\n",
       "      <td>...</td>\n",
       "      <td>...</td>\n",
       "      <td>...</td>\n",
       "      <td>...</td>\n",
       "      <td>...</td>\n",
       "    </tr>\n",
       "    <tr>\n",
       "      <th>9385</th>\n",
       "      <td>RT : Q: would you either visit a country where...</td>\n",
       "      <td>1</td>\n",
       "      <td>1</td>\n",
       "      <td>0.999393</td>\n",
       "      <td>[0.0006073762, 0.9993926]</td>\n",
       "    </tr>\n",
       "    <tr>\n",
       "      <th>9639</th>\n",
       "      <td>so this year I’m getting mimosa drunk with som...</td>\n",
       "      <td>1</td>\n",
       "      <td>1</td>\n",
       "      <td>0.999657</td>\n",
       "      <td>[0.00034285616, 0.99965715]</td>\n",
       "    </tr>\n",
       "    <tr>\n",
       "      <th>9669</th>\n",
       "      <td>RT : I have never seen a sober girl taking adv...</td>\n",
       "      <td>1</td>\n",
       "      <td>1</td>\n",
       "      <td>0.999551</td>\n",
       "      <td>[0.0004494733, 0.9995505]</td>\n",
       "    </tr>\n",
       "    <tr>\n",
       "      <th>9793</th>\n",
       "      <td>RT : How I drink wine after successfully defra...</td>\n",
       "      <td>1</td>\n",
       "      <td>1</td>\n",
       "      <td>0.999445</td>\n",
       "      <td>[0.0005547086, 0.99944526]</td>\n",
       "    </tr>\n",
       "    <tr>\n",
       "      <th>9835</th>\n",
       "      <td>RT _cendy: If alcohol was to be banned, a lot ...</td>\n",
       "      <td>1</td>\n",
       "      <td>1</td>\n",
       "      <td>0.999593</td>\n",
       "      <td>[0.00040715176, 0.99959284]</td>\n",
       "    </tr>\n",
       "  </tbody>\n",
       "</table>\n",
       "<p>108 rows × 5 columns</p>\n",
       "</div>"
      ],
      "text/plain": [
       "                                                  tweet  Real  Predicted  \\\n",
       "149   RT : Girls really go to a dudes crib and survi...     1          1   \n",
       "159   RT : Honestly, y’all really have to be idiots....     1          1   \n",
       "166   RT : Happy new year, Wonho Happy new year, Mon...     1          1   \n",
       "219                                      Ayeee it’s lit     1          1   \n",
       "265            RT : Me tonight once that liquor hit!!!!     1          1   \n",
       "...                                                 ...   ...        ...   \n",
       "9385  RT : Q: would you either visit a country where...     1          1   \n",
       "9639  so this year I’m getting mimosa drunk with som...     1          1   \n",
       "9669  RT : I have never seen a sober girl taking adv...     1          1   \n",
       "9793  RT : How I drink wine after successfully defra...     1          1   \n",
       "9835  RT _cendy: If alcohol was to be banned, a lot ...     1          1   \n",
       "\n",
       "      Pred-prob               All Pred-probs  \n",
       "149    0.999592    [0.0004080752, 0.9995919]  \n",
       "159    0.999584  [0.00041635236, 0.99958366]  \n",
       "166    0.894874     [0.10512604, 0.89487404]  \n",
       "219    0.919856     [0.08014378, 0.91985625]  \n",
       "265    0.999720   [0.0002803828, 0.99971956]  \n",
       "...         ...                          ...  \n",
       "9385   0.999393    [0.0006073762, 0.9993926]  \n",
       "9639   0.999657  [0.00034285616, 0.99965715]  \n",
       "9669   0.999551    [0.0004494733, 0.9995505]  \n",
       "9793   0.999445   [0.0005547086, 0.99944526]  \n",
       "9835   0.999593  [0.00040715176, 0.99959284]  \n",
       "\n",
       "[108 rows x 5 columns]"
      ]
     },
     "execution_count": 47,
     "metadata": {},
     "output_type": "execute_result"
    }
   ],
   "source": [
    "dff[dff['Predicted']==1]"
   ]
  },
  {
   "cell_type": "code",
   "execution_count": 48,
   "metadata": {},
   "outputs": [
    {
     "data": {
      "text/html": [
       "<div>\n",
       "<style scoped>\n",
       "    .dataframe tbody tr th:only-of-type {\n",
       "        vertical-align: middle;\n",
       "    }\n",
       "\n",
       "    .dataframe tbody tr th {\n",
       "        vertical-align: top;\n",
       "    }\n",
       "\n",
       "    .dataframe thead th {\n",
       "        text-align: right;\n",
       "    }\n",
       "</style>\n",
       "<table border=\"1\" class=\"dataframe\">\n",
       "  <thead>\n",
       "    <tr style=\"text-align: right;\">\n",
       "      <th></th>\n",
       "      <th>tweet</th>\n",
       "      <th>Real</th>\n",
       "      <th>Predicted</th>\n",
       "      <th>Pred-prob</th>\n",
       "      <th>All Pred-probs</th>\n",
       "    </tr>\n",
       "  </thead>\n",
       "  <tbody>\n",
       "    <tr>\n",
       "      <th>0</th>\n",
       "      <td>RT : 😈 here y’all go , he cums at the end 💋 //...</td>\n",
       "      <td>1</td>\n",
       "      <td>0</td>\n",
       "      <td>0.000133</td>\n",
       "      <td>[0.9998672, 0.00013283546]</td>\n",
       "    </tr>\n",
       "    <tr>\n",
       "      <th>1</th>\n",
       "      <td>RT : african parents be like it hurts my feeli...</td>\n",
       "      <td>1</td>\n",
       "      <td>0</td>\n",
       "      <td>0.000124</td>\n",
       "      <td>[0.9998764, 0.00012365289]</td>\n",
       "    </tr>\n",
       "    <tr>\n",
       "      <th>2</th>\n",
       "      <td>RT _scopes: Jan 1st: There are times when we k...</td>\n",
       "      <td>1</td>\n",
       "      <td>0</td>\n",
       "      <td>0.000126</td>\n",
       "      <td>[0.999874, 0.00012598385]</td>\n",
       "    </tr>\n",
       "    <tr>\n",
       "      <th>3</th>\n",
       "      <td>Mr, president</td>\n",
       "      <td>1</td>\n",
       "      <td>0</td>\n",
       "      <td>0.000121</td>\n",
       "      <td>[0.99987876, 0.00012119376]</td>\n",
       "    </tr>\n",
       "    <tr>\n",
       "      <th>4</th>\n",
       "      <td>RT _kag: Minneapolis man charged with 13 count...</td>\n",
       "      <td>1</td>\n",
       "      <td>0</td>\n",
       "      <td>0.000120</td>\n",
       "      <td>[0.9998796, 0.00012039473]</td>\n",
       "    </tr>\n",
       "    <tr>\n",
       "      <th>...</th>\n",
       "      <td>...</td>\n",
       "      <td>...</td>\n",
       "      <td>...</td>\n",
       "      <td>...</td>\n",
       "      <td>...</td>\n",
       "    </tr>\n",
       "    <tr>\n",
       "      <th>9995</th>\n",
       "      <td>RT : See photos of BTS, Post Malone and Dua Li...</td>\n",
       "      <td>1</td>\n",
       "      <td>0</td>\n",
       "      <td>0.000135</td>\n",
       "      <td>[0.9998648, 0.00013521823]</td>\n",
       "    </tr>\n",
       "    <tr>\n",
       "      <th>9996</th>\n",
       "      <td>RT : Happy New Year. Love Blessing❤️😍</td>\n",
       "      <td>1</td>\n",
       "      <td>0</td>\n",
       "      <td>0.000123</td>\n",
       "      <td>[0.9998772, 0.00012271144]</td>\n",
       "    </tr>\n",
       "    <tr>\n",
       "      <th>9997</th>\n",
       "      <td>Kk ill watch big fan btw can i have a shoutuot...</td>\n",
       "      <td>1</td>\n",
       "      <td>0</td>\n",
       "      <td>0.000134</td>\n",
       "      <td>[0.99986637, 0.00013356957]</td>\n",
       "    </tr>\n",
       "    <tr>\n",
       "      <th>9998</th>\n",
       "      <td>RT : I can’t believe my little Novalee is 5 to...</td>\n",
       "      <td>1</td>\n",
       "      <td>0</td>\n",
       "      <td>0.000121</td>\n",
       "      <td>[0.9998791, 0.000120865894]</td>\n",
       "    </tr>\n",
       "    <tr>\n",
       "      <th>9999</th>\n",
       "      <td>RT _: Getting a girl to love you is an art, no...</td>\n",
       "      <td>1</td>\n",
       "      <td>0</td>\n",
       "      <td>0.000120</td>\n",
       "      <td>[0.9998803, 0.00011967661]</td>\n",
       "    </tr>\n",
       "  </tbody>\n",
       "</table>\n",
       "<p>9892 rows × 5 columns</p>\n",
       "</div>"
      ],
      "text/plain": [
       "                                                  tweet  Real  Predicted  \\\n",
       "0     RT : 😈 here y’all go , he cums at the end 💋 //...     1          0   \n",
       "1     RT : african parents be like it hurts my feeli...     1          0   \n",
       "2     RT _scopes: Jan 1st: There are times when we k...     1          0   \n",
       "3                                         Mr, president     1          0   \n",
       "4     RT _kag: Minneapolis man charged with 13 count...     1          0   \n",
       "...                                                 ...   ...        ...   \n",
       "9995  RT : See photos of BTS, Post Malone and Dua Li...     1          0   \n",
       "9996              RT : Happy New Year. Love Blessing❤️😍     1          0   \n",
       "9997  Kk ill watch big fan btw can i have a shoutuot...     1          0   \n",
       "9998  RT : I can’t believe my little Novalee is 5 to...     1          0   \n",
       "9999  RT _: Getting a girl to love you is an art, no...     1          0   \n",
       "\n",
       "      Pred-prob               All Pred-probs  \n",
       "0      0.000133   [0.9998672, 0.00013283546]  \n",
       "1      0.000124   [0.9998764, 0.00012365289]  \n",
       "2      0.000126    [0.999874, 0.00012598385]  \n",
       "3      0.000121  [0.99987876, 0.00012119376]  \n",
       "4      0.000120   [0.9998796, 0.00012039473]  \n",
       "...         ...                          ...  \n",
       "9995   0.000135   [0.9998648, 0.00013521823]  \n",
       "9996   0.000123   [0.9998772, 0.00012271144]  \n",
       "9997   0.000134  [0.99986637, 0.00013356957]  \n",
       "9998   0.000121  [0.9998791, 0.000120865894]  \n",
       "9999   0.000120   [0.9998803, 0.00011967661]  \n",
       "\n",
       "[9892 rows x 5 columns]"
      ]
     },
     "execution_count": 48,
     "metadata": {},
     "output_type": "execute_result"
    }
   ],
   "source": [
    "dff[dff['Predicted']==0]"
   ]
  },
  {
   "cell_type": "code",
   "execution_count": 51,
   "metadata": {},
   "outputs": [],
   "source": [
    "ones = dff[dff['Predicted']==1]['tweet']\n",
    "ones.to_csv('test_result/'+ current_time+'_ones.csv')"
   ]
  },
  {
   "cell_type": "code",
   "execution_count": null,
   "metadata": {},
   "outputs": [],
   "source": [
    "# zeros = dff[dff['Predicted']==0]['tweet']\n",
    "# zeros.to_csv('test_result/2023_neg.csv')"
   ]
  },
  {
   "cell_type": "code",
   "execution_count": 50,
   "metadata": {},
   "outputs": [],
   "source": [
    "dff[[ \"tweet\", \"Predicted\"]].to_csv('test_result/'+ current_time+\".csv)"
   ]
  },
  {
   "cell_type": "code",
   "execution_count": 49,
   "metadata": {},
   "outputs": [
    {
     "data": {
      "text/plain": [
       "'2023_02_20-02_00PM'"
      ]
     },
     "execution_count": 49,
     "metadata": {},
     "output_type": "execute_result"
    }
   ],
   "source": [
    "current_time"
   ]
  },
  {
   "cell_type": "markdown",
   "metadata": {},
   "source": [
    "# POST REVIEW"
   ]
  },
  {
   "cell_type": "code",
   "execution_count": null,
   "metadata": {},
   "outputs": [],
   "source": [
    "# ones.tweet.tolist()\n",
    "\n",
    "# ' '.join(ones['tweet'].tolist())\n",
    "# ones.tweet.str.cat(sep=', ')"
   ]
  },
  {
   "cell_type": "code",
   "execution_count": null,
   "metadata": {},
   "outputs": [],
   "source": []
  }
 ],
 "metadata": {
  "accelerator": "GPU",
  "colab": {
   "collapsed_sections": [],
   "name": "TweetsClassification.ipynb",
   "provenance": []
  },
  "kernelspec": {
   "display_name": "gpu",
   "language": "python",
   "name": "gpu"
  },
  "language_info": {
   "codemirror_mode": {
    "name": "ipython",
    "version": 3
   },
   "file_extension": ".py",
   "mimetype": "text/x-python",
   "name": "python",
   "nbconvert_exporter": "python",
   "pygments_lexer": "ipython3",
   "version": "3.11.3"
  },
  "widgets": {
   "application/vnd.jupyter.widget-state+json": {
    "055e6760af2a4cc99a5ab6c89d09a631": {
     "model_module": "@jupyter-widgets/base",
     "model_module_version": "1.2.0",
     "model_name": "LayoutModel",
     "state": {
      "_model_module": "@jupyter-widgets/base",
      "_model_module_version": "1.2.0",
      "_model_name": "LayoutModel",
      "_view_count": null,
      "_view_module": "@jupyter-widgets/base",
      "_view_module_version": "1.2.0",
      "_view_name": "LayoutView",
      "align_content": null,
      "align_items": null,
      "align_self": null,
      "border": null,
      "bottom": null,
      "display": null,
      "flex": null,
      "flex_flow": null,
      "grid_area": null,
      "grid_auto_columns": null,
      "grid_auto_flow": null,
      "grid_auto_rows": null,
      "grid_column": null,
      "grid_gap": null,
      "grid_row": null,
      "grid_template_areas": null,
      "grid_template_columns": null,
      "grid_template_rows": null,
      "height": null,
      "justify_content": null,
      "justify_items": null,
      "left": null,
      "margin": null,
      "max_height": null,
      "max_width": null,
      "min_height": null,
      "min_width": null,
      "object_fit": null,
      "object_position": null,
      "order": null,
      "overflow": null,
      "overflow_x": null,
      "overflow_y": null,
      "padding": null,
      "right": null,
      "top": null,
      "visibility": null,
      "width": null
     }
    },
    "06f7bff32930487389f4bcd11a046ba9": {
     "model_module": "@jupyter-widgets/controls",
     "model_module_version": "1.5.0",
     "model_name": "FloatProgressModel",
     "state": {
      "_dom_classes": [],
      "_model_module": "@jupyter-widgets/controls",
      "_model_module_version": "1.5.0",
      "_model_name": "FloatProgressModel",
      "_view_count": null,
      "_view_module": "@jupyter-widgets/controls",
      "_view_module_version": "1.5.0",
      "_view_name": "ProgressView",
      "bar_style": "success",
      "description": "",
      "description_tooltip": null,
      "layout": "IPY_MODEL_07d860f569894b60a8a57586b5ed22e5",
      "max": 435797,
      "min": 0,
      "orientation": "horizontal",
      "style": "IPY_MODEL_55de3f028970426a9904fc9123459878",
      "value": 435797
     }
    },
    "07d860f569894b60a8a57586b5ed22e5": {
     "model_module": "@jupyter-widgets/base",
     "model_module_version": "1.2.0",
     "model_name": "LayoutModel",
     "state": {
      "_model_module": "@jupyter-widgets/base",
      "_model_module_version": "1.2.0",
      "_model_name": "LayoutModel",
      "_view_count": null,
      "_view_module": "@jupyter-widgets/base",
      "_view_module_version": "1.2.0",
      "_view_name": "LayoutView",
      "align_content": null,
      "align_items": null,
      "align_self": null,
      "border": null,
      "bottom": null,
      "display": null,
      "flex": null,
      "flex_flow": null,
      "grid_area": null,
      "grid_auto_columns": null,
      "grid_auto_flow": null,
      "grid_auto_rows": null,
      "grid_column": null,
      "grid_gap": null,
      "grid_row": null,
      "grid_template_areas": null,
      "grid_template_columns": null,
      "grid_template_rows": null,
      "height": null,
      "justify_content": null,
      "justify_items": null,
      "left": null,
      "margin": null,
      "max_height": null,
      "max_width": null,
      "min_height": null,
      "min_width": null,
      "object_fit": null,
      "object_position": null,
      "order": null,
      "overflow": null,
      "overflow_x": null,
      "overflow_y": null,
      "padding": null,
      "right": null,
      "top": null,
      "visibility": null,
      "width": null
     }
    },
    "085cdd69c17e4436af7f950636b90c6e": {
     "model_module": "@jupyter-widgets/controls",
     "model_module_version": "1.5.0",
     "model_name": "DescriptionStyleModel",
     "state": {
      "_model_module": "@jupyter-widgets/controls",
      "_model_module_version": "1.5.0",
      "_model_name": "DescriptionStyleModel",
      "_view_count": null,
      "_view_module": "@jupyter-widgets/base",
      "_view_module_version": "1.2.0",
      "_view_name": "StyleView",
      "description_width": ""
     }
    },
    "0cbbf3d4487644b89158c60e70dbb607": {
     "model_module": "@jupyter-widgets/controls",
     "model_module_version": "1.5.0",
     "model_name": "FloatProgressModel",
     "state": {
      "_dom_classes": [],
      "_model_module": "@jupyter-widgets/controls",
      "_model_module_version": "1.5.0",
      "_model_name": "FloatProgressModel",
      "_view_count": null,
      "_view_module": "@jupyter-widgets/controls",
      "_view_module_version": "1.5.0",
      "_view_name": "ProgressView",
      "bar_style": "success",
      "description": "",
      "description_tooltip": null,
      "layout": "IPY_MODEL_133db211b5044e0e8b39b129adf709e3",
      "max": 29,
      "min": 0,
      "orientation": "horizontal",
      "style": "IPY_MODEL_865c669b97224cc2be141212d5de0af5",
      "value": 29
     }
    },
    "121058277c9a4920a7f9c87da8d9cf18": {
     "model_module": "@jupyter-widgets/controls",
     "model_module_version": "1.5.0",
     "model_name": "DescriptionStyleModel",
     "state": {
      "_model_module": "@jupyter-widgets/controls",
      "_model_module_version": "1.5.0",
      "_model_name": "DescriptionStyleModel",
      "_view_count": null,
      "_view_module": "@jupyter-widgets/base",
      "_view_module_version": "1.2.0",
      "_view_name": "StyleView",
      "description_width": ""
     }
    },
    "133db211b5044e0e8b39b129adf709e3": {
     "model_module": "@jupyter-widgets/base",
     "model_module_version": "1.2.0",
     "model_name": "LayoutModel",
     "state": {
      "_model_module": "@jupyter-widgets/base",
      "_model_module_version": "1.2.0",
      "_model_name": "LayoutModel",
      "_view_count": null,
      "_view_module": "@jupyter-widgets/base",
      "_view_module_version": "1.2.0",
      "_view_name": "LayoutView",
      "align_content": null,
      "align_items": null,
      "align_self": null,
      "border": null,
      "bottom": null,
      "display": null,
      "flex": null,
      "flex_flow": null,
      "grid_area": null,
      "grid_auto_columns": null,
      "grid_auto_flow": null,
      "grid_auto_rows": null,
      "grid_column": null,
      "grid_gap": null,
      "grid_row": null,
      "grid_template_areas": null,
      "grid_template_columns": null,
      "grid_template_rows": null,
      "height": null,
      "justify_content": null,
      "justify_items": null,
      "left": null,
      "margin": null,
      "max_height": null,
      "max_width": null,
      "min_height": null,
      "min_width": null,
      "object_fit": null,
      "object_position": null,
      "order": null,
      "overflow": null,
      "overflow_x": null,
      "overflow_y": null,
      "padding": null,
      "right": null,
      "top": null,
      "visibility": null,
      "width": null
     }
    },
    "18263e27139341a884f597dc6e3e175f": {
     "model_module": "@jupyter-widgets/controls",
     "model_module_version": "1.5.0",
     "model_name": "ProgressStyleModel",
     "state": {
      "_model_module": "@jupyter-widgets/controls",
      "_model_module_version": "1.5.0",
      "_model_name": "ProgressStyleModel",
      "_view_count": null,
      "_view_module": "@jupyter-widgets/base",
      "_view_module_version": "1.2.0",
      "_view_name": "StyleView",
      "bar_color": null,
      "description_width": ""
     }
    },
    "203bbb759bfc42fb8895a162e08d3226": {
     "model_module": "@jupyter-widgets/controls",
     "model_module_version": "1.5.0",
     "model_name": "HTMLModel",
     "state": {
      "_dom_classes": [],
      "_model_module": "@jupyter-widgets/controls",
      "_model_module_version": "1.5.0",
      "_model_name": "HTMLModel",
      "_view_count": null,
      "_view_module": "@jupyter-widgets/controls",
      "_view_module_version": "1.5.0",
      "_view_name": "HTMLView",
      "description": "",
      "description_tooltip": null,
      "layout": "IPY_MODEL_3d4f2c2b28864980b41c8720823fef6e",
      "placeholder": "​",
      "style": "IPY_MODEL_121058277c9a4920a7f9c87da8d9cf18",
      "value": " 570/570 [00:00&lt;00:00, 14.6kB/s]"
     }
    },
    "228b86f13326402ab8378ff0c8fbbff1": {
     "model_module": "@jupyter-widgets/controls",
     "model_module_version": "1.5.0",
     "model_name": "DescriptionStyleModel",
     "state": {
      "_model_module": "@jupyter-widgets/controls",
      "_model_module_version": "1.5.0",
      "_model_name": "DescriptionStyleModel",
      "_view_count": null,
      "_view_module": "@jupyter-widgets/base",
      "_view_module_version": "1.2.0",
      "_view_name": "StyleView",
      "description_width": ""
     }
    },
    "2674f4b837014c9083f38a737dd757aa": {
     "model_module": "@jupyter-widgets/base",
     "model_module_version": "1.2.0",
     "model_name": "LayoutModel",
     "state": {
      "_model_module": "@jupyter-widgets/base",
      "_model_module_version": "1.2.0",
      "_model_name": "LayoutModel",
      "_view_count": null,
      "_view_module": "@jupyter-widgets/base",
      "_view_module_version": "1.2.0",
      "_view_name": "LayoutView",
      "align_content": null,
      "align_items": null,
      "align_self": null,
      "border": null,
      "bottom": null,
      "display": null,
      "flex": null,
      "flex_flow": null,
      "grid_area": null,
      "grid_auto_columns": null,
      "grid_auto_flow": null,
      "grid_auto_rows": null,
      "grid_column": null,
      "grid_gap": null,
      "grid_row": null,
      "grid_template_areas": null,
      "grid_template_columns": null,
      "grid_template_rows": null,
      "height": null,
      "justify_content": null,
      "justify_items": null,
      "left": null,
      "margin": null,
      "max_height": null,
      "max_width": null,
      "min_height": null,
      "min_width": null,
      "object_fit": null,
      "object_position": null,
      "order": null,
      "overflow": null,
      "overflow_x": null,
      "overflow_y": null,
      "padding": null,
      "right": null,
      "top": null,
      "visibility": null,
      "width": null
     }
    },
    "283139806e8a4a9a9246bc7f6c5b3898": {
     "model_module": "@jupyter-widgets/controls",
     "model_module_version": "1.5.0",
     "model_name": "HBoxModel",
     "state": {
      "_dom_classes": [],
      "_model_module": "@jupyter-widgets/controls",
      "_model_module_version": "1.5.0",
      "_model_name": "HBoxModel",
      "_view_count": null,
      "_view_module": "@jupyter-widgets/controls",
      "_view_module_version": "1.5.0",
      "_view_name": "HBoxView",
      "box_style": "",
      "children": [
       "IPY_MODEL_5195c3fff00b4392a9858558f5367ac6",
       "IPY_MODEL_99e1bdc66761476e8ac577a44b9d6d5a",
       "IPY_MODEL_936e7ea6788547eb961fab7f0ac3fc9c"
      ],
      "layout": "IPY_MODEL_d850d2931d484a9c809dbc3ca011257d"
     }
    },
    "2a76d71ad3fa40cbaf398b49e0adefb9": {
     "model_module": "@jupyter-widgets/controls",
     "model_module_version": "1.5.0",
     "model_name": "DescriptionStyleModel",
     "state": {
      "_model_module": "@jupyter-widgets/controls",
      "_model_module_version": "1.5.0",
      "_model_name": "DescriptionStyleModel",
      "_view_count": null,
      "_view_module": "@jupyter-widgets/base",
      "_view_module_version": "1.2.0",
      "_view_name": "StyleView",
      "description_width": ""
     }
    },
    "2f10ffa3df1f44dd919c0baee3d30ac3": {
     "model_module": "@jupyter-widgets/base",
     "model_module_version": "1.2.0",
     "model_name": "LayoutModel",
     "state": {
      "_model_module": "@jupyter-widgets/base",
      "_model_module_version": "1.2.0",
      "_model_name": "LayoutModel",
      "_view_count": null,
      "_view_module": "@jupyter-widgets/base",
      "_view_module_version": "1.2.0",
      "_view_name": "LayoutView",
      "align_content": null,
      "align_items": null,
      "align_self": null,
      "border": null,
      "bottom": null,
      "display": null,
      "flex": null,
      "flex_flow": null,
      "grid_area": null,
      "grid_auto_columns": null,
      "grid_auto_flow": null,
      "grid_auto_rows": null,
      "grid_column": null,
      "grid_gap": null,
      "grid_row": null,
      "grid_template_areas": null,
      "grid_template_columns": null,
      "grid_template_rows": null,
      "height": null,
      "justify_content": null,
      "justify_items": null,
      "left": null,
      "margin": null,
      "max_height": null,
      "max_width": null,
      "min_height": null,
      "min_width": null,
      "object_fit": null,
      "object_position": null,
      "order": null,
      "overflow": null,
      "overflow_x": null,
      "overflow_y": null,
      "padding": null,
      "right": null,
      "top": null,
      "visibility": null,
      "width": null
     }
    },
    "315ee8c0093846a091788364c7688c13": {
     "model_module": "@jupyter-widgets/base",
     "model_module_version": "1.2.0",
     "model_name": "LayoutModel",
     "state": {
      "_model_module": "@jupyter-widgets/base",
      "_model_module_version": "1.2.0",
      "_model_name": "LayoutModel",
      "_view_count": null,
      "_view_module": "@jupyter-widgets/base",
      "_view_module_version": "1.2.0",
      "_view_name": "LayoutView",
      "align_content": null,
      "align_items": null,
      "align_self": null,
      "border": null,
      "bottom": null,
      "display": null,
      "flex": null,
      "flex_flow": null,
      "grid_area": null,
      "grid_auto_columns": null,
      "grid_auto_flow": null,
      "grid_auto_rows": null,
      "grid_column": null,
      "grid_gap": null,
      "grid_row": null,
      "grid_template_areas": null,
      "grid_template_columns": null,
      "grid_template_rows": null,
      "height": null,
      "justify_content": null,
      "justify_items": null,
      "left": null,
      "margin": null,
      "max_height": null,
      "max_width": null,
      "min_height": null,
      "min_width": null,
      "object_fit": null,
      "object_position": null,
      "order": null,
      "overflow": null,
      "overflow_x": null,
      "overflow_y": null,
      "padding": null,
      "right": null,
      "top": null,
      "visibility": null,
      "width": null
     }
    },
    "31a79d60573546178856a921e0f5c190": {
     "model_module": "@jupyter-widgets/controls",
     "model_module_version": "1.5.0",
     "model_name": "HTMLModel",
     "state": {
      "_dom_classes": [],
      "_model_module": "@jupyter-widgets/controls",
      "_model_module_version": "1.5.0",
      "_model_name": "HTMLModel",
      "_view_count": null,
      "_view_module": "@jupyter-widgets/controls",
      "_view_module_version": "1.5.0",
      "_view_name": "HTMLView",
      "description": "",
      "description_tooltip": null,
      "layout": "IPY_MODEL_315ee8c0093846a091788364c7688c13",
      "placeholder": "​",
      "style": "IPY_MODEL_2a76d71ad3fa40cbaf398b49e0adefb9",
      "value": " 426k/426k [00:00&lt;00:00, 368kB/s]"
     }
    },
    "340192f505574f72b7496f865608ffe3": {
     "model_module": "@jupyter-widgets/base",
     "model_module_version": "1.2.0",
     "model_name": "LayoutModel",
     "state": {
      "_model_module": "@jupyter-widgets/base",
      "_model_module_version": "1.2.0",
      "_model_name": "LayoutModel",
      "_view_count": null,
      "_view_module": "@jupyter-widgets/base",
      "_view_module_version": "1.2.0",
      "_view_name": "LayoutView",
      "align_content": null,
      "align_items": null,
      "align_self": null,
      "border": null,
      "bottom": null,
      "display": null,
      "flex": null,
      "flex_flow": null,
      "grid_area": null,
      "grid_auto_columns": null,
      "grid_auto_flow": null,
      "grid_auto_rows": null,
      "grid_column": null,
      "grid_gap": null,
      "grid_row": null,
      "grid_template_areas": null,
      "grid_template_columns": null,
      "grid_template_rows": null,
      "height": null,
      "justify_content": null,
      "justify_items": null,
      "left": null,
      "margin": null,
      "max_height": null,
      "max_width": null,
      "min_height": null,
      "min_width": null,
      "object_fit": null,
      "object_position": null,
      "order": null,
      "overflow": null,
      "overflow_x": null,
      "overflow_y": null,
      "padding": null,
      "right": null,
      "top": null,
      "visibility": null,
      "width": null
     }
    },
    "3c8fcb504c8349f793e935ec4164ca1a": {
     "model_module": "@jupyter-widgets/controls",
     "model_module_version": "1.5.0",
     "model_name": "DescriptionStyleModel",
     "state": {
      "_model_module": "@jupyter-widgets/controls",
      "_model_module_version": "1.5.0",
      "_model_name": "DescriptionStyleModel",
      "_view_count": null,
      "_view_module": "@jupyter-widgets/base",
      "_view_module_version": "1.2.0",
      "_view_name": "StyleView",
      "description_width": ""
     }
    },
    "3d4f2c2b28864980b41c8720823fef6e": {
     "model_module": "@jupyter-widgets/base",
     "model_module_version": "1.2.0",
     "model_name": "LayoutModel",
     "state": {
      "_model_module": "@jupyter-widgets/base",
      "_model_module_version": "1.2.0",
      "_model_name": "LayoutModel",
      "_view_count": null,
      "_view_module": "@jupyter-widgets/base",
      "_view_module_version": "1.2.0",
      "_view_name": "LayoutView",
      "align_content": null,
      "align_items": null,
      "align_self": null,
      "border": null,
      "bottom": null,
      "display": null,
      "flex": null,
      "flex_flow": null,
      "grid_area": null,
      "grid_auto_columns": null,
      "grid_auto_flow": null,
      "grid_auto_rows": null,
      "grid_column": null,
      "grid_gap": null,
      "grid_row": null,
      "grid_template_areas": null,
      "grid_template_columns": null,
      "grid_template_rows": null,
      "height": null,
      "justify_content": null,
      "justify_items": null,
      "left": null,
      "margin": null,
      "max_height": null,
      "max_width": null,
      "min_height": null,
      "min_width": null,
      "object_fit": null,
      "object_position": null,
      "order": null,
      "overflow": null,
      "overflow_x": null,
      "overflow_y": null,
      "padding": null,
      "right": null,
      "top": null,
      "visibility": null,
      "width": null
     }
    },
    "46eb3c39e9bf4951b9fb668f310be103": {
     "model_module": "@jupyter-widgets/controls",
     "model_module_version": "1.5.0",
     "model_name": "ProgressStyleModel",
     "state": {
      "_model_module": "@jupyter-widgets/controls",
      "_model_module_version": "1.5.0",
      "_model_name": "ProgressStyleModel",
      "_view_count": null,
      "_view_module": "@jupyter-widgets/base",
      "_view_module_version": "1.2.0",
      "_view_name": "StyleView",
      "bar_color": null,
      "description_width": ""
     }
    },
    "48e43c1295b2416c8a46e50c57057f40": {
     "model_module": "@jupyter-widgets/controls",
     "model_module_version": "1.5.0",
     "model_name": "HTMLModel",
     "state": {
      "_dom_classes": [],
      "_model_module": "@jupyter-widgets/controls",
      "_model_module_version": "1.5.0",
      "_model_name": "HTMLModel",
      "_view_count": null,
      "_view_module": "@jupyter-widgets/controls",
      "_view_module_version": "1.5.0",
      "_view_name": "HTMLView",
      "description": "",
      "description_tooltip": null,
      "layout": "IPY_MODEL_bcd18d241cc14d6e8f912d07bdb2b351",
      "placeholder": "​",
      "style": "IPY_MODEL_6ef2499da99743f5bfd432942be8236c",
      "value": "Downloading: 100%"
     }
    },
    "5195c3fff00b4392a9858558f5367ac6": {
     "model_module": "@jupyter-widgets/controls",
     "model_module_version": "1.5.0",
     "model_name": "HTMLModel",
     "state": {
      "_dom_classes": [],
      "_model_module": "@jupyter-widgets/controls",
      "_model_module_version": "1.5.0",
      "_model_name": "HTMLModel",
      "_view_count": null,
      "_view_module": "@jupyter-widgets/controls",
      "_view_module_version": "1.5.0",
      "_view_name": "HTMLView",
      "description": "",
      "description_tooltip": null,
      "layout": "IPY_MODEL_340192f505574f72b7496f865608ffe3",
      "placeholder": "​",
      "style": "IPY_MODEL_98620c0254194f9cad64e2d4ffafcf72",
      "value": "Downloading: 100%"
     }
    },
    "530cb8fbb3f54dd4a4c37f3160802f43": {
     "model_module": "@jupyter-widgets/base",
     "model_module_version": "1.2.0",
     "model_name": "LayoutModel",
     "state": {
      "_model_module": "@jupyter-widgets/base",
      "_model_module_version": "1.2.0",
      "_model_name": "LayoutModel",
      "_view_count": null,
      "_view_module": "@jupyter-widgets/base",
      "_view_module_version": "1.2.0",
      "_view_name": "LayoutView",
      "align_content": null,
      "align_items": null,
      "align_self": null,
      "border": null,
      "bottom": null,
      "display": null,
      "flex": null,
      "flex_flow": null,
      "grid_area": null,
      "grid_auto_columns": null,
      "grid_auto_flow": null,
      "grid_auto_rows": null,
      "grid_column": null,
      "grid_gap": null,
      "grid_row": null,
      "grid_template_areas": null,
      "grid_template_columns": null,
      "grid_template_rows": null,
      "height": null,
      "justify_content": null,
      "justify_items": null,
      "left": null,
      "margin": null,
      "max_height": null,
      "max_width": null,
      "min_height": null,
      "min_width": null,
      "object_fit": null,
      "object_position": null,
      "order": null,
      "overflow": null,
      "overflow_x": null,
      "overflow_y": null,
      "padding": null,
      "right": null,
      "top": null,
      "visibility": null,
      "width": null
     }
    },
    "55de3f028970426a9904fc9123459878": {
     "model_module": "@jupyter-widgets/controls",
     "model_module_version": "1.5.0",
     "model_name": "ProgressStyleModel",
     "state": {
      "_model_module": "@jupyter-widgets/controls",
      "_model_module_version": "1.5.0",
      "_model_name": "ProgressStyleModel",
      "_view_count": null,
      "_view_module": "@jupyter-widgets/base",
      "_view_module_version": "1.2.0",
      "_view_name": "StyleView",
      "bar_color": null,
      "description_width": ""
     }
    },
    "5c84a1017fc14329b2b09c69b719d1ab": {
     "model_module": "@jupyter-widgets/base",
     "model_module_version": "1.2.0",
     "model_name": "LayoutModel",
     "state": {
      "_model_module": "@jupyter-widgets/base",
      "_model_module_version": "1.2.0",
      "_model_name": "LayoutModel",
      "_view_count": null,
      "_view_module": "@jupyter-widgets/base",
      "_view_module_version": "1.2.0",
      "_view_name": "LayoutView",
      "align_content": null,
      "align_items": null,
      "align_self": null,
      "border": null,
      "bottom": null,
      "display": null,
      "flex": null,
      "flex_flow": null,
      "grid_area": null,
      "grid_auto_columns": null,
      "grid_auto_flow": null,
      "grid_auto_rows": null,
      "grid_column": null,
      "grid_gap": null,
      "grid_row": null,
      "grid_template_areas": null,
      "grid_template_columns": null,
      "grid_template_rows": null,
      "height": null,
      "justify_content": null,
      "justify_items": null,
      "left": null,
      "margin": null,
      "max_height": null,
      "max_width": null,
      "min_height": null,
      "min_width": null,
      "object_fit": null,
      "object_position": null,
      "order": null,
      "overflow": null,
      "overflow_x": null,
      "overflow_y": null,
      "padding": null,
      "right": null,
      "top": null,
      "visibility": null,
      "width": null
     }
    },
    "64f780fa37514b4fa75910a78554cb68": {
     "model_module": "@jupyter-widgets/base",
     "model_module_version": "1.2.0",
     "model_name": "LayoutModel",
     "state": {
      "_model_module": "@jupyter-widgets/base",
      "_model_module_version": "1.2.0",
      "_model_name": "LayoutModel",
      "_view_count": null,
      "_view_module": "@jupyter-widgets/base",
      "_view_module_version": "1.2.0",
      "_view_name": "LayoutView",
      "align_content": null,
      "align_items": null,
      "align_self": null,
      "border": null,
      "bottom": null,
      "display": null,
      "flex": null,
      "flex_flow": null,
      "grid_area": null,
      "grid_auto_columns": null,
      "grid_auto_flow": null,
      "grid_auto_rows": null,
      "grid_column": null,
      "grid_gap": null,
      "grid_row": null,
      "grid_template_areas": null,
      "grid_template_columns": null,
      "grid_template_rows": null,
      "height": null,
      "justify_content": null,
      "justify_items": null,
      "left": null,
      "margin": null,
      "max_height": null,
      "max_width": null,
      "min_height": null,
      "min_width": null,
      "object_fit": null,
      "object_position": null,
      "order": null,
      "overflow": null,
      "overflow_x": null,
      "overflow_y": null,
      "padding": null,
      "right": null,
      "top": null,
      "visibility": null,
      "width": null
     }
    },
    "6755a7bfcf034309a02ab1fca75ede77": {
     "model_module": "@jupyter-widgets/base",
     "model_module_version": "1.2.0",
     "model_name": "LayoutModel",
     "state": {
      "_model_module": "@jupyter-widgets/base",
      "_model_module_version": "1.2.0",
      "_model_name": "LayoutModel",
      "_view_count": null,
      "_view_module": "@jupyter-widgets/base",
      "_view_module_version": "1.2.0",
      "_view_name": "LayoutView",
      "align_content": null,
      "align_items": null,
      "align_self": null,
      "border": null,
      "bottom": null,
      "display": null,
      "flex": null,
      "flex_flow": null,
      "grid_area": null,
      "grid_auto_columns": null,
      "grid_auto_flow": null,
      "grid_auto_rows": null,
      "grid_column": null,
      "grid_gap": null,
      "grid_row": null,
      "grid_template_areas": null,
      "grid_template_columns": null,
      "grid_template_rows": null,
      "height": null,
      "justify_content": null,
      "justify_items": null,
      "left": null,
      "margin": null,
      "max_height": null,
      "max_width": null,
      "min_height": null,
      "min_width": null,
      "object_fit": null,
      "object_position": null,
      "order": null,
      "overflow": null,
      "overflow_x": null,
      "overflow_y": null,
      "padding": null,
      "right": null,
      "top": null,
      "visibility": null,
      "width": null
     }
    },
    "69f9f6a970f14a8897cdd5c02b74cf4a": {
     "model_module": "@jupyter-widgets/controls",
     "model_module_version": "1.5.0",
     "model_name": "HTMLModel",
     "state": {
      "_dom_classes": [],
      "_model_module": "@jupyter-widgets/controls",
      "_model_module_version": "1.5.0",
      "_model_name": "HTMLModel",
      "_view_count": null,
      "_view_module": "@jupyter-widgets/controls",
      "_view_module_version": "1.5.0",
      "_view_name": "HTMLView",
      "description": "",
      "description_tooltip": null,
      "layout": "IPY_MODEL_ee0878d1399e45b68ca43c9c9cd81d9a",
      "placeholder": "​",
      "style": "IPY_MODEL_e53b976695aa41af944e3f2f8596d1b0",
      "value": " 208k/208k [00:00&lt;00:00, 327kB/s]"
     }
    },
    "6ef2499da99743f5bfd432942be8236c": {
     "model_module": "@jupyter-widgets/controls",
     "model_module_version": "1.5.0",
     "model_name": "DescriptionStyleModel",
     "state": {
      "_model_module": "@jupyter-widgets/controls",
      "_model_module_version": "1.5.0",
      "_model_name": "DescriptionStyleModel",
      "_view_count": null,
      "_view_module": "@jupyter-widgets/base",
      "_view_module_version": "1.2.0",
      "_view_name": "StyleView",
      "description_width": ""
     }
    },
    "6f8284261f834b719a0fd599bb03c8b2": {
     "model_module": "@jupyter-widgets/controls",
     "model_module_version": "1.5.0",
     "model_name": "HTMLModel",
     "state": {
      "_dom_classes": [],
      "_model_module": "@jupyter-widgets/controls",
      "_model_module_version": "1.5.0",
      "_model_name": "HTMLModel",
      "_view_count": null,
      "_view_module": "@jupyter-widgets/controls",
      "_view_module_version": "1.5.0",
      "_view_name": "HTMLView",
      "description": "",
      "description_tooltip": null,
      "layout": "IPY_MODEL_e84104b0dafc43ebb14817cd20708d56",
      "placeholder": "​",
      "style": "IPY_MODEL_085cdd69c17e4436af7f950636b90c6e",
      "value": "Downloading: 100%"
     }
    },
    "73faa65f3d7f4dd5b726cf98298602e7": {
     "model_module": "@jupyter-widgets/base",
     "model_module_version": "1.2.0",
     "model_name": "LayoutModel",
     "state": {
      "_model_module": "@jupyter-widgets/base",
      "_model_module_version": "1.2.0",
      "_model_name": "LayoutModel",
      "_view_count": null,
      "_view_module": "@jupyter-widgets/base",
      "_view_module_version": "1.2.0",
      "_view_name": "LayoutView",
      "align_content": null,
      "align_items": null,
      "align_self": null,
      "border": null,
      "bottom": null,
      "display": null,
      "flex": null,
      "flex_flow": null,
      "grid_area": null,
      "grid_auto_columns": null,
      "grid_auto_flow": null,
      "grid_auto_rows": null,
      "grid_column": null,
      "grid_gap": null,
      "grid_row": null,
      "grid_template_areas": null,
      "grid_template_columns": null,
      "grid_template_rows": null,
      "height": null,
      "justify_content": null,
      "justify_items": null,
      "left": null,
      "margin": null,
      "max_height": null,
      "max_width": null,
      "min_height": null,
      "min_width": null,
      "object_fit": null,
      "object_position": null,
      "order": null,
      "overflow": null,
      "overflow_x": null,
      "overflow_y": null,
      "padding": null,
      "right": null,
      "top": null,
      "visibility": null,
      "width": null
     }
    },
    "7d515148f8814097acdf61376e700410": {
     "model_module": "@jupyter-widgets/base",
     "model_module_version": "1.2.0",
     "model_name": "LayoutModel",
     "state": {
      "_model_module": "@jupyter-widgets/base",
      "_model_module_version": "1.2.0",
      "_model_name": "LayoutModel",
      "_view_count": null,
      "_view_module": "@jupyter-widgets/base",
      "_view_module_version": "1.2.0",
      "_view_name": "LayoutView",
      "align_content": null,
      "align_items": null,
      "align_self": null,
      "border": null,
      "bottom": null,
      "display": null,
      "flex": null,
      "flex_flow": null,
      "grid_area": null,
      "grid_auto_columns": null,
      "grid_auto_flow": null,
      "grid_auto_rows": null,
      "grid_column": null,
      "grid_gap": null,
      "grid_row": null,
      "grid_template_areas": null,
      "grid_template_columns": null,
      "grid_template_rows": null,
      "height": null,
      "justify_content": null,
      "justify_items": null,
      "left": null,
      "margin": null,
      "max_height": null,
      "max_width": null,
      "min_height": null,
      "min_width": null,
      "object_fit": null,
      "object_position": null,
      "order": null,
      "overflow": null,
      "overflow_x": null,
      "overflow_y": null,
      "padding": null,
      "right": null,
      "top": null,
      "visibility": null,
      "width": null
     }
    },
    "865c669b97224cc2be141212d5de0af5": {
     "model_module": "@jupyter-widgets/controls",
     "model_module_version": "1.5.0",
     "model_name": "ProgressStyleModel",
     "state": {
      "_model_module": "@jupyter-widgets/controls",
      "_model_module_version": "1.5.0",
      "_model_name": "ProgressStyleModel",
      "_view_count": null,
      "_view_module": "@jupyter-widgets/base",
      "_view_module_version": "1.2.0",
      "_view_name": "StyleView",
      "bar_color": null,
      "description_width": ""
     }
    },
    "8a4c66093db14c25b8aa2b9d15760dd4": {
     "model_module": "@jupyter-widgets/controls",
     "model_module_version": "1.5.0",
     "model_name": "HBoxModel",
     "state": {
      "_dom_classes": [],
      "_model_module": "@jupyter-widgets/controls",
      "_model_module_version": "1.5.0",
      "_model_name": "HBoxModel",
      "_view_count": null,
      "_view_module": "@jupyter-widgets/controls",
      "_view_module_version": "1.5.0",
      "_view_name": "HBoxView",
      "box_style": "",
      "children": [
       "IPY_MODEL_8b4ac1dcba5749169a74d7c704c458ae",
       "IPY_MODEL_0cbbf3d4487644b89158c60e70dbb607",
       "IPY_MODEL_aeac7285f899476884e5ec6dc9a8c521"
      ],
      "layout": "IPY_MODEL_5c84a1017fc14329b2b09c69b719d1ab"
     }
    },
    "8b4ac1dcba5749169a74d7c704c458ae": {
     "model_module": "@jupyter-widgets/controls",
     "model_module_version": "1.5.0",
     "model_name": "HTMLModel",
     "state": {
      "_dom_classes": [],
      "_model_module": "@jupyter-widgets/controls",
      "_model_module_version": "1.5.0",
      "_model_name": "HTMLModel",
      "_view_count": null,
      "_view_module": "@jupyter-widgets/controls",
      "_view_module_version": "1.5.0",
      "_view_name": "HTMLView",
      "description": "",
      "description_tooltip": null,
      "layout": "IPY_MODEL_64f780fa37514b4fa75910a78554cb68",
      "placeholder": "​",
      "style": "IPY_MODEL_efa4acc3b227476a99a79a0d1d6c024f",
      "value": "Downloading: 100%"
     }
    },
    "936e7ea6788547eb961fab7f0ac3fc9c": {
     "model_module": "@jupyter-widgets/controls",
     "model_module_version": "1.5.0",
     "model_name": "HTMLModel",
     "state": {
      "_dom_classes": [],
      "_model_module": "@jupyter-widgets/controls",
      "_model_module_version": "1.5.0",
      "_model_name": "HTMLModel",
      "_view_count": null,
      "_view_module": "@jupyter-widgets/controls",
      "_view_module_version": "1.5.0",
      "_view_name": "HTMLView",
      "description": "",
      "description_tooltip": null,
      "layout": "IPY_MODEL_73faa65f3d7f4dd5b726cf98298602e7",
      "placeholder": "​",
      "style": "IPY_MODEL_228b86f13326402ab8378ff0c8fbbff1",
      "value": " 416M/416M [00:14&lt;00:00, 30.3MB/s]"
     }
    },
    "95204170f8f74eec91ae42ef1b9b3c15": {
     "model_module": "@jupyter-widgets/controls",
     "model_module_version": "1.5.0",
     "model_name": "ProgressStyleModel",
     "state": {
      "_model_module": "@jupyter-widgets/controls",
      "_model_module_version": "1.5.0",
      "_model_name": "ProgressStyleModel",
      "_view_count": null,
      "_view_module": "@jupyter-widgets/base",
      "_view_module_version": "1.2.0",
      "_view_name": "StyleView",
      "bar_color": null,
      "description_width": ""
     }
    },
    "98620c0254194f9cad64e2d4ffafcf72": {
     "model_module": "@jupyter-widgets/controls",
     "model_module_version": "1.5.0",
     "model_name": "DescriptionStyleModel",
     "state": {
      "_model_module": "@jupyter-widgets/controls",
      "_model_module_version": "1.5.0",
      "_model_name": "DescriptionStyleModel",
      "_view_count": null,
      "_view_module": "@jupyter-widgets/base",
      "_view_module_version": "1.2.0",
      "_view_name": "StyleView",
      "description_width": ""
     }
    },
    "99e1bdc66761476e8ac577a44b9d6d5a": {
     "model_module": "@jupyter-widgets/controls",
     "model_module_version": "1.5.0",
     "model_name": "FloatProgressModel",
     "state": {
      "_dom_classes": [],
      "_model_module": "@jupyter-widgets/controls",
      "_model_module_version": "1.5.0",
      "_model_name": "FloatProgressModel",
      "_view_count": null,
      "_view_module": "@jupyter-widgets/controls",
      "_view_module_version": "1.5.0",
      "_view_name": "ProgressView",
      "bar_style": "success",
      "description": "",
      "description_tooltip": null,
      "layout": "IPY_MODEL_6755a7bfcf034309a02ab1fca75ede77",
      "max": 435779157,
      "min": 0,
      "orientation": "horizontal",
      "style": "IPY_MODEL_18263e27139341a884f597dc6e3e175f",
      "value": 435779157
     }
    },
    "a413ea9ae9954bfd828f9baa0b704ccd": {
     "model_module": "@jupyter-widgets/controls",
     "model_module_version": "1.5.0",
     "model_name": "DescriptionStyleModel",
     "state": {
      "_model_module": "@jupyter-widgets/controls",
      "_model_module_version": "1.5.0",
      "_model_name": "DescriptionStyleModel",
      "_view_count": null,
      "_view_module": "@jupyter-widgets/base",
      "_view_module_version": "1.2.0",
      "_view_name": "StyleView",
      "description_width": ""
     }
    },
    "aeac7285f899476884e5ec6dc9a8c521": {
     "model_module": "@jupyter-widgets/controls",
     "model_module_version": "1.5.0",
     "model_name": "HTMLModel",
     "state": {
      "_dom_classes": [],
      "_model_module": "@jupyter-widgets/controls",
      "_model_module_version": "1.5.0",
      "_model_name": "HTMLModel",
      "_view_count": null,
      "_view_module": "@jupyter-widgets/controls",
      "_view_module_version": "1.5.0",
      "_view_name": "HTMLView",
      "description": "",
      "description_tooltip": null,
      "layout": "IPY_MODEL_bacd9a4d7c624d5eaea8fdcc59c03ebe",
      "placeholder": "​",
      "style": "IPY_MODEL_a413ea9ae9954bfd828f9baa0b704ccd",
      "value": " 29.0/29.0 [00:00&lt;00:00, 726B/s]"
     }
    },
    "bacd9a4d7c624d5eaea8fdcc59c03ebe": {
     "model_module": "@jupyter-widgets/base",
     "model_module_version": "1.2.0",
     "model_name": "LayoutModel",
     "state": {
      "_model_module": "@jupyter-widgets/base",
      "_model_module_version": "1.2.0",
      "_model_name": "LayoutModel",
      "_view_count": null,
      "_view_module": "@jupyter-widgets/base",
      "_view_module_version": "1.2.0",
      "_view_name": "LayoutView",
      "align_content": null,
      "align_items": null,
      "align_self": null,
      "border": null,
      "bottom": null,
      "display": null,
      "flex": null,
      "flex_flow": null,
      "grid_area": null,
      "grid_auto_columns": null,
      "grid_auto_flow": null,
      "grid_auto_rows": null,
      "grid_column": null,
      "grid_gap": null,
      "grid_row": null,
      "grid_template_areas": null,
      "grid_template_columns": null,
      "grid_template_rows": null,
      "height": null,
      "justify_content": null,
      "justify_items": null,
      "left": null,
      "margin": null,
      "max_height": null,
      "max_width": null,
      "min_height": null,
      "min_width": null,
      "object_fit": null,
      "object_position": null,
      "order": null,
      "overflow": null,
      "overflow_x": null,
      "overflow_y": null,
      "padding": null,
      "right": null,
      "top": null,
      "visibility": null,
      "width": null
     }
    },
    "bcd18d241cc14d6e8f912d07bdb2b351": {
     "model_module": "@jupyter-widgets/base",
     "model_module_version": "1.2.0",
     "model_name": "LayoutModel",
     "state": {
      "_model_module": "@jupyter-widgets/base",
      "_model_module_version": "1.2.0",
      "_model_name": "LayoutModel",
      "_view_count": null,
      "_view_module": "@jupyter-widgets/base",
      "_view_module_version": "1.2.0",
      "_view_name": "LayoutView",
      "align_content": null,
      "align_items": null,
      "align_self": null,
      "border": null,
      "bottom": null,
      "display": null,
      "flex": null,
      "flex_flow": null,
      "grid_area": null,
      "grid_auto_columns": null,
      "grid_auto_flow": null,
      "grid_auto_rows": null,
      "grid_column": null,
      "grid_gap": null,
      "grid_row": null,
      "grid_template_areas": null,
      "grid_template_columns": null,
      "grid_template_rows": null,
      "height": null,
      "justify_content": null,
      "justify_items": null,
      "left": null,
      "margin": null,
      "max_height": null,
      "max_width": null,
      "min_height": null,
      "min_width": null,
      "object_fit": null,
      "object_position": null,
      "order": null,
      "overflow": null,
      "overflow_x": null,
      "overflow_y": null,
      "padding": null,
      "right": null,
      "top": null,
      "visibility": null,
      "width": null
     }
    },
    "c4b211e0c60443f3889149135db6bfeb": {
     "model_module": "@jupyter-widgets/controls",
     "model_module_version": "1.5.0",
     "model_name": "FloatProgressModel",
     "state": {
      "_dom_classes": [],
      "_model_module": "@jupyter-widgets/controls",
      "_model_module_version": "1.5.0",
      "_model_name": "FloatProgressModel",
      "_view_count": null,
      "_view_module": "@jupyter-widgets/controls",
      "_view_module_version": "1.5.0",
      "_view_name": "ProgressView",
      "bar_style": "success",
      "description": "",
      "description_tooltip": null,
      "layout": "IPY_MODEL_055e6760af2a4cc99a5ab6c89d09a631",
      "max": 570,
      "min": 0,
      "orientation": "horizontal",
      "style": "IPY_MODEL_46eb3c39e9bf4951b9fb668f310be103",
      "value": 570
     }
    },
    "ca8c2d4b884b4ac794576be0c009f68e": {
     "model_module": "@jupyter-widgets/controls",
     "model_module_version": "1.5.0",
     "model_name": "HBoxModel",
     "state": {
      "_dom_classes": [],
      "_model_module": "@jupyter-widgets/controls",
      "_model_module_version": "1.5.0",
      "_model_name": "HBoxModel",
      "_view_count": null,
      "_view_module": "@jupyter-widgets/controls",
      "_view_module_version": "1.5.0",
      "_view_name": "HBoxView",
      "box_style": "",
      "children": [
       "IPY_MODEL_6f8284261f834b719a0fd599bb03c8b2",
       "IPY_MODEL_dc921144d4f44c499eb91e1c8ab92bdb",
       "IPY_MODEL_69f9f6a970f14a8897cdd5c02b74cf4a"
      ],
      "layout": "IPY_MODEL_7d515148f8814097acdf61376e700410"
     }
    },
    "cc0aaf21f85b4cf1942fdb0e1f62b902": {
     "model_module": "@jupyter-widgets/base",
     "model_module_version": "1.2.0",
     "model_name": "LayoutModel",
     "state": {
      "_model_module": "@jupyter-widgets/base",
      "_model_module_version": "1.2.0",
      "_model_name": "LayoutModel",
      "_view_count": null,
      "_view_module": "@jupyter-widgets/base",
      "_view_module_version": "1.2.0",
      "_view_name": "LayoutView",
      "align_content": null,
      "align_items": null,
      "align_self": null,
      "border": null,
      "bottom": null,
      "display": null,
      "flex": null,
      "flex_flow": null,
      "grid_area": null,
      "grid_auto_columns": null,
      "grid_auto_flow": null,
      "grid_auto_rows": null,
      "grid_column": null,
      "grid_gap": null,
      "grid_row": null,
      "grid_template_areas": null,
      "grid_template_columns": null,
      "grid_template_rows": null,
      "height": null,
      "justify_content": null,
      "justify_items": null,
      "left": null,
      "margin": null,
      "max_height": null,
      "max_width": null,
      "min_height": null,
      "min_width": null,
      "object_fit": null,
      "object_position": null,
      "order": null,
      "overflow": null,
      "overflow_x": null,
      "overflow_y": null,
      "padding": null,
      "right": null,
      "top": null,
      "visibility": null,
      "width": null
     }
    },
    "d850d2931d484a9c809dbc3ca011257d": {
     "model_module": "@jupyter-widgets/base",
     "model_module_version": "1.2.0",
     "model_name": "LayoutModel",
     "state": {
      "_model_module": "@jupyter-widgets/base",
      "_model_module_version": "1.2.0",
      "_model_name": "LayoutModel",
      "_view_count": null,
      "_view_module": "@jupyter-widgets/base",
      "_view_module_version": "1.2.0",
      "_view_name": "LayoutView",
      "align_content": null,
      "align_items": null,
      "align_self": null,
      "border": null,
      "bottom": null,
      "display": null,
      "flex": null,
      "flex_flow": null,
      "grid_area": null,
      "grid_auto_columns": null,
      "grid_auto_flow": null,
      "grid_auto_rows": null,
      "grid_column": null,
      "grid_gap": null,
      "grid_row": null,
      "grid_template_areas": null,
      "grid_template_columns": null,
      "grid_template_rows": null,
      "height": null,
      "justify_content": null,
      "justify_items": null,
      "left": null,
      "margin": null,
      "max_height": null,
      "max_width": null,
      "min_height": null,
      "min_width": null,
      "object_fit": null,
      "object_position": null,
      "order": null,
      "overflow": null,
      "overflow_x": null,
      "overflow_y": null,
      "padding": null,
      "right": null,
      "top": null,
      "visibility": null,
      "width": null
     }
    },
    "dc921144d4f44c499eb91e1c8ab92bdb": {
     "model_module": "@jupyter-widgets/controls",
     "model_module_version": "1.5.0",
     "model_name": "FloatProgressModel",
     "state": {
      "_dom_classes": [],
      "_model_module": "@jupyter-widgets/controls",
      "_model_module_version": "1.5.0",
      "_model_name": "FloatProgressModel",
      "_view_count": null,
      "_view_module": "@jupyter-widgets/controls",
      "_view_module_version": "1.5.0",
      "_view_name": "ProgressView",
      "bar_style": "success",
      "description": "",
      "description_tooltip": null,
      "layout": "IPY_MODEL_2f10ffa3df1f44dd919c0baee3d30ac3",
      "max": 213450,
      "min": 0,
      "orientation": "horizontal",
      "style": "IPY_MODEL_95204170f8f74eec91ae42ef1b9b3c15",
      "value": 213450
     }
    },
    "e53b976695aa41af944e3f2f8596d1b0": {
     "model_module": "@jupyter-widgets/controls",
     "model_module_version": "1.5.0",
     "model_name": "DescriptionStyleModel",
     "state": {
      "_model_module": "@jupyter-widgets/controls",
      "_model_module_version": "1.5.0",
      "_model_name": "DescriptionStyleModel",
      "_view_count": null,
      "_view_module": "@jupyter-widgets/base",
      "_view_module_version": "1.2.0",
      "_view_name": "StyleView",
      "description_width": ""
     }
    },
    "e635e63ca713478a961c98edc3e1ca7a": {
     "model_module": "@jupyter-widgets/controls",
     "model_module_version": "1.5.0",
     "model_name": "HBoxModel",
     "state": {
      "_dom_classes": [],
      "_model_module": "@jupyter-widgets/controls",
      "_model_module_version": "1.5.0",
      "_model_name": "HBoxModel",
      "_view_count": null,
      "_view_module": "@jupyter-widgets/controls",
      "_view_module_version": "1.5.0",
      "_view_name": "HBoxView",
      "box_style": "",
      "children": [
       "IPY_MODEL_48e43c1295b2416c8a46e50c57057f40",
       "IPY_MODEL_06f7bff32930487389f4bcd11a046ba9",
       "IPY_MODEL_31a79d60573546178856a921e0f5c190"
      ],
      "layout": "IPY_MODEL_cc0aaf21f85b4cf1942fdb0e1f62b902"
     }
    },
    "e84104b0dafc43ebb14817cd20708d56": {
     "model_module": "@jupyter-widgets/base",
     "model_module_version": "1.2.0",
     "model_name": "LayoutModel",
     "state": {
      "_model_module": "@jupyter-widgets/base",
      "_model_module_version": "1.2.0",
      "_model_name": "LayoutModel",
      "_view_count": null,
      "_view_module": "@jupyter-widgets/base",
      "_view_module_version": "1.2.0",
      "_view_name": "LayoutView",
      "align_content": null,
      "align_items": null,
      "align_self": null,
      "border": null,
      "bottom": null,
      "display": null,
      "flex": null,
      "flex_flow": null,
      "grid_area": null,
      "grid_auto_columns": null,
      "grid_auto_flow": null,
      "grid_auto_rows": null,
      "grid_column": null,
      "grid_gap": null,
      "grid_row": null,
      "grid_template_areas": null,
      "grid_template_columns": null,
      "grid_template_rows": null,
      "height": null,
      "justify_content": null,
      "justify_items": null,
      "left": null,
      "margin": null,
      "max_height": null,
      "max_width": null,
      "min_height": null,
      "min_width": null,
      "object_fit": null,
      "object_position": null,
      "order": null,
      "overflow": null,
      "overflow_x": null,
      "overflow_y": null,
      "padding": null,
      "right": null,
      "top": null,
      "visibility": null,
      "width": null
     }
    },
    "ee0878d1399e45b68ca43c9c9cd81d9a": {
     "model_module": "@jupyter-widgets/base",
     "model_module_version": "1.2.0",
     "model_name": "LayoutModel",
     "state": {
      "_model_module": "@jupyter-widgets/base",
      "_model_module_version": "1.2.0",
      "_model_name": "LayoutModel",
      "_view_count": null,
      "_view_module": "@jupyter-widgets/base",
      "_view_module_version": "1.2.0",
      "_view_name": "LayoutView",
      "align_content": null,
      "align_items": null,
      "align_self": null,
      "border": null,
      "bottom": null,
      "display": null,
      "flex": null,
      "flex_flow": null,
      "grid_area": null,
      "grid_auto_columns": null,
      "grid_auto_flow": null,
      "grid_auto_rows": null,
      "grid_column": null,
      "grid_gap": null,
      "grid_row": null,
      "grid_template_areas": null,
      "grid_template_columns": null,
      "grid_template_rows": null,
      "height": null,
      "justify_content": null,
      "justify_items": null,
      "left": null,
      "margin": null,
      "max_height": null,
      "max_width": null,
      "min_height": null,
      "min_width": null,
      "object_fit": null,
      "object_position": null,
      "order": null,
      "overflow": null,
      "overflow_x": null,
      "overflow_y": null,
      "padding": null,
      "right": null,
      "top": null,
      "visibility": null,
      "width": null
     }
    },
    "efa4acc3b227476a99a79a0d1d6c024f": {
     "model_module": "@jupyter-widgets/controls",
     "model_module_version": "1.5.0",
     "model_name": "DescriptionStyleModel",
     "state": {
      "_model_module": "@jupyter-widgets/controls",
      "_model_module_version": "1.5.0",
      "_model_name": "DescriptionStyleModel",
      "_view_count": null,
      "_view_module": "@jupyter-widgets/base",
      "_view_module_version": "1.2.0",
      "_view_name": "StyleView",
      "description_width": ""
     }
    },
    "f442c127804f41abad386e33e09c05db": {
     "model_module": "@jupyter-widgets/controls",
     "model_module_version": "1.5.0",
     "model_name": "HTMLModel",
     "state": {
      "_dom_classes": [],
      "_model_module": "@jupyter-widgets/controls",
      "_model_module_version": "1.5.0",
      "_model_name": "HTMLModel",
      "_view_count": null,
      "_view_module": "@jupyter-widgets/controls",
      "_view_module_version": "1.5.0",
      "_view_name": "HTMLView",
      "description": "",
      "description_tooltip": null,
      "layout": "IPY_MODEL_2674f4b837014c9083f38a737dd757aa",
      "placeholder": "​",
      "style": "IPY_MODEL_3c8fcb504c8349f793e935ec4164ca1a",
      "value": "Downloading: 100%"
     }
    },
    "fbc0fbf3c4784098b65f3c9a6d954fca": {
     "model_module": "@jupyter-widgets/controls",
     "model_module_version": "1.5.0",
     "model_name": "HBoxModel",
     "state": {
      "_dom_classes": [],
      "_model_module": "@jupyter-widgets/controls",
      "_model_module_version": "1.5.0",
      "_model_name": "HBoxModel",
      "_view_count": null,
      "_view_module": "@jupyter-widgets/controls",
      "_view_module_version": "1.5.0",
      "_view_name": "HBoxView",
      "box_style": "",
      "children": [
       "IPY_MODEL_f442c127804f41abad386e33e09c05db",
       "IPY_MODEL_c4b211e0c60443f3889149135db6bfeb",
       "IPY_MODEL_203bbb759bfc42fb8895a162e08d3226"
      ],
      "layout": "IPY_MODEL_530cb8fbb3f54dd4a4c37f3160802f43"
     }
    }
   }
  }
 },
 "nbformat": 4,
 "nbformat_minor": 4
}
