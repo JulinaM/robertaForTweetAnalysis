{
 "cells": [
  {
   "cell_type": "code",
   "execution_count": 1,
   "metadata": {},
   "outputs": [],
   "source": [
    "# https://colab.research.google.com/github/DhavalTaunk08/NLP_scripts/blob/master/sentiment_analysis_using_roberta.ipynb#scrollTo=HMqQTafXEaei"
   ]
  },
  {
   "cell_type": "code",
   "execution_count": 1,
   "metadata": {
    "colab": {
     "base_uri": "https://localhost:8080/"
    },
    "id": "mjlMoTtP6zh4",
    "outputId": "044618cf-e1c2-4bca-f68d-1c188f9af205",
    "scrolled": true
   },
   "outputs": [
    {
     "name": "stdout",
     "output_type": "stream",
     "text": [
      "/usr/bin/sh: nvidia-smi: command not found\n"
     ]
    }
   ],
   "source": [
    "!nvidia-smi"
   ]
  },
  {
   "cell_type": "code",
   "execution_count": 2,
   "metadata": {
    "colab": {
     "base_uri": "https://localhost:8080/"
    },
    "id": "4tep2jcHKtLW",
    "outputId": "512e70e3-e7ac-40cc-a116-e7a8811a5c1e"
   },
   "outputs": [],
   "source": [
    "# !pip install -q -U watermark\n",
    "# !pip install -qq transformers\n",
    "# # Update libraries\n",
    "# !pip install seaborn==0.9.0\n",
    "# !pip install sklearn\n",
    "# %reload_ext watermark\n",
    "# %watermark -v -p numpy,pandas,torch,transformers"
   ]
  },
  {
   "cell_type": "code",
   "execution_count": 3,
   "metadata": {
    "colab": {
     "base_uri": "https://localhost:8080/"
    },
    "id": "l59zl8RALeLS",
    "outputId": "6398f014-8da0-4246-a1c6-273ed1ead195"
   },
   "outputs": [],
   "source": [
    "import transformers\n",
    "from transformers import BertModel, BertTokenizer, AdamW, get_linear_schedule_with_warmup\n",
    "import torch\n",
    "\n",
    "import numpy as np\n",
    "import pandas as pd\n",
    "import seaborn as sns\n",
    "from pylab import rcParams\n",
    "import matplotlib.pyplot as plt\n",
    "from matplotlib import rc\n",
    "from sklearn.model_selection import train_test_split\n",
    "from sklearn.metrics import confusion_matrix, classification_report\n",
    "from collections import defaultdict\n",
    "from textwrap import wrap\n",
    "\n",
    "from torch import nn, optim\n",
    "from torch.utils.data import Dataset, DataLoader"
   ]
  },
  {
   "cell_type": "code",
   "execution_count": 4,
   "metadata": {
    "colab": {
     "base_uri": "https://localhost:8080/"
    },
    "id": "vOf9SIPJlkb4",
    "outputId": "4e017760-6961-4b6a-9091-4ea0012a1fc4"
   },
   "outputs": [],
   "source": [
    "%matplotlib inline\n",
    "%config InlineBackend.figure_format='retina'\n",
    "\n",
    "sns.set(style='whitegrid', palette='muted', font_scale=1.2)\n",
    "HAPPY_COLORS_PALETTE = [\"#01BEFE\", \"#FFDD00\", \"#FF7D00\", \"#FF006D\", \"#ADFF02\", \"#8F00FF\"]\n",
    "sns.set_palette(sns.color_palette(HAPPY_COLORS_PALETTE))\n",
    "\n",
    "rcParams['figure.figsize'] = 12, 8\n",
    "RANDOM_SEED = 42\n",
    "np.random.seed(RANDOM_SEED)\n",
    "torch.manual_seed(RANDOM_SEED)\n",
    "device = torch.device(\"cuda:0\" if torch.cuda.is_available() else \"cpu\")"
   ]
  },
  {
   "cell_type": "code",
   "execution_count": 5,
   "metadata": {},
   "outputs": [
    {
     "data": {
      "text/html": [
       "<div>\n",
       "<style scoped>\n",
       "    .dataframe tbody tr th:only-of-type {\n",
       "        vertical-align: middle;\n",
       "    }\n",
       "\n",
       "    .dataframe tbody tr th {\n",
       "        vertical-align: top;\n",
       "    }\n",
       "\n",
       "    .dataframe thead th {\n",
       "        text-align: right;\n",
       "    }\n",
       "</style>\n",
       "<table border=\"1\" class=\"dataframe\">\n",
       "  <thead>\n",
       "    <tr style=\"text-align: right;\">\n",
       "      <th></th>\n",
       "      <th>Tweet</th>\n",
       "      <th>Substance</th>\n",
       "      <th>Use</th>\n",
       "      <th>Intent</th>\n",
       "    </tr>\n",
       "  </thead>\n",
       "  <tbody>\n",
       "    <tr>\n",
       "      <th>0</th>\n",
       "      <td>@aaronaxline @friskycarolina was livid to watc...</td>\n",
       "      <td>X</td>\n",
       "      <td>X</td>\n",
       "      <td>X</td>\n",
       "    </tr>\n",
       "    <tr>\n",
       "      <th>1</th>\n",
       "      <td>anyways. im starting my diet on Sunday. i was ...</td>\n",
       "      <td>A</td>\n",
       "      <td>S</td>\n",
       "      <td>A</td>\n",
       "    </tr>\n",
       "    <tr>\n",
       "      <th>2</th>\n",
       "      <td>Alcohol and drugs is good for the mind but not...</td>\n",
       "      <td>D</td>\n",
       "      <td>S</td>\n",
       "      <td>A</td>\n",
       "    </tr>\n",
       "    <tr>\n",
       "      <th>3</th>\n",
       "      <td>Now that's jus sad 😂 #BuckeyeNation\"62% of Ohi...</td>\n",
       "      <td>X</td>\n",
       "      <td>X</td>\n",
       "      <td>X</td>\n",
       "    </tr>\n",
       "    <tr>\n",
       "      <th>4</th>\n",
       "      <td>Bro do you ever get in those moods where you j...</td>\n",
       "      <td>X</td>\n",
       "      <td>X</td>\n",
       "      <td>X</td>\n",
       "    </tr>\n",
       "    <tr>\n",
       "      <th>...</th>\n",
       "      <td>...</td>\n",
       "      <td>...</td>\n",
       "      <td>...</td>\n",
       "      <td>...</td>\n",
       "    </tr>\n",
       "    <tr>\n",
       "      <th>4462</th>\n",
       "      <td>How much coke she did no wonder age OD'd. Damn.</td>\n",
       "      <td>C</td>\n",
       "      <td>S</td>\n",
       "      <td>X</td>\n",
       "    </tr>\n",
       "    <tr>\n",
       "      <th>4463</th>\n",
       "      <td>Ain't no salary cap in the dope game ain't no ...</td>\n",
       "      <td>C</td>\n",
       "      <td>X</td>\n",
       "      <td>X</td>\n",
       "    </tr>\n",
       "    <tr>\n",
       "      <th>4464</th>\n",
       "      <td>Aw man they busting out the nose candy &amp;amp; f...</td>\n",
       "      <td>C</td>\n",
       "      <td>N</td>\n",
       "      <td>A</td>\n",
       "    </tr>\n",
       "    <tr>\n",
       "      <th>4465</th>\n",
       "      <td>They say crack kill nigga my crack sell #21Savage</td>\n",
       "      <td>C</td>\n",
       "      <td>X</td>\n",
       "      <td>X</td>\n",
       "    </tr>\n",
       "    <tr>\n",
       "      <th>4466</th>\n",
       "      <td>crackhead on my street tried to sell me a kid'...</td>\n",
       "      <td>C</td>\n",
       "      <td>S</td>\n",
       "      <td>A</td>\n",
       "    </tr>\n",
       "  </tbody>\n",
       "</table>\n",
       "<p>4467 rows × 4 columns</p>\n",
       "</div>"
      ],
      "text/plain": [
       "                                                  Tweet Substance Use Intent\n",
       "0     @aaronaxline @friskycarolina was livid to watc...         X   X      X\n",
       "1     anyways. im starting my diet on Sunday. i was ...         A   S      A\n",
       "2     Alcohol and drugs is good for the mind but not...         D   S      A\n",
       "3     Now that's jus sad 😂 #BuckeyeNation\"62% of Ohi...         X   X      X\n",
       "4     Bro do you ever get in those moods where you j...         X   X      X\n",
       "...                                                 ...       ...  ..    ...\n",
       "4462    How much coke she did no wonder age OD'd. Damn.         C   S      X\n",
       "4463  Ain't no salary cap in the dope game ain't no ...         C   X      X\n",
       "4464  Aw man they busting out the nose candy &amp; f...         C   N      A\n",
       "4465  They say crack kill nigga my crack sell #21Savage         C   X      X\n",
       "4466  crackhead on my street tried to sell me a kid'...         C   S      A\n",
       "\n",
       "[4467 rows x 4 columns]"
      ]
     },
     "execution_count": 5,
     "metadata": {},
     "output_type": "execute_result"
    }
   ],
   "source": [
    "df =pd.read_csv('/users/kent/jmaharja/drugAbuse/input/Tweets_Spring_Summer_2021_coded.csv',\n",
    "                lineterminator='\\n',\n",
    "                skipinitialspace=True,\n",
    "                usecols= ['Tweet', 'Substance', 'Use', 'Intent']\n",
    "                )\n",
    "df"
   ]
  },
  {
   "cell_type": "code",
   "execution_count": 166,
   "metadata": {},
   "outputs": [],
   "source": [
    "# df =pd.read_csv('/users/kent/jmaharja/drugAbuse/input/Tweets_Spring_Summer_2021_coded.csv',\n",
    "#                       lineterminator='\\n',skipinitialspace=True, usecols= ['Tweet', 'Substance', 'Use'])\n",
    "# # in the tweets find the hashtag\n",
    "# df['hashTags'] = df['Tweet'].str.findall(\"#(\\w+)\")\n",
    "# # in the tweets find the mentions\n",
    "# df['mentions'] = df['Tweet'].str.findall(\"@(\\w+)\")\n",
    "\n",
    "# # Remove hashtag and mentions\n",
    "# df['Tweet'] = df['Tweet'].str.replace(r'#(\\w+)', '', regex=True)\n",
    "# df['Tweet'] = df['Tweet'].str.replace(r'@(\\w+)', '', regex=True)\n",
    "\n",
    "# # df"
   ]
  },
  {
   "cell_type": "code",
   "execution_count": 167,
   "metadata": {},
   "outputs": [],
   "source": [
    "# LABEL_COLUMNS = df.columns.tolist()[1:]\n",
    "# val = df[LABEL_COLUMNS].sum().sort_values()\n",
    "# val"
   ]
  },
  {
   "cell_type": "code",
   "execution_count": 6,
   "metadata": {},
   "outputs": [],
   "source": [
    "df = df.dropna(subset=['Substance'])"
   ]
  },
  {
   "cell_type": "code",
   "execution_count": 10,
   "metadata": {},
   "outputs": [
    {
     "data": {
      "text/html": [
       "<div>\n",
       "<style scoped>\n",
       "    .dataframe tbody tr th:only-of-type {\n",
       "        vertical-align: middle;\n",
       "    }\n",
       "\n",
       "    .dataframe tbody tr th {\n",
       "        vertical-align: top;\n",
       "    }\n",
       "\n",
       "    .dataframe thead th {\n",
       "        text-align: right;\n",
       "    }\n",
       "</style>\n",
       "<table border=\"1\" class=\"dataframe\">\n",
       "  <thead>\n",
       "    <tr style=\"text-align: right;\">\n",
       "      <th></th>\n",
       "      <th>Tweet</th>\n",
       "      <th>Substance</th>\n",
       "      <th>Use</th>\n",
       "      <th>Intent</th>\n",
       "    </tr>\n",
       "  </thead>\n",
       "  <tbody>\n",
       "    <tr>\n",
       "      <th>3879</th>\n",
       "      <td>When I text a cute game, wildness Throw a stac...</td>\n",
       "      <td>CD</td>\n",
       "      <td>N</td>\n",
       "      <td>X</td>\n",
       "    </tr>\n",
       "  </tbody>\n",
       "</table>\n",
       "</div>"
      ],
      "text/plain": [
       "                                                  Tweet Substance Use Intent\n",
       "3879  When I text a cute game, wildness Throw a stac...        CD   N      X"
      ]
     },
     "execution_count": 10,
     "metadata": {},
     "output_type": "execute_result"
    }
   ],
   "source": [
    "df.loc[df['Substance']=='CD']"
   ]
  },
  {
   "cell_type": "markdown",
   "metadata": {},
   "source": [
    "# Labeling Substance Column"
   ]
  },
  {
   "cell_type": "code",
   "execution_count": 168,
   "metadata": {},
   "outputs": [
    {
     "data": {
      "text/plain": [
       "Text(0.5, 0, 'Substance Types')"
      ]
     },
     "execution_count": 168,
     "metadata": {},
     "output_type": "execute_result"
    },
    {
     "data": {
      "image/png": "[encoded data removed]",
      "text/plain": [
       "<Figure size 432x288 with 1 Axes>"
      ]
     },
     "metadata": {
      "image/png": {
       "height": 272,
       "width": 410
      },
      "needs_background": "light"
     },
     "output_type": "display_data"
    }
   ],
   "source": [
    "substance_class_names = { 'D': 'Multiple identified specific substances', \n",
    "               'A':'Alcohol',\n",
    "               'M':'Marijuana',\n",
    "               'T':'Tobacco',\n",
    "               'V':'Vape', \n",
    "               'C':'Cocaine',\n",
    "               'G':'Indeterminiate and or generic dec indicative of substance type(s)',\n",
    "               'H':'Heroine',\n",
    "               'Rx':'Prescription and or pharmaceutical substances used appropriately and or misused ',\n",
    "               'Ox':'Non-prescription and over-the-counter substances misused or abused (Typical) ',\n",
    "               'P': 'Psychedelics and hallucinogens ',\n",
    "               'Mx':'Methamphetamine',\n",
    "               'CD':'Club drugs',\n",
    "               'O':'Other substances used for substance misuse (Atypical) ',\n",
    "               'X':'Unclear'\n",
    "              }\n",
    "substance_possible_labels = df.Substance.unique()\n",
    "substance_label_dict = {}\n",
    "for index, possible_label in enumerate(substance_possible_labels):\n",
    "    substance_label_dict[possible_label] = index\n",
    "# for e in substance_label_dict.keys():\n",
    "#     print(substance_label_dict[e], e, substance_class_names[e])\n",
    "sns.countplot(df.Substance)\n",
    "plt.xlabel('Substance Types')"
   ]
  },
  {
   "cell_type": "code",
   "execution_count": 169,
   "metadata": {
    "scrolled": true
   },
   "outputs": [
    {
     "name": "stdout",
     "output_type": "stream",
     "text": [
      "0 X Not specific or non-specific substance use\n",
      "1 S Specific information about substance use\n",
      "2 N Non-specific information about substance use\n",
      "3 U *****\n",
      "4 H *****\n"
     ]
    },
    {
     "data": {
      "text/plain": [
       "Text(0.5, 0, 'Substance Use')"
      ]
     },
     "execution_count": 169,
     "metadata": {},
     "output_type": "execute_result"
    },
    {
     "data": {
      "image/png": "[encoded data removed]",
      "text/plain": [
       "<Figure size 432x288 with 1 Axes>"
      ]
     },
     "metadata": {
      "image/png": {
       "height": 272,
       "width": 410
      },
      "needs_background": "light"
     },
     "output_type": "display_data"
    }
   ],
   "source": [
    "use_class_names = { 'S': 'Specific information about substance use', \n",
    "               'N':'Non-specific information about substance use',\n",
    "               'X':'Not specific or non-specific substance use',\n",
    "               'U': '*****',\n",
    "               'H': '*****'\n",
    "              }\n",
    "use_possible_labels = df.Use.unique()\n",
    "\n",
    "use_label_dict = {}\n",
    "for index, possible_label in enumerate(use_possible_labels):\n",
    "    use_label_dict[possible_label] = index\n",
    "for e in use_label_dict.keys():\n",
    "    print(use_label_dict[e], e, use_class_names[e])\n",
    "sns.countplot(df.Use)\n",
    "plt.xlabel('Substance Use')\n",
    "# use_possible_labels"
   ]
  },
  {
   "cell_type": "code",
   "execution_count": 198,
   "metadata": {},
   "outputs": [],
   "source": [
    "# df['Intent'] = df['Intent'].replace(np.nan, 'N')\n",
    "df = df.dropna(subset=['Intent'])"
   ]
  },
  {
   "cell_type": "code",
   "execution_count": 199,
   "metadata": {},
   "outputs": [
    {
     "name": "stdout",
     "output_type": "stream",
     "text": [
      "0 X Not active, historical, intent\n",
      "1 A Active/recent active use\n",
      "2 I Intent to use\n",
      "3 H Historical use\n",
      "4 N ****\n"
     ]
    },
    {
     "data": {
      "text/plain": [
       "Text(0.5, 0, 'Substance Intent')"
      ]
     },
     "execution_count": 199,
     "metadata": {},
     "output_type": "execute_result"
    },
    {
     "data": {
      "image/png": "[encoded data removed]",
      "text/plain": [
       "<Figure size 432x288 with 1 Axes>"
      ]
     },
     "metadata": {
      "image/png": {
       "height": 272,
       "width": 410
      },
      "needs_background": "light"
     },
     "output_type": "display_data"
    }
   ],
   "source": [
    "intent_class_names = { 'A': 'Active/recent active use', \n",
    "               'H':'Historical use',\n",
    "               'I':'Intent to use',\n",
    "               'X': 'Not active, historical, intent',\n",
    "                'N' : '****'\n",
    "              }\n",
    "intent_possible_labels = df.Intent.unique()\n",
    "\n",
    "intent_label_dict = {}\n",
    "for index, possible_label in enumerate(intent_possible_labels):\n",
    "    intent_label_dict[possible_label] = index\n",
    "for e in intent_label_dict.keys():\n",
    "    print(intent_label_dict[e], e, intent_class_names[e])\n",
    "    \n",
    "sns.countplot(df.Intent)\n",
    "plt.xlabel('Substance Intent')\n"
   ]
  },
  {
   "cell_type": "code",
   "execution_count": 200,
   "metadata": {},
   "outputs": [
    {
     "data": {
      "text/plain": [
       "{'X': 0, 'A': 1, 'I': 2, 'H': 3, 'N': 4}"
      ]
     },
     "execution_count": 200,
     "metadata": {},
     "output_type": "execute_result"
    }
   ],
   "source": [
    "intent_label_dict"
   ]
  },
  {
   "cell_type": "code",
   "execution_count": 201,
   "metadata": {},
   "outputs": [
    {
     "data": {
      "text/html": [
       "<div>\n",
       "<style scoped>\n",
       "    .dataframe tbody tr th:only-of-type {\n",
       "        vertical-align: middle;\n",
       "    }\n",
       "\n",
       "    .dataframe tbody tr th {\n",
       "        vertical-align: top;\n",
       "    }\n",
       "\n",
       "    .dataframe thead th {\n",
       "        text-align: right;\n",
       "    }\n",
       "</style>\n",
       "<table border=\"1\" class=\"dataframe\">\n",
       "  <thead>\n",
       "    <tr style=\"text-align: right;\">\n",
       "      <th></th>\n",
       "      <th>Tweet</th>\n",
       "      <th>Substance</th>\n",
       "      <th>Use</th>\n",
       "      <th>Intent</th>\n",
       "    </tr>\n",
       "  </thead>\n",
       "  <tbody>\n",
       "    <tr>\n",
       "      <th>4457</th>\n",
       "      <td>I know the freeway stunt was a reenactment for...</td>\n",
       "      <td>14</td>\n",
       "      <td>2</td>\n",
       "      <td>0</td>\n",
       "    </tr>\n",
       "    <tr>\n",
       "      <th>4458</th>\n",
       "      <td>Ima buy a rig when I get home üòè,</td>\n",
       "      <td>7</td>\n",
       "      <td>1</td>\n",
       "      <td>2</td>\n",
       "    </tr>\n",
       "    <tr>\n",
       "      <th>4459</th>\n",
       "      <td>If you too drunk to drive call me or text me 3...</td>\n",
       "      <td>1</td>\n",
       "      <td>2</td>\n",
       "      <td>1</td>\n",
       "    </tr>\n",
       "    <tr>\n",
       "      <th>4460</th>\n",
       "      <td>So who's drunk ass needs a ride??? Cash only (:,</td>\n",
       "      <td>1</td>\n",
       "      <td>2</td>\n",
       "      <td>0</td>\n",
       "    </tr>\n",
       "    <tr>\n",
       "      <th>4461</th>\n",
       "      <td>This cab driver asking us for bud and telling ...</td>\n",
       "      <td>2</td>\n",
       "      <td>1</td>\n",
       "      <td>1</td>\n",
       "    </tr>\n",
       "    <tr>\n",
       "      <th>4462</th>\n",
       "      <td>How much coke she did no wonder age OD'd. Damn.</td>\n",
       "      <td>8</td>\n",
       "      <td>1</td>\n",
       "      <td>0</td>\n",
       "    </tr>\n",
       "    <tr>\n",
       "      <th>4463</th>\n",
       "      <td>Ain't no salary cap in the dope game ain't no ...</td>\n",
       "      <td>8</td>\n",
       "      <td>0</td>\n",
       "      <td>0</td>\n",
       "    </tr>\n",
       "    <tr>\n",
       "      <th>4464</th>\n",
       "      <td>Aw man they busting out the nose candy &amp;amp; f...</td>\n",
       "      <td>8</td>\n",
       "      <td>2</td>\n",
       "      <td>1</td>\n",
       "    </tr>\n",
       "    <tr>\n",
       "      <th>4465</th>\n",
       "      <td>They say crack kill nigga my crack sell #21Savage</td>\n",
       "      <td>8</td>\n",
       "      <td>0</td>\n",
       "      <td>0</td>\n",
       "    </tr>\n",
       "    <tr>\n",
       "      <th>4466</th>\n",
       "      <td>crackhead on my street tried to sell me a kid'...</td>\n",
       "      <td>8</td>\n",
       "      <td>1</td>\n",
       "      <td>1</td>\n",
       "    </tr>\n",
       "  </tbody>\n",
       "</table>\n",
       "</div>"
      ],
      "text/plain": [
       "                                                  Tweet  Substance  Use  \\\n",
       "4457  I know the freeway stunt was a reenactment for...         14    2   \n",
       "4458                Ima buy a rig when I get home üòè,          7    1   \n",
       "4459  If you too drunk to drive call me or text me 3...          1    2   \n",
       "4460   So who's drunk ass needs a ride??? Cash only (:,          1    2   \n",
       "4461  This cab driver asking us for bud and telling ...          2    1   \n",
       "4462    How much coke she did no wonder age OD'd. Damn.          8    1   \n",
       "4463  Ain't no salary cap in the dope game ain't no ...          8    0   \n",
       "4464  Aw man they busting out the nose candy &amp; f...          8    2   \n",
       "4465  They say crack kill nigga my crack sell #21Savage          8    0   \n",
       "4466  crackhead on my street tried to sell me a kid'...          8    1   \n",
       "\n",
       "      Intent  \n",
       "4457       0  \n",
       "4458       2  \n",
       "4459       1  \n",
       "4460       0  \n",
       "4461       1  \n",
       "4462       0  \n",
       "4463       0  \n",
       "4464       1  \n",
       "4465       0  \n",
       "4466       1  "
      ]
     },
     "execution_count": 201,
     "metadata": {},
     "output_type": "execute_result"
    }
   ],
   "source": [
    "# new_df= df['Tweet']\n",
    "df2= df.replace({'Substance':substance_label_dict,\n",
    "                              'Use': use_label_dict,\n",
    "                              'Intent':intent_label_dict })\n",
    "\n",
    "# df['Type_label'] = df.Substance.replace(substance_label_dict)\n",
    "# df['Use_label'] = df.Use.replace(use_label_dict)\n",
    "# df['Intent_label'] = df.Intent.replace(intent_label_dict)\n",
    "# df['Intent_label'] = df['Intent_label'].apply(np.int64)\n",
    "\n",
    "df2.tail(10)"
   ]
  },
  {
   "cell_type": "markdown",
   "metadata": {
    "id": "i29J68U9Sk9S"
   },
   "source": [
    "# DATA PREPROCESSING"
   ]
  },
  {
   "cell_type": "code",
   "execution_count": 207,
   "metadata": {
    "colab": {
     "base_uri": "https://localhost:8080/"
    },
    "id": "mc6dSaodgVK3",
    "outputId": "86c36293-d39e-49a4-ed4d-e27fe3720ee5"
   },
   "outputs": [
    {
     "data": {
      "text/plain": [
       "Text(0.5, 0, 'Token count')"
      ]
     },
     "execution_count": 207,
     "metadata": {},
     "output_type": "execute_result"
    },
    {
     "data": {
      "image/png": "[encoded data removed]",
      "text/plain": [
       "<Figure size 432x288 with 1 Axes>"
      ]
     },
     "metadata": {
      "image/png": {
       "height": 272,
       "width": 409
      },
      "needs_background": "light"
     },
     "output_type": "display_data"
    }
   ],
   "source": [
    "#choosing sequence length\n",
    "token_lens = []\n",
    "for txt in df.Tweet:\n",
    "  tokens = tokenizer.encode(txt)\n",
    "  token_lens.append(len(tokens))\n",
    "sns.distplot(token_lens)\n",
    "plt.xlim([0, 200])\n",
    "plt.xlabel('Token count')\n",
    "\n",
    "# MAX_LEN = 80"
   ]
  },
  {
   "cell_type": "code",
   "execution_count": 202,
   "metadata": {
    "id": "iMU0a8QCTR3L"
   },
   "outputs": [],
   "source": [
    "MAX_LEN = 128\n",
    "from transformers import RobertaTokenizerFast\n",
    "from transformers.models.roberta.modeling_roberta import RobertaPreTrainedModel\n",
    "\n",
    "# Create the tokenizer from a trained one\n",
    "tokenizer_folder = '/users/kent/jmaharja/drugAbuse/output/TokRoBERTa_april21'\n",
    "tokenizer = RobertaTokenizerFast.from_pretrained(tokenizer_folder, max_len=MAX_LEN)"
   ]
  },
  {
   "cell_type": "code",
   "execution_count": 249,
   "metadata": {
    "colab": {
     "base_uri": "https://localhost:8080/"
    },
    "id": "CdeUMS1nTYtL",
    "outputId": "580454a0-c0b6-4e5e-b849-5309fe21f142"
   },
   "outputs": [
    {
     "name": "stdout",
     "output_type": "stream",
     "text": [
      " Sentence: Aw man they busting out the nose candy &amp; feeding them what looks like more organs #AHSRoanoke #AHS6\n",
      " Tokens: {'input_ids': [0, 37, 91, 603, 495, 279, 4037, 533, 284, 505, 392, 304, 3032, 525, 468, 31, 5713, 282, 725, 504, 1663, 467, 590, 7983, 524, 332, 37, 44, 55, 54, 83, 277, 2084, 332, 37, 44, 55, 26, 2, 1, 1, 1, 1, 1, 1, 1, 1, 1, 1, 1, 1, 1, 1, 1, 1, 1, 1, 1, 1, 1, 1, 1, 1, 1, 1, 1, 1, 1, 1, 1, 1, 1, 1, 1, 1, 1, 1, 1, 1, 1, 1, 1, 1, 1, 1, 1, 1, 1, 1, 1, 1, 1, 1, 1, 1, 1, 1, 1, 1, 1, 1, 1, 1, 1, 1, 1, 1, 1, 1, 1, 1, 1, 1, 1, 1, 1, 1, 1, 1, 1, 1, 1, 1, 1, 1, 1, 1, 1], 'token_type_ids': [0, 0, 0, 0, 0, 0, 0, 0, 0, 0, 0, 0, 0, 0, 0, 0, 0, 0, 0, 0, 0, 0, 0, 0, 0, 0, 0, 0, 0, 0, 0, 0, 0, 0, 0, 0, 0, 0, 0, 0, 0, 0, 0, 0, 0, 0, 0, 0, 0, 0, 0, 0, 0, 0, 0, 0, 0, 0, 0, 0, 0, 0, 0, 0, 0, 0, 0, 0, 0, 0, 0, 0, 0, 0, 0, 0, 0, 0, 0, 0, 0, 0, 0, 0, 0, 0, 0, 0, 0, 0, 0, 0, 0, 0, 0, 0, 0, 0, 0, 0, 0, 0, 0, 0, 0, 0, 0, 0, 0, 0, 0, 0, 0, 0, 0, 0, 0, 0, 0, 0, 0, 0, 0, 0, 0, 0, 0, 0], 'attention_mask': [1, 1, 1, 1, 1, 1, 1, 1, 1, 1, 1, 1, 1, 1, 1, 1, 1, 1, 1, 1, 1, 1, 1, 1, 1, 1, 1, 1, 1, 1, 1, 1, 1, 1, 1, 1, 1, 1, 1, 0, 0, 0, 0, 0, 0, 0, 0, 0, 0, 0, 0, 0, 0, 0, 0, 0, 0, 0, 0, 0, 0, 0, 0, 0, 0, 0, 0, 0, 0, 0, 0, 0, 0, 0, 0, 0, 0, 0, 0, 0, 0, 0, 0, 0, 0, 0, 0, 0, 0, 0, 0, 0, 0, 0, 0, 0, 0, 0, 0, 0, 0, 0, 0, 0, 0, 0, 0, 0, 0, 0, 0, 0, 0, 0, 0, 0, 0, 0, 0, 0, 0, 0, 0, 0, 0, 0, 0, 0]}\n",
      " Tokens.token_type_ids: [0, 0, 0, 0, 0, 0, 0, 0, 0, 0, 0, 0, 0, 0, 0, 0, 0, 0, 0, 0, 0, 0, 0, 0, 0, 0, 0, 0, 0, 0, 0, 0, 0, 0, 0, 0, 0, 0, 0, 0, 0, 0, 0, 0, 0, 0, 0, 0, 0, 0, 0, 0, 0, 0, 0, 0, 0, 0, 0, 0, 0, 0, 0, 0, 0, 0, 0, 0, 0, 0, 0, 0, 0, 0, 0, 0, 0, 0, 0, 0, 0, 0, 0, 0, 0, 0, 0, 0, 0, 0, 0, 0, 0, 0, 0, 0, 0, 0, 0, 0, 0, 0, 0, 0, 0, 0, 0, 0, 0, 0, 0, 0, 0, 0, 0, 0, 0, 0, 0, 0, 0, 0, 0, 0, 0, 0, 0, 0]\n",
      " Tokens.input_ids: 128\n"
     ]
    },
    {
     "data": {
      "text/plain": [
       "{'input_ids': tensor([   0,   37,   91,  603,  495,  279, 4037,  533,  284,  505,  392,  304,\n",
       "         3032,  525,  468,   31, 5713,  282,  725,  504, 1663,  467,  590, 7983,\n",
       "          524,  332,   37,   44,   55,   54,   83,  277, 2084,  332,   37,   44,\n",
       "           55,   26,    2,    1,    1,    1,    1,    1,    1,    1,    1,    1,\n",
       "            1,    1,    1,    1,    1,    1,    1,    1,    1,    1,    1,    1,\n",
       "            1,    1,    1,    1,    1,    1,    1,    1,    1,    1,    1,    1,\n",
       "            1,    1,    1,    1,    1,    1,    1,    1,    1,    1,    1,    1,\n",
       "            1,    1,    1,    1,    1,    1,    1,    1,    1,    1,    1,    1,\n",
       "            1,    1,    1,    1,    1,    1,    1,    1,    1,    1,    1,    1,\n",
       "            1,    1,    1,    1,    1,    1,    1,    1,    1,    1,    1,    1,\n",
       "            1,    1,    1,    1,    1,    1,    1,    1]),\n",
       " 'attention_mask': tensor([1, 1, 1, 1, 1, 1, 1, 1, 1, 1, 1, 1, 1, 1, 1, 1, 1, 1, 1, 1, 1, 1, 1, 1,\n",
       "         1, 1, 1, 1, 1, 1, 1, 1, 1, 1, 1, 1, 1, 1, 1, 0, 0, 0, 0, 0, 0, 0, 0, 0,\n",
       "         0, 0, 0, 0, 0, 0, 0, 0, 0, 0, 0, 0, 0, 0, 0, 0, 0, 0, 0, 0, 0, 0, 0, 0,\n",
       "         0, 0, 0, 0, 0, 0, 0, 0, 0, 0, 0, 0, 0, 0, 0, 0, 0, 0, 0, 0, 0, 0, 0, 0,\n",
       "         0, 0, 0, 0, 0, 0, 0, 0, 0, 0, 0, 0, 0, 0, 0, 0, 0, 0, 0, 0, 0, 0, 0, 0,\n",
       "         0, 0, 0, 0, 0, 0, 0, 0]),\n",
       " 'token_type_ids': tensor([0, 0, 0, 0, 0, 0, 0, 0, 0, 0, 0, 0, 0, 0, 0, 0, 0, 0, 0, 0, 0, 0, 0, 0,\n",
       "         0, 0, 0, 0, 0, 0, 0, 0, 0, 0, 0, 0, 0, 0, 0, 0, 0, 0, 0, 0, 0, 0, 0, 0,\n",
       "         0, 0, 0, 0, 0, 0, 0, 0, 0, 0, 0, 0, 0, 0, 0, 0, 0, 0, 0, 0, 0, 0, 0, 0,\n",
       "         0, 0, 0, 0, 0, 0, 0, 0, 0, 0, 0, 0, 0, 0, 0, 0, 0, 0, 0, 0, 0, 0, 0, 0,\n",
       "         0, 0, 0, 0, 0, 0, 0, 0, 0, 0, 0, 0, 0, 0, 0, 0, 0, 0, 0, 0, 0, 0, 0, 0,\n",
       "         0, 0, 0, 0, 0, 0, 0, 0]),\n",
       " 'targets': tensor([8, 2, 1])}"
      ]
     },
     "execution_count": 249,
     "metadata": {},
     "output_type": "execute_result"
    }
   ],
   "source": [
    "LABEL_COLUMNS   = ['Substance', 'Use', 'Intent']\n",
    "sample_text = df2.iloc[4463]['Tweet']\n",
    "labels = df2.iloc[4463][LABEL_COLUMNS]\n",
    "# sample_text = 'This is awesome. We are almost there!'\n",
    "tokens = tokenizer.encode_plus(\n",
    "            sample_text,\n",
    "            None,\n",
    "            max_length= MAX_LEN,\n",
    "            truncation=True,\n",
    "            add_special_tokens=True,\n",
    "            pad_to_max_length=True,\n",
    "            return_token_type_ids=True\n",
    "        )\n",
    "print(f' Sentence: {sample_text}')\n",
    "print(f' Tokens: {tokens}')\n",
    "print(f' Tokens.token_type_ids: {tokens.token_type_ids}')\n",
    "print(f' Tokens.input_ids: {len(tokens.input_ids)}')\n",
    "\n",
    "output = {\n",
    "      'input_ids': torch.tensor(tokens.input_ids, dtype=torch.long),\n",
    "      'attention_mask':  torch.tensor(tokens.attention_mask, dtype=torch.long),\n",
    "      'token_type_ids': torch.tensor(tokens.token_type_ids, dtype=torch.long),\n",
    "      'targets': torch.tensor(labels, dtype=torch.long)\n",
    "    }\n",
    "\n",
    "output\n"
   ]
  },
  {
   "cell_type": "code",
   "execution_count": 250,
   "metadata": {},
   "outputs": [
    {
     "data": {
      "text/plain": [
       "Substance    8\n",
       "Use          2\n",
       "Intent       1\n",
       "Name: 4464, dtype: object"
      ]
     },
     "execution_count": 250,
     "metadata": {},
     "output_type": "execute_result"
    }
   ],
   "source": [
    "df2.iloc[4463][LABEL_COLUMNS]"
   ]
  },
  {
   "cell_type": "code",
   "execution_count": 254,
   "metadata": {
    "id": "eu0sHr3QhB0l"
   },
   "outputs": [],
   "source": [
    "from torch.utils.data import Dataset\n",
    "LABEL_COLUMNS   = ['Substance', 'Use', 'Intent']\n",
    "\n",
    "class Tweet_DataSet(Dataset):\n",
    "   def __init__(self, data, tokenizer, max_len):\n",
    "    self.data = data\n",
    "    self.tokenizer = tokenizer\n",
    "    self.max_len = max_len\n",
    "  \n",
    "   def __len__(self):\n",
    "    return len(self.data)\n",
    "  \n",
    "   def __getitem__(self, index:int):\n",
    "    data_row = self.data.iloc[index]\n",
    "    tweet = data_row.Tweet\n",
    "    labels = data_row[LABEL_COLUMNS]\n",
    "    encoding = tokenizer.encode_plus(tweet,\n",
    "                                     None,\n",
    "                                     max_length = MAX_LEN,\n",
    "                                     truncation=True,\n",
    "                                     pad_to_max_length=True,\n",
    "                                     add_special_tokens=True,\n",
    "#                                      padding=MAX_LEN,\n",
    "                                     return_token_type_ids=True)\n",
    "\n",
    "    return {\n",
    "      'tweet_text': tweet,\n",
    "      'input_ids': torch.tensor(encoding.input_ids, dtype=torch.long),\n",
    "      'attention_mask':  torch.tensor(encoding.attention_mask, dtype=torch.long),\n",
    "      'token_type_ids': torch.tensor(encoding.token_type_ids, dtype=torch.long),\n",
    "      'targets': torch.tensor(labels, dtype=torch.long)\n",
    "    }"
   ]
  },
  {
   "cell_type": "code",
   "execution_count": 255,
   "metadata": {
    "id": "wp8kq4BikWLs"
   },
   "outputs": [
    {
     "data": {
      "text/plain": [
       "((4019, 4), (223, 4), (224, 4))"
      ]
     },
     "execution_count": 255,
     "metadata": {},
     "output_type": "execute_result"
    }
   ],
   "source": [
    "from sklearn.model_selection import train_test_split\n",
    "df_train, df_test = train_test_split(df2, test_size=0.1, random_state=RANDOM_SEED)\n",
    "df_val, df_test = train_test_split(df_test, test_size=0.5, random_state=RANDOM_SEED)\n",
    "df_train.shape, df_val.shape, df_test.shape"
   ]
  },
  {
   "cell_type": "code",
   "execution_count": 256,
   "metadata": {
    "id": "UZy66nwyDuXp"
   },
   "outputs": [],
   "source": [
    "def create_data_loader(df, tokenizer, max_len, batch_size):\n",
    "  ds = Tweet_DataSet(df,tokenizer=tokenizer,max_len=max_len)\n",
    "  return DataLoader(ds, batch_size=batch_size,num_workers=4)"
   ]
  },
  {
   "cell_type": "code",
   "execution_count": 257,
   "metadata": {
    "colab": {
     "base_uri": "https://localhost:8080/"
    },
    "id": "1TzcU2fNDuhB",
    "outputId": "ed723caf-3d77-465c-f02f-d9df0201a746"
   },
   "outputs": [],
   "source": [
    "BATCH_SIZE = 16\n",
    "\n",
    "train_data_loader = create_data_loader(df_train, tokenizer, MAX_LEN, BATCH_SIZE)\n",
    "val_data_loader = create_data_loader(df_val, tokenizer, MAX_LEN, BATCH_SIZE)\n",
    "test_data_loader = create_data_loader(df_test, tokenizer, MAX_LEN, BATCH_SIZE)"
   ]
  },
  {
   "cell_type": "code",
   "execution_count": 262,
   "metadata": {
    "colab": {
     "base_uri": "https://localhost:8080/"
    },
    "id": "pIEkNLZuDuj2",
    "outputId": "6983c325-6f9a-4403-c1bc-5ee3eef61d11"
   },
   "outputs": [
    {
     "name": "stdout",
     "output_type": "stream",
     "text": [
      "dict_keys(['tweet_text', 'input_ids', 'attention_mask', 'token_type_ids', 'targets'])\n",
      "torch.Size([16, 128])\n",
      "torch.Size([16, 128])\n",
      "torch.Size([16, 128])\n",
      "torch.Size([16, 3])\n"
     ]
    }
   ],
   "source": [
    "data = next(iter(train_data_loader))\n",
    "print(data.keys())\n",
    "print(data['input_ids'].shape)\n",
    "print(data['attention_mask'].shape)\n",
    "print(data['token_type_ids'].shape)\n",
    "print(data['targets'].shape)\n",
    "\n",
    "# ds = Tweet_DataSet(df2,tokenizer=tokenizer,max_len=MAX_LEN)\n",
    "# ds[0]"
   ]
  },
  {
   "cell_type": "code",
   "execution_count": 264,
   "metadata": {},
   "outputs": [],
   "source": [
    "# from transformers.models.roberta.modeling_roberta import RobertaPreTrainedModel\n",
    "# from transformers import RobertaModel, RobertaConfig, logging\n",
    "\n",
    "\n",
    "class TweetModel(RobertaPreTrainedModel):\n",
    "    def __init__(self, conf, n_classes):\n",
    "        super(TweetModel, self).__init__(conf)\n",
    "        self.roberta = transformers.RobertaModel.from_pretrained('/users/kent/jmaharja/drugAbuse/output/RoBERTaMLM/', config=conf)\n",
    "        self.drop_out = nn.Dropout(0.3)\n",
    "        self.pre_classifier = torch.nn.Linear(768, 768)\n",
    "        self.classifier = nn.Linear(768, n_classes)\n",
    "        \n",
    "    def forward(self, input_ids, attention_mask, token_type_ids):\n",
    "        output_1 = self.roberta(input_ids=input_ids, attention_mask=attention_mask, token_type_ids=token_type_ids)\n",
    "        hidden_state = output_1[0]\n",
    "        pooler = hidden_state[:, 0]\n",
    "        pooler = self.pre_classifier(pooler)\n",
    "        pooler = torch.nn.ReLU()(pooler)\n",
    "        pooler = self.drop_out(pooler)\n",
    "        output = self.classifier(pooler)\n",
    "        return output\n"
   ]
  },
  {
   "cell_type": "code",
   "execution_count": 267,
   "metadata": {},
   "outputs": [
    {
     "name": "stderr",
     "output_type": "stream",
     "text": [
      "Some weights of the model checkpoint at /users/kent/jmaharja/drugAbuse/output/RoBERTaMLM/ were not used when initializing RobertaModel: ['lm_head.layer_norm.bias', 'lm_head.dense.bias', 'lm_head.layer_norm.weight', 'lm_head.bias', 'lm_head.dense.weight']\n",
      "- This IS expected if you are initializing RobertaModel from the checkpoint of a model trained on another task or with another architecture (e.g. initializing a BertForSequenceClassification model from a BertForPreTraining model).\n",
      "- This IS NOT expected if you are initializing RobertaModel from the checkpoint of a model that you expect to be exactly identical (initializing a BertForSequenceClassification model from a BertForSequenceClassification model).\n",
      "Some weights of RobertaModel were not initialized from the model checkpoint at /users/kent/jmaharja/drugAbuse/output/RoBERTaMLM/ and are newly initialized: ['roberta.pooler.dense.bias', 'roberta.pooler.dense.weight']\n",
      "You should probably TRAIN this model on a down-stream task to be able to use it for predictions and inference.\n"
     ]
    }
   ],
   "source": [
    "from transformers import RobertaConfig\n",
    "\n",
    "config = RobertaConfig(\n",
    "    vocab_size=8192,\n",
    "    max_position_embeddings=514,\n",
    "    num_attention_heads=12,\n",
    "    num_hidden_layers=6,\n",
    "    type_vocab_size=1,\n",
    "    hidden_size=768,\n",
    "    pad_token_id=1\n",
    ")\n",
    "\n",
    "model = TweetModel(config, len(label_dict))\n",
    "model = model.to(device)"
   ]
  },
  {
   "cell_type": "code",
   "execution_count": 34,
   "metadata": {
    "colab": {
     "base_uri": "https://localhost:8080/"
    },
    "id": "-XMOUIYX8I9w",
    "outputId": "3b4e55b0-13d3-43fc-da57-99f978348d82"
   },
   "outputs": [],
   "source": [
    "# input_ids = data['input_ids'].to(device)\n",
    "# attention_mask = data['attention_mask'].to(device)\n",
    "# token_type_ids = data['token_type_ids'].to(device)\n",
    "# print(input_ids.shape) # batch size x seq length\n",
    "# print(attention_mask.shape) # batch size x seq length\n",
    "# print(token_type_ids) # batch size x seq length\n",
    "\n",
    "# import torch.nn.functional as F\n",
    "# # To get the predicted probabilities from our trained model, we'll apply the softmax function to the outputs:\n",
    "# F.softmax(model(input_ids, attention_mask, token_type_ids), dim=1)"
   ]
  },
  {
   "cell_type": "code",
   "execution_count": 268,
   "metadata": {
    "id": "WigPq2Cz3Aqa"
   },
   "outputs": [
    {
     "name": "stderr",
     "output_type": "stream",
     "text": [
      "/users/kent/jmaharja/.local/lib/python3.6/site-packages/transformers/optimization.py:309: FutureWarning: This implementation of AdamW is deprecated and will be removed in a future version. Use the PyTorch implementation torch.optim.AdamW instead, or set `no_deprecation_warning=True` to disable this warning\n",
      "  FutureWarning,\n"
     ]
    }
   ],
   "source": [
    "#training\n",
    "EPOCHS = 16\n",
    "\n",
    "optimizer = AdamW(model.parameters(), lr=2e-5, correct_bias=False)\n",
    "total_steps = len(train_data_loader) * EPOCHS\n",
    "\n",
    "scheduler = get_linear_schedule_with_warmup(\n",
    "  optimizer,\n",
    "  num_warmup_steps=0,\n",
    "  num_training_steps=total_steps\n",
    ")\n",
    "\n",
    "loss_fn = nn.CrossEntropyLoss().to(device)"
   ]
  },
  {
   "cell_type": "code",
   "execution_count": 269,
   "metadata": {
    "id": "-lMBp21F3G3Q"
   },
   "outputs": [],
   "source": [
    "def train_epoch(model, data_loader, loss_fn, optimizer, device, scheduler, n_examples):\n",
    "  model = model.train()\n",
    "  losses = []\n",
    "  correct_predictions = 0\n",
    "     \n",
    "  for d in data_loader:\n",
    "    input_ids = d[\"input_ids\"].to(device)\n",
    "    attention_mask = d[\"attention_mask\"].to(device)\n",
    "    token_type_ids = d[\"token_type_ids\"].to(device)\n",
    "    targets = d[\"targets\"].to(device)\n",
    "\n",
    "    outputs = model(input_ids=input_ids, attention_mask=attention_mask, token_type_ids=token_type_ids)\n",
    "\n",
    "    big_val, big_idx = torch.max(outputs, dim=1)\n",
    "    correct_predictions += torch.sum(big_idx == targets)\n",
    "\n",
    "    loss = loss_fn(outputs, targets)\n",
    "    losses.append(loss.item())\n",
    "\n",
    "    loss.backward()\n",
    "    nn.utils.clip_grad_norm_(model.parameters(), max_norm=1.0)\n",
    "    optimizer.step()\n",
    "    scheduler.step()\n",
    "    optimizer.zero_grad()\n",
    "\n",
    "  return correct_predictions.double()/n_examples, np.mean(losses)"
   ]
  },
  {
   "cell_type": "code",
   "execution_count": 96,
   "metadata": {
    "id": "_DEVC-rR3Rb6"
   },
   "outputs": [],
   "source": [
    "def eval_model(model, data_loader, loss_fn, device, n_examples):\n",
    "  model = model.eval()\n",
    "\n",
    "  losses = []\n",
    "  correct_predictions = 0\n",
    "\n",
    "  with torch.no_grad():\n",
    "    for d in data_loader:\n",
    "      input_ids = d[\"input_ids\"].to(device)\n",
    "      attention_mask = d[\"attention_mask\"].to(device)\n",
    "      token_type_ids = d[\"token_type_ids\"].to(device)\n",
    "      targets = d[\"targets\"].to(device)\n",
    "\n",
    "      outputs = model(\n",
    "        input_ids=input_ids,\n",
    "        attention_mask=attention_mask,\n",
    "        token_type_ids=token_type_ids\n",
    "      )\n",
    "      _, preds = torch.max(outputs, dim=1)\n",
    "      correct_predictions += torch.sum(preds == targets)\n",
    "\n",
    "      loss = loss_fn(outputs, targets)\n",
    "      losses.append(loss.item())\n",
    "\n",
    "  return correct_predictions.double()/n_examples, np.mean(losses)"
   ]
  },
  {
   "cell_type": "code",
   "execution_count": 270,
   "metadata": {
    "colab": {
     "base_uri": "https://localhost:8080/"
    },
    "id": "xnG-gI1f3XUC",
    "outputId": "a39a6bce-c0e5-4490-ea63-517efb30fa94"
   },
   "outputs": [
    {
     "name": "stdout",
     "output_type": "stream",
     "text": [
      "Epoch 1/16\n",
      "----------\n"
     ]
    },
    {
     "ename": "RuntimeError",
     "evalue": "The size of tensor a (16) must match the size of tensor b (3) at non-singleton dimension 1",
     "output_type": "error",
     "traceback": [
      "\u001b[0;31m---------------------------------------------------------------------------\u001b[0m",
      "\u001b[0;31mRuntimeError\u001b[0m                              Traceback (most recent call last)",
      "\u001b[0;32m<ipython-input-270-b4adbd2cdbb9>\u001b[0m in \u001b[0;36m<module>\u001b[0;34m\u001b[0m\n\u001b[1;32m     32\u001b[0m     \u001b[0mdevice\u001b[0m\u001b[0;34m,\u001b[0m\u001b[0;34m\u001b[0m\u001b[0;34m\u001b[0m\u001b[0m\n\u001b[1;32m     33\u001b[0m     \u001b[0mscheduler\u001b[0m\u001b[0;34m,\u001b[0m\u001b[0;34m\u001b[0m\u001b[0;34m\u001b[0m\u001b[0m\n\u001b[0;32m---> 34\u001b[0;31m     \u001b[0mlen\u001b[0m\u001b[0;34m(\u001b[0m\u001b[0mdf_train\u001b[0m\u001b[0;34m)\u001b[0m\u001b[0;34m\u001b[0m\u001b[0;34m\u001b[0m\u001b[0m\n\u001b[0m\u001b[1;32m     35\u001b[0m   )\n\u001b[1;32m     36\u001b[0m \u001b[0;34m\u001b[0m\u001b[0m\n",
      "\u001b[0;32m<ipython-input-269-d878c3b6a999>\u001b[0m in \u001b[0;36mtrain_epoch\u001b[0;34m(model, data_loader, loss_fn, optimizer, device, scheduler, n_examples)\u001b[0m\n\u001b[1;32m     13\u001b[0m \u001b[0;34m\u001b[0m\u001b[0m\n\u001b[1;32m     14\u001b[0m     \u001b[0mbig_val\u001b[0m\u001b[0;34m,\u001b[0m \u001b[0mbig_idx\u001b[0m \u001b[0;34m=\u001b[0m \u001b[0mtorch\u001b[0m\u001b[0;34m.\u001b[0m\u001b[0mmax\u001b[0m\u001b[0;34m(\u001b[0m\u001b[0moutputs\u001b[0m\u001b[0;34m,\u001b[0m \u001b[0mdim\u001b[0m\u001b[0;34m=\u001b[0m\u001b[0;36m1\u001b[0m\u001b[0;34m)\u001b[0m\u001b[0;34m\u001b[0m\u001b[0;34m\u001b[0m\u001b[0m\n\u001b[0;32m---> 15\u001b[0;31m     \u001b[0mcorrect_predictions\u001b[0m \u001b[0;34m+=\u001b[0m \u001b[0mtorch\u001b[0m\u001b[0;34m.\u001b[0m\u001b[0msum\u001b[0m\u001b[0;34m(\u001b[0m\u001b[0mbig_idx\u001b[0m \u001b[0;34m==\u001b[0m \u001b[0mtargets\u001b[0m\u001b[0;34m)\u001b[0m\u001b[0;34m\u001b[0m\u001b[0;34m\u001b[0m\u001b[0m\n\u001b[0m\u001b[1;32m     16\u001b[0m \u001b[0;34m\u001b[0m\u001b[0m\n\u001b[1;32m     17\u001b[0m     \u001b[0mloss\u001b[0m \u001b[0;34m=\u001b[0m \u001b[0mloss_fn\u001b[0m\u001b[0;34m(\u001b[0m\u001b[0moutputs\u001b[0m\u001b[0;34m,\u001b[0m \u001b[0mtargets\u001b[0m\u001b[0;34m)\u001b[0m\u001b[0;34m\u001b[0m\u001b[0;34m\u001b[0m\u001b[0m\n",
      "\u001b[0;31mRuntimeError\u001b[0m: The size of tensor a (16) must match the size of tensor b (3) at non-singleton dimension 1"
     ]
    }
   ],
   "source": [
    "from os.path import exists\n",
    "# %%time\n",
    "\n",
    "# set to True if you want to train the model\n",
    "# otherwise use the existing trained model\n",
    "FORCE_TRAIN = True\n",
    "\n",
    "# download trained model\n",
    "# !gdown --id 1QQ2d0_yFStL2rXz2eHoXpgRMvPWtMMeX\n",
    "\n",
    "\n",
    "history = defaultdict(list)\n",
    "best_accuracy = 0\n",
    "\n",
    "for epoch in range(EPOCHS):\n",
    "\n",
    "\n",
    "#   modelPath = \"/content/best_model_state.bin\"\n",
    "#   if (exists(modelPath) and FORCE_TRAIN == False ): # if model exists load it otherwise rebuild\n",
    "#     torch.load(modelPath)\n",
    "#     break # exit out of training\n",
    "  \n",
    "\n",
    "  print(f'Epoch {epoch + 1}/{EPOCHS}')\n",
    "  print('-' * 10)\n",
    "\n",
    "  train_acc, train_loss = train_epoch(\n",
    "    model,\n",
    "    train_data_loader,    \n",
    "    loss_fn, \n",
    "    optimizer, \n",
    "    device, \n",
    "    scheduler, \n",
    "    len(df_train)\n",
    "  )\n",
    "\n",
    "  print(f'Train loss {train_loss} accuracy {train_acc}')\n",
    "\n",
    "  val_acc, val_loss = eval_model(\n",
    "    model,\n",
    "    val_data_loader,\n",
    "    loss_fn, \n",
    "    device, \n",
    "    len(df_val)\n",
    "  )\n",
    "\n",
    "  print(f'Val   loss {val_loss} accuracy {val_acc}')\n",
    "  print()\n",
    "\n",
    "  history['train_acc'].append(train_acc)\n",
    "  history['train_loss'].append(train_loss)\n",
    "  history['val_acc'].append(val_acc)\n",
    "  history['val_loss'].append(val_loss)\n",
    "\n",
    "  if val_acc > best_accuracy:\n",
    "    torch.save(model.state_dict(), 'best_model_state.bin')\n",
    "    best_accuracy = val_acc"
   ]
  },
  {
   "cell_type": "code",
   "execution_count": 39,
   "metadata": {
    "colab": {
     "base_uri": "https://localhost:8080/",
     "height": 306
    },
    "id": "SGWOG9FxDwhr",
    "outputId": "caccda71-7a38-4b86-f8a5-bf3f8fe2b68e"
   },
   "outputs": [
    {
     "data": {
      "image/png": "[encoded data removed]",
      "text/plain": [
       "<Figure size 432x288 with 1 Axes>"
      ]
     },
     "metadata": {
      "image/png": {
       "height": 289,
       "width": 397
      },
      "needs_background": "light"
     },
     "output_type": "display_data"
    }
   ],
   "source": [
    "plt.plot(history['train_acc'], label='train accuracy')\n",
    "plt.plot(history['val_acc'], label='validation accuracy')\n",
    "\n",
    "plt.title('Training history')\n",
    "plt.ylabel('Accuracy')\n",
    "plt.xlabel('Epoch')\n",
    "plt.legend()\n",
    "plt.ylim([0, 1]);"
   ]
  },
  {
   "cell_type": "code",
   "execution_count": 40,
   "metadata": {
    "colab": {
     "base_uri": "https://localhost:8080/"
    },
    "id": "KMgX1q0vDx4C",
    "outputId": "fff07436-f581-40c9-87e8-9306aa66608b"
   },
   "outputs": [
    {
     "data": {
      "text/plain": [
       "0.8928571428571428"
      ]
     },
     "execution_count": 40,
     "metadata": {},
     "output_type": "execute_result"
    }
   ],
   "source": [
    "test_acc, _ = eval_model(\n",
    "  model,\n",
    "  test_data_loader,\n",
    "  loss_fn,\n",
    "  device,\n",
    "  len(df_test)\n",
    ")\n",
    "\n",
    "test_acc.item()"
   ]
  },
  {
   "cell_type": "code",
   "execution_count": 41,
   "metadata": {
    "id": "l5-QMqvSDx8h"
   },
   "outputs": [],
   "source": [
    "def get_predictions(model, data_loader):\n",
    "  model = model.eval()\n",
    "  \n",
    "  review_texts = []\n",
    "  predictions = []\n",
    "  prediction_probs = []\n",
    "  real_values = []\n",
    "\n",
    "  with torch.no_grad():\n",
    "    for d in data_loader:\n",
    "\n",
    "      texts = d[\"tweet_text\"]\n",
    "      input_ids = d[\"input_ids\"].to(device)\n",
    "      attention_mask = d[\"attention_mask\"].to(device)\n",
    "      token_type_ids = d[\"token_type_ids\"].to(device)\n",
    "      targets = d[\"targets\"].to(device)\n",
    "\n",
    "      outputs = model(input_ids=input_ids, attention_mask=attention_mask, token_type_ids=token_type_ids)\n",
    "      _, preds = torch.max(outputs, dim=1)\n",
    "      probs = F.softmax(outputs, dim=1)\n",
    "\n",
    "      review_texts.extend(texts)\n",
    "      predictions.extend(preds)\n",
    "      prediction_probs.extend(probs)\n",
    "      real_values.extend(targets)\n",
    "\n",
    "  predictions = torch.stack(predictions).cpu()\n",
    "  prediction_probs = torch.stack(prediction_probs).cpu()\n",
    "  real_values = torch.stack(real_values).cpu()\n",
    "  return review_texts, predictions, prediction_probs, real_values"
   ]
  },
  {
   "cell_type": "code",
   "execution_count": 43,
   "metadata": {
    "colab": {
     "base_uri": "https://localhost:8080/"
    },
    "id": "xr7hsCroDyBJ",
    "outputId": "c0f726e5-930f-404e-b637-e6d8d194f851"
   },
   "outputs": [],
   "source": [
    "import torch.nn.functional as F\n",
    "y_review_texts, y_pred, y_pred_probs, y_test = get_predictions(\n",
    "  model,\n",
    "  test_data_loader\n",
    ")"
   ]
  },
  {
   "cell_type": "code",
   "execution_count": 59,
   "metadata": {},
   "outputs": [
    {
     "data": {
      "text/plain": [
       "([\"  yea it's called crack\",\n",
       "  \" if I can't make a joke about blue balls then conservative old men shouldn't write laws about peoples' uteri. \",\n",
       "  'Save a horse, ride a cowboy',\n",
       "  ' I sent screenshots. ;)',\n",
       "  \"Out being high-octane basic with the love of my life  @ Quattro Goomba's Winery https://t.co/bsnLnKiXbD\",\n",
       "  'Fuck you and your heroin jokes',\n",
       "  'a never ending debate: should i drink the wine or not',\n",
       "  '        Thanks Tez!',\n",
       "  'First round of Halloween parties starts tonight. Lets get lit people. Party scene been dead for too long, lets get it poppin',\n",
       "  ' Rocky Mountain Milky Way',\n",
       "  'YES OMFG😂😂😂😂   https://t.co/kPQKSKepzn',\n",
       "  ' New Show ON   ://t.co/P2zEeZpFaU',\n",
       "  'Gov: \"The bottom line is that I promised to make education a priority and do my best to protect it from budget cuts, and I kept my promise.\"',\n",
       "  'I wish it was summer and I was sitting creek side smoking a j next to someone I loved.',\n",
       "  'This motherfucker did bumps ',\n",
       "  'Some shots from my shoot for F.I.T. Studio. Coach Fred   … https://t.co/TfR33K3GQ5',\n",
       "  '  me too❤️☹️️',\n",
       "  'Nothing like blowing out your jeans as you get into your truck on the way to a meeting.',\n",
       "  'Trying to rebrand myself but then I just end up doing coke',\n",
       "  \"I'm so addicted to all the things you do\",\n",
       "  'Classes cancelled fire up the beer and crack open a pot',\n",
       "  'College Football Update: Kirby Smart how did your players blow that game in Athens? The Dawgs effort on the last play was terribly poor.',\n",
       "  \"'s new obsession?\",\n",
       "  \"It's lit 🔥👻: MindfulMolina https://t.co/8x85rLRgP9\",\n",
       "  ' not as good as that one sleepover in ur basement went u cried for an hour over the notebook',\n",
       "  \"Why sooooo dramatic? You could randomly die tomorrow... I'm sure you'd be mad you wasted your last day making a big deal of small things. 🌻\",\n",
       "  \"😂😂😂😂😂😂😂😂 I'm weak\",\n",
       "  'Moss point residents are voicing their anger on Facebook about the investigation',\n",
       "  \"if u don't get ur wings at roosters extra wet ur trash\",\n",
       "  'Aw https://t.co/JvOMzHZfyq',\n",
       "  \"i'm working w  at  magazine for the month of october wow look at me i haven't been in an office since 2012 what's slack\",\n",
       "  'Basketball https://t.co/InJA5FHuOj',\n",
       "  'Penn State at Purdue will kick at noon Oct. 29, airing on either ABC, ESPN or ESPN2, per a release. ',\n",
       "  ' was there &amp; will never forget it. I still get goosebumps or is that Brucebumps😉',\n",
       "  \" Exactly... but why does CB make the best nasty ass songs? \\uf8ffüòÇ he's half of me (minus the beating bitches &amp; cocaine).\",\n",
       "  ' ',\n",
       "  '    exact same thing!',\n",
       "  'Okay uconn i see yall lit https://t.co/orVb7niJmG',\n",
       "  'Marked a nail appointment for 4. It is now 4:10😑😑😑Fuck are u doing jojo',\n",
       "  ' and  join the  for  rally   … https://t.co/HmUB0TBvFR',\n",
       "  'if I have to go 6 more months without Melanie Martinez music I am going to have to resort to doing heavy cocaine',\n",
       "  ' Petersen for president',\n",
       "  'Interested in a  in , IN? This could be a great fit: https://t.co/aNjBcvTFb8  … https://t.co/JzDUJeA6Ly',\n",
       "  \"Gabbert plays like a QB who's job isn't on the line ... 🤔\",\n",
       "  'How is her hair gonna be laid during her mug shot. ',\n",
       "  'When I get old Ima be that lady who has her whole house decorated Halloween and has the name brand candy 👻👌🏼',\n",
       "  'seeing  next Friday for the third time this year with  😈🤘🏼',\n",
       "  'Found a cerulean onesie      … https://t.co/MAT8pykfLj',\n",
       "  'GAME TIME!!! Birthday shoutout to Keylan Brown! https://t.co/AY03y3MSFa',\n",
       "  ' i am so grateful for social media like IG,FB, Pinterest, i store all my fav pics there \"just in case\" ',\n",
       "  ' the last film I was in () was shot on a 4k Red Epic. Those cameras are obscenely wonderful.',\n",
       "  \" Thats what I'm saying I use to chill w. Him all he does is try to get his friends to do coke (Not me) he's to broke 2 rob\",\n",
       "  \"3:30am at Smiths and I'm contemplating offing myself in the trash compactor\",\n",
       "  'Rt https://t.co/15uneAqHcW',\n",
       "  'Eating breakfast for dinner (at  in Jackson Heights, NY) https://t.co/idPVdgUvke',\n",
       "  'Stoked to catch up on  with my buddy  and take in this beautiful… https://t.co/HstsqWE4rZ',\n",
       "  \"If 37 people hitting your phone that's juice lol but you right https://t.co/30Tj8NYWxC\",\n",
       "  \"happy bday ish💞 can't wait to kick your ass tomorrow😤😫  https://t.co/VDPphXUMlK\",\n",
       "  \"The Simpsons don't age cause there a dead spirits\",\n",
       "  \"I'm always afraid to do anything sporty in general, but wearing my glasses white attempting to sport adds a new level of fear.\",\n",
       "  \"she's still salty Tyler Lydon took the football from her:// @ Syracuse University https://t.co/ovdY752jDr\",\n",
       "  \"We're getting smoked right now \",\n",
       "  \"Such a treat revisiting  's  with the gorgeous .… https://t.co/Gr44FgUHxT\",\n",
       "  ' i am 😈 but other people need to start having kickbacks asap',\n",
       "  \"Oh shit I didn't know you can die in football 🤔\",\n",
       "  'Okay cool, im getting lit tonight then',\n",
       "  'TORTAS DE ARROZ!!! 💓💓💓 (fried rice patties in tomato sauce) I think not many know about these eitherrr https://t.co/bmpS01xRKB',\n",
       "  '          fantastic!',\n",
       "  'Let me go wash my car since  slacking 🙄🙄🙄',\n",
       "  'Just got to  &amp; already filling up. Crazy since a lot of Tour de Rock came up bunk as Hell! Time to Disco kids, 5AM baby!!',\n",
       "  \"  That may be, but no responsible news org should ever cover what that guy says. He's a crank.\",\n",
       "  \"I'm sick RN so I told my dad I'm going to take 5 shots of night quill and now he won't stop asking if I'm okay\",\n",
       "  \"If Eli manning make it into the hall of fame I'm never watching football again\",\n",
       "  \"These grown ass men are walking around the swim meet in speedos and XL tshirts and it's making me so uncomfortable 💀\",\n",
       "  'Rock bottom.',\n",
       "  'Amen to that https://t.co/iopTnpu1IE',\n",
       "  'Being close or not, he was an inspiration to all. Heaven just got a little more than dope.  https://t.co/Fvb62ZXums',\n",
       "  'I got 99 problems. Foreign terrorist want to become the 100th one make please make my day  I got platoon of  shooters committing!',\n",
       "  'My oh my... https://t.co/mgWIRWi0bj',\n",
       "  'I cast my Heisman ballot for Lamar Jackson! Click the player you think deserves the   vote! https://t.co/yqLFhg0cHu',\n",
       "  \"And my other essay that I procrastinated as hell on, yeah, I made a 90. Procrastination is 🔑. You're welcome.\",\n",
       "  'This offense looks like the Browns. 3rd and 9 run a 5 yard route.',\n",
       "  'I really need to clean out my dresser so I can fold all these baby clothes &amp; put em up 😩',\n",
       "  ' omg nug city I miss you!!!!',\n",
       "  \"Drunk texts are flattering cause even when they're half retarded they're still thinking about you\",\n",
       "  '\\\\  or he waas on lean',\n",
       "  \"We're ! Click to apply: Beauty Advisor Seasonal - https://t.co/EEUu8zlnnc  … https://t.co/MkqPmzbTjM\",\n",
       "  'Dragon ball evolution was an underrated movie',\n",
       "  'Waiting for Amalia (@ Indian Trail High School and Academy in Kenosha, WI) https://t.co/qO2XSj5f2x',\n",
       "  ' one of the most beautiful swings in the game',\n",
       "  'Trump cannot fathom announcing they are about to kick down the door',\n",
       "  ' gotta get up for football',\n",
       "  'Nigga was so fucked up he thought he could make coke',\n",
       "  'Be aware of your spiritual progress. https://t.co/htKtjZnAcC   … https://t.co/ZmOAksmXiP',\n",
       "  'Miss kicking it like the young boy days https://t.co/tS9wOrZx0Q',\n",
       "  'My Superhero Dawson # https://t.co/v1UGtXCXtw',\n",
       "  ' It\\'s my \"snowed in for a week\" book',\n",
       "  ' how does this affect standings if game is never played? Not fair for either division if LSU/FL basically get a win',\n",
       "  'The homies  and realwavechapelle shot a video for some new 🔥 they got the other… https://t.co/vI5qf9vmc8',\n",
       "  'In a cab &amp; the girls next to me snorting cocaine...I like this cab.',\n",
       "  'Boy those blue jeans, boots, and that pearl snap looks damn good.',\n",
       "  \"That's why I must teach her my (TOXIC) K.I.S.S.system w. all kinds of strikes/kicks to nerves(DimMak/death touch)! https://t.co/y5d4Hcm39f\",\n",
       "  \"  they don't want none https://t.co/9i1ZfJccyw\",\n",
       "  \"I'm not too sure if today I was at volleyball practice or track practice 💀\",\n",
       "  \"Half of y'all ain't even shot a gun in your life. Shit I've handled a gun more then most mfrs!\",\n",
       "  '   https://t.co/PbnW6S6DwH',\n",
       "  'Sorry my snap blowing up right now https://t.co/WKRo8jRK10',\n",
       "  \". Is RoCkIn the  w/LOLs 2NITE! Don't miss! Call w/code KATES for 🆓🎟  https://t.co/EA5w0OnWzZ\",\n",
       "  \"Good old Richard was crackin' his classic dad jokes https://t.co/7jjKId71nA\",\n",
       "  '  https://t.co/KjzdxpjYR2',\n",
       "  'Rs 💯 https://t.co/d00F0r4ugN',\n",
       "  'Nah my ass was coked out last night and idk who drove me and my best friend home but shout out',\n",
       "  ' starting with this fake hypebeast ',\n",
       "  'Aw 😍 https://t.co/Dgxd4S3p1n',\n",
       "  ' I hate you so so so so so so much I hate you are stupid so so stupid I hate you if I see you I will kick you ok',\n",
       "  ' Hahahaha. This one cracked me up.',\n",
       "  ' if we missed your session- when will you present this again?  https://t.co/ocCbgXTRlr',\n",
       "  ' we won a slimmer 👻 https://t.co/BP6i6wgS3Q',\n",
       "  'deciding if i want regular peanut butter or crunchy peanut on my toast is seriously such a hard choice',\n",
       "  'How many times has Santana popped the ball up sky high this series?',\n",
       "  ' https://t.co/7OxwvKGfoy    ',\n",
       "  ' Hello, how are you? May I ask you to give me your fan mail address, please?',\n",
       "  'Clean, refreshing, nice bitterness. Herbal, a little malty.... (Black Shirt Common Red) https://t.co/uW3Agy33ES',\n",
       "  '  https://t.co/ckRERYQTzp',\n",
       "  '  love that movie. Always felt bad for mack. He would have been a top 5 pick in the nfl draft',\n",
       "  'Look who I found at Balloon Fiesta😏😍  https://t.co/fduppfE4a4',\n",
       "  'Favorite this tweet if you want to smack your neighborhood boos. I know I will',\n",
       "  'Candy K💄! https://t.co/Tw0AjX1OtD',\n",
       "  'Currently listening to one of my neighbors refusing to let a drunk guy into her apartment. This is great.',\n",
       "  ' maybe the baseball gods have decided to have mercy on ',\n",
       "  'really just tryna smoke some crack and get my dick sucked',\n",
       "  \"I think I'll try to do this healthy eating thing. Only thing that won't stop is Liquor. That's not going anywhere. Lol.\",\n",
       "  ' im hype af lol',\n",
       "  'chlo cleaned my room while i was at hhn 😻❤️',\n",
       "  \"I like how I've never smoked weed but I've done coke\",\n",
       "  'a whole lot of pharmaceuticals and good weed',\n",
       "  'So happy I was right on the typingof Incineroar and Primarina. Did. It expect owl to go Grass/Ghost https://t.co/Kw153c1Ipg',\n",
       "  \"  This ain't crack he's snorting cocaine\",\n",
       "  ' it was a mess. Then she asked what the \"eggs\" were for so I was like uh theyre balls used to capture so they\\'re all good things',\n",
       "  ' te',\n",
       "  'I feel like a crack fiend \\uf8ffüò©\\uf8ffüò©\\uf8ffüò© lmao',\n",
       "  'Sniff!  Another one! And another!',\n",
       "  ' square dancing and shots lmao',\n",
       "  'RL Tuner  RJ Thomas blocks pass on the 2pt attempt  … https://t.co/3OYdy4cL3d',\n",
       "  \"So I'm gonna write a book about my life, it's gonna be a cross between a child called it &amp; the lovely bones. All non fiction.\",\n",
       "  \"Ummm...I think that's, rapist Brock Turner https://t.co/Fe1Dxe7QbW\",\n",
       "  'If I’m the Ox, I’d be working on my tackling. He wants central midfield? Get the ball back and don’t lose it.',\n",
       "  ' Government trying to keep me quiet in Washington DC https://t.co/pkf3rC03Of',\n",
       "  \"Wow lol there's a drugs in episode about Staten Island aka heroin island. Bout time people realize there's a problem\",\n",
       "  \"It was your fucking birthday today &amp; I hope it was the best it could've been. This is gay af but ily so suck it up… https://t.co/vomJ4Jpmk0\",\n",
       "  '  yah me too. that would be dope !',\n",
       "  '    -- Is  even remotely aware of the fact  is a coke snorting rāpist',\n",
       "  \" the sunglasses? i'm confused 😂😉\",\n",
       "  \" maaan sit down. We didn't get shut out today though 😴\",\n",
       "  '  I can just see me storming the next business meeting- like a boss!   ',\n",
       "  'my favorite scp foundation log is the one abt the mysterious alien coke machine that released shit like ALTROIDS and an entire cow',\n",
       "  'My playlist thru the day starts with hard rock in the morning, old country around lunch time, when I get off its Kodak',\n",
       "  \"Missing  @ Ruffino's Restaurant - Steaks, Seafood,… https://t.co/VLtv1GSfWC\",\n",
       "  \" naa it's flooded b\",\n",
       "  \" can y'all get rocket power?\",\n",
       "  'Unimpressed with   Prepaid extra for King high floor with Parliament view, with late arrival. Got double. Back to reception..',\n",
       "  ' the duo was the best in announcing sec and KY basketball games',\n",
       "  'does anyone know where to buy a pride flag ????? (not online)',\n",
       "  ' is Jawline Jesus ',\n",
       "  'People want Back like cook crack Juelz not \"whooooaaa\" juelZ',\n",
       "  'Help support our new buisness partners :   … https://t.co/j0QrgCVUgo',\n",
       "  ' do you ever re-visit the BBQ Sauce Burritos for nostalgia sake?',\n",
       "  'Missing that Rocky Mountain sunrise.       https://t.co/JtTPQ4gIJm',\n",
       "  'T B T x G R A T E F U L // Giving senatorchriscoons the  Award for Ubuntu and… https://t.co/rChDWX61P7',\n",
       "  'This is my king https://t.co/RgfpRFMcDB',\n",
       "  ' omg are you my spirit animal?',\n",
       "  'Lit https://t.co/H2dNPEtUkk',\n",
       "  ' and, have you seen the Official Trailer?',\n",
       "  \"I swear I'm not drunk\",\n",
       "  'Holy shit we got Nail Yakupov. ',\n",
       "  ' also thankful that nurses work odd hours bc I work odd hours, and I knew on of my nurse friends would be up 🙌🏾',\n",
       "  \"Want to work at ResourceMFG? We're  in , MI! Click for details: https://t.co/epZvCkrlLb   \",\n",
       "  'North Volleyball beats West Forsyth to qualify for the State Playoffs for the 1st time since 2001! Great job Ladies!',\n",
       "  'IMPOSSIBLE GO OFFOH MY DIS SIDEBACKYARDGoosebumps https://t.co/NP9XrRoj0T',\n",
       "  \"Drunk and having bad feelings about my stupid hair. I'm usually so good at hair and tonight it looks like SHIT I hate it\",\n",
       "  'Catch the ball',\n",
       "  ' good luck w/ that!! No 3am tweeting!😂😂',\n",
       "  'Ronald Reagan the mastermind behind the crack epidemic. Gotta love him.',\n",
       "  'Ryan is fine- Todd Bowles https://t.co/SHiWVc3SXF',\n",
       "  'Great Honda dealership and very friendly staff! Thanks guys (at ) https://t.co/IDQbdXYtH0 https://t.co/HGZjg7I3QE',\n",
       "  'Again???? Noooo!!!!  https://t.co/sfmHEk4Pfw',\n",
       "  'Did Florida forget to turn the heater on',\n",
       "  'If u think the weeds foul imagine what I was gonna post but niggas said chill  ',\n",
       "  'Thanks  for a special Halloween for my granddaughters! Little wonder woman and batgirl loved it! https://t.co/rdYl7ITtV6',\n",
       "  'The human spirit can endure a sick body. But who can endure a crushed spirit ?Proverbs 18:14 Reach out to those who need you.',\n",
       "  \"When I start eating junk food I can't stop.\",\n",
       "  'Yeahhh, I like a little Captain in my coke.',\n",
       "  ' help a broke college student out 😖 ',\n",
       "  'Coke float.   @ Woods Pharmacy And Soda Fountain https://t.co/p94LeRBZPY',\n",
       "  ' beautiful ;)',\n",
       "  \"When I'm cold and tired my movements resemble crack head\",\n",
       "  'Hazelnuts, kohlrabi, arugula &amp; pear vinagrette fall salad was a lovely combo at Le Garage   https://t.co/ZbJAQep6LV',\n",
       "  'Interested in a  in , CA? This could be a great fit: https://t.co/TJa2h7tY3t  ',\n",
       "  'Miss high school basketball',\n",
       "  \"  it's in the official pokémon/Kingdom Hearts crossover\",\n",
       "  ' with the most hype yeah boi ever https://t.co/WZjuFH9CRv',\n",
       "  ' is a poor mans heroin.  ',\n",
       "  'Happy birthday to my boy  we gon get lit tonight 💯👌🏻🎊 https://t.co/90mmJlsykJ',\n",
       "  'Hiding every time the door bell rings because we forgot to buy candy for trick or treaters fml lolll',\n",
       "  \"What's with the scissors? Can't crack a blunt?😂 https://t.co/WkTG9jji2v\",\n",
       "  ' you are standing up for a great cause against an evil corrupt corporate empire. I love you so much!!!',\n",
       "  '    tachas butt fireball what 🌞',\n",
       "  '  I appreciate all you have taught me in life. Thank YOU.',\n",
       "  'I need alcohol,',\n",
       "  'Johnny Football!!! https://t.co/n9848UMyp2',\n",
       "  ' Low IQ, brainwashed, grew up with a dad who was also a total ignorant racists, probably.',\n",
       "  'Piss off Urban!! What the freak was that??  ',\n",
       "  'Id hug someone for cocaine, booze, methamphetamine, opiates, maybe some shrooms. But not McDonalds cuisine, that shit is poison.',\n",
       "  \"I don't think anyone realizes how excited I am to have new grass in my front yard.\",\n",
       "  'The Alliance for Inclusive &amp; Multicultural Marketing (AIMM) announced at . A platform for convening the industry on issues/opps.',\n",
       "  ' worse than the hbr though..',\n",
       "  'I have been pointing out all weekend: Divorce rates are over 50%; Porn Industry rakes in billions; TV, Movies &amp; Mus… https://t.co/GB16VMkhbM',\n",
       "  'kids sleeping cleaning up food then going on https://t.co/tzjnY0kBYm kingstar0 https://t.co/xLVWBYHiAz',\n",
       "  'Ceiling artwork in the cozy theater at Dr. Phillips.... … https://t.co/30bL0ZmeKJ',\n",
       "  '   otherwise you look shallow and mean.',\n",
       "  'Cleared: Incident on  SB from Rosedale Avenue; Ramp to START ROUTE I-95; George Washington Bridge',\n",
       "  \"One of these days I'm actually gonna do cocaine.\",\n",
       "  '  assembly. Photo creds: ambersuephotography @ Aberdeen, South Dakota https://t.co/eoTn6IQDbm',\n",
       "  '  Little 🤔'],\n",
       " tensor([[5.3303e-02, 2.1311e-02, 4.0685e-02,  ..., 1.7964e-04, 7.8877e-04,\n",
       "          1.5493e-04],\n",
       "         [9.9644e-01, 2.1663e-03, 6.4644e-05,  ..., 2.1882e-05, 3.7153e-06,\n",
       "          9.2826e-06],\n",
       "         [1.6348e-02, 1.1797e-02, 3.4577e-02,  ..., 2.2192e-04, 1.0460e-03,\n",
       "          1.5299e-04],\n",
       "         ...,\n",
       "         [1.5843e-02, 1.1418e-02, 3.4108e-02,  ..., 2.2676e-04, 1.0631e-03,\n",
       "          1.5500e-04],\n",
       "         [9.9626e-01, 2.3587e-03, 6.7498e-05,  ..., 1.9428e-05, 3.4107e-06,\n",
       "          8.3880e-06],\n",
       "         [9.9681e-01, 2.0168e-03, 6.4180e-05,  ..., 1.6556e-05, 3.0899e-06,\n",
       "          6.8058e-06]]),\n",
       " tensor([8, 0, 8, 0, 3, 7, 1, 0, 0, 0, 0, 0, 0, 5, 0, 0, 0, 0, 8, 0, 8, 0, 0, 0,\n",
       "         0, 0, 0, 0, 0, 0, 0, 0, 0, 0, 8, 0, 0, 0, 0, 0, 8, 0, 0, 0, 0, 0, 0, 0,\n",
       "         0, 0, 0, 8, 0, 0, 0, 0, 0, 0, 0, 0, 0, 3, 0, 0, 0, 0, 0, 0, 0, 0, 0, 0,\n",
       "         0, 0, 0, 0, 0, 0, 0, 0, 0, 0, 0, 0, 0, 6, 0, 0, 0, 0, 0, 0, 8, 0, 0, 0,\n",
       "         0, 0, 0, 8, 0, 0, 0, 0, 0, 0, 0, 0, 8, 0, 0, 0, 0, 0, 0, 0, 0, 0, 0, 0,\n",
       "         0, 0, 0, 0, 0, 0, 0, 0, 1, 0, 8, 0, 0, 0, 8, 3, 0, 8, 0, 0, 8, 0, 0, 0,\n",
       "         0, 0, 0, 0, 7, 0, 0, 8, 0, 0, 0, 8, 0, 0, 0, 0, 0, 0, 0, 0, 8, 0, 0, 0,\n",
       "         0, 0, 0, 0, 0, 1, 0, 0, 0, 0, 0, 0, 0, 0, 8, 0, 0, 0, 0, 0, 0, 0, 0, 8,\n",
       "         0, 0, 0, 8, 0, 0, 0, 0, 0, 7, 0, 0, 8, 0, 0, 0, 1, 0, 0, 0, 8, 0, 0, 0,\n",
       "         0, 0, 8, 0, 0, 8, 0, 0]),\n",
       " tensor([8, 0, 0, 0, 1, 7, 1, 0, 4, 0, 0, 0, 0, 3, 0, 0, 0, 0, 8, 0, 2, 0, 0, 0,\n",
       "         0, 0, 0, 0, 0, 0, 0, 0, 0, 0, 8, 0, 0, 0, 0, 0, 8, 0, 0, 0, 0, 0, 0, 0,\n",
       "         0, 0, 0, 8, 0, 0, 0, 0, 0, 0, 0, 0, 0, 0, 0, 0, 0, 4, 0, 0, 0, 0, 0, 6,\n",
       "         0, 0, 0, 0, 0, 0, 0, 0, 0, 0, 0, 0, 1, 6, 0, 0, 0, 0, 0, 0, 8, 0, 0, 0,\n",
       "         0, 0, 0, 8, 0, 0, 0, 0, 0, 0, 0, 0, 0, 0, 0, 8, 0, 0, 0, 0, 0, 0, 0, 0,\n",
       "         0, 0, 1, 0, 0, 0, 0, 0, 1, 0, 8, 1, 0, 0, 2, 2, 0, 8, 0, 0, 8, 0, 1, 0,\n",
       "         0, 0, 0, 0, 7, 0, 0, 8, 0, 0, 0, 0, 0, 0, 0, 0, 0, 0, 0, 0, 8, 0, 0, 0,\n",
       "         0, 0, 0, 0, 0, 1, 0, 0, 0, 0, 0, 1, 0, 0, 8, 0, 0, 0, 0, 2, 0, 0, 0, 1,\n",
       "         0, 0, 0, 8, 0, 0, 0, 0, 0, 7, 4, 0, 3, 0, 0, 0, 1, 0, 0, 0, 2, 0, 0, 0,\n",
       "         0, 0, 0, 0, 0, 8, 0, 0]))"
      ]
     },
     "execution_count": 59,
     "metadata": {},
     "output_type": "execute_result"
    }
   ],
   "source": [
    "y_review_texts,y_pred_probs, y_pred, y_test"
   ]
  },
  {
   "cell_type": "code",
   "execution_count": 61,
   "metadata": {},
   "outputs": [],
   "source": [
    "a = y_test.numpy"
   ]
  },
  {
   "cell_type": "code",
   "execution_count": 62,
   "metadata": {},
   "outputs": [
    {
     "data": {
      "text/html": [
       "<div>\n",
       "<style scoped>\n",
       "    .dataframe tbody tr th:only-of-type {\n",
       "        vertical-align: middle;\n",
       "    }\n",
       "\n",
       "    .dataframe tbody tr th {\n",
       "        vertical-align: top;\n",
       "    }\n",
       "\n",
       "    .dataframe thead th {\n",
       "        text-align: right;\n",
       "    }\n",
       "</style>\n",
       "<table border=\"1\" class=\"dataframe\">\n",
       "  <thead>\n",
       "    <tr style=\"text-align: right;\">\n",
       "      <th></th>\n",
       "      <th>tweet</th>\n",
       "      <th>Real</th>\n",
       "      <th>Predicted</th>\n",
       "      <th>Pred-prob</th>\n",
       "    </tr>\n",
       "  </thead>\n",
       "  <tbody>\n",
       "    <tr>\n",
       "      <th>0</th>\n",
       "      <td>yea it's called crack</td>\n",
       "      <td>tensor(8)</td>\n",
       "      <td>tensor(8)</td>\n",
       "      <td>[tensor(0.0533), tensor(0.0213), tensor(0.0407...</td>\n",
       "    </tr>\n",
       "    <tr>\n",
       "      <th>1</th>\n",
       "      <td>if I can't make a joke about blue balls then ...</td>\n",
       "      <td>tensor(0)</td>\n",
       "      <td>tensor(0)</td>\n",
       "      <td>[tensor(0.9964), tensor(0.0022), tensor(6.4644...</td>\n",
       "    </tr>\n",
       "    <tr>\n",
       "      <th>2</th>\n",
       "      <td>Save a horse, ride a cowboy</td>\n",
       "      <td>tensor(0)</td>\n",
       "      <td>tensor(8)</td>\n",
       "      <td>[tensor(0.0163), tensor(0.0118), tensor(0.0346...</td>\n",
       "    </tr>\n",
       "    <tr>\n",
       "      <th>3</th>\n",
       "      <td>I sent screenshots. ;)</td>\n",
       "      <td>tensor(0)</td>\n",
       "      <td>tensor(0)</td>\n",
       "      <td>[tensor(0.9966), tensor(0.0022), tensor(6.4313...</td>\n",
       "    </tr>\n",
       "    <tr>\n",
       "      <th>4</th>\n",
       "      <td>Out being high-octane basic with the love of m...</td>\n",
       "      <td>tensor(1)</td>\n",
       "      <td>tensor(3)</td>\n",
       "      <td>[tensor(0.0110), tensor(0.0051), tensor(0.0338...</td>\n",
       "    </tr>\n",
       "    <tr>\n",
       "      <th>...</th>\n",
       "      <td>...</td>\n",
       "      <td>...</td>\n",
       "      <td>...</td>\n",
       "      <td>...</td>\n",
       "    </tr>\n",
       "    <tr>\n",
       "      <th>219</th>\n",
       "      <td>otherwise you look shallow and mean.</td>\n",
       "      <td>tensor(0)</td>\n",
       "      <td>tensor(0)</td>\n",
       "      <td>[tensor(0.9969), tensor(0.0018), tensor(6.2395...</td>\n",
       "    </tr>\n",
       "    <tr>\n",
       "      <th>220</th>\n",
       "      <td>Cleared: Incident on  SB from Rosedale Avenue;...</td>\n",
       "      <td>tensor(0)</td>\n",
       "      <td>tensor(0)</td>\n",
       "      <td>[tensor(0.9966), tensor(0.0021), tensor(6.5586...</td>\n",
       "    </tr>\n",
       "    <tr>\n",
       "      <th>221</th>\n",
       "      <td>One of these days I'm actually gonna do cocaine.</td>\n",
       "      <td>tensor(8)</td>\n",
       "      <td>tensor(8)</td>\n",
       "      <td>[tensor(0.0158), tensor(0.0114), tensor(0.0341...</td>\n",
       "    </tr>\n",
       "    <tr>\n",
       "      <th>222</th>\n",
       "      <td>assembly. Photo creds: ambersuephotography @...</td>\n",
       "      <td>tensor(0)</td>\n",
       "      <td>tensor(0)</td>\n",
       "      <td>[tensor(0.9963), tensor(0.0024), tensor(6.7498...</td>\n",
       "    </tr>\n",
       "    <tr>\n",
       "      <th>223</th>\n",
       "      <td>Little 🤔</td>\n",
       "      <td>tensor(0)</td>\n",
       "      <td>tensor(0)</td>\n",
       "      <td>[tensor(0.9968), tensor(0.0020), tensor(6.4180...</td>\n",
       "    </tr>\n",
       "  </tbody>\n",
       "</table>\n",
       "<p>224 rows × 4 columns</p>\n",
       "</div>"
      ],
      "text/plain": [
       "                                                 tweet       Real  Predicted  \\\n",
       "0                                yea it's called crack  tensor(8)  tensor(8)   \n",
       "1     if I can't make a joke about blue balls then ...  tensor(0)  tensor(0)   \n",
       "2                          Save a horse, ride a cowboy  tensor(0)  tensor(8)   \n",
       "3                               I sent screenshots. ;)  tensor(0)  tensor(0)   \n",
       "4    Out being high-octane basic with the love of m...  tensor(1)  tensor(3)   \n",
       "..                                                 ...        ...        ...   \n",
       "219               otherwise you look shallow and mean.  tensor(0)  tensor(0)   \n",
       "220  Cleared: Incident on  SB from Rosedale Avenue;...  tensor(0)  tensor(0)   \n",
       "221   One of these days I'm actually gonna do cocaine.  tensor(8)  tensor(8)   \n",
       "222    assembly. Photo creds: ambersuephotography @...  tensor(0)  tensor(0)   \n",
       "223                                           Little 🤔  tensor(0)  tensor(0)   \n",
       "\n",
       "                                             Pred-prob  \n",
       "0    [tensor(0.0533), tensor(0.0213), tensor(0.0407...  \n",
       "1    [tensor(0.9964), tensor(0.0022), tensor(6.4644...  \n",
       "2    [tensor(0.0163), tensor(0.0118), tensor(0.0346...  \n",
       "3    [tensor(0.9966), tensor(0.0022), tensor(6.4313...  \n",
       "4    [tensor(0.0110), tensor(0.0051), tensor(0.0338...  \n",
       "..                                                 ...  \n",
       "219  [tensor(0.9969), tensor(0.0018), tensor(6.2395...  \n",
       "220  [tensor(0.9966), tensor(0.0021), tensor(6.5586...  \n",
       "221  [tensor(0.0158), tensor(0.0114), tensor(0.0341...  \n",
       "222  [tensor(0.9963), tensor(0.0024), tensor(6.7498...  \n",
       "223  [tensor(0.9968), tensor(0.0020), tensor(6.4180...  \n",
       "\n",
       "[224 rows x 4 columns]"
      ]
     },
     "execution_count": 62,
     "metadata": {},
     "output_type": "execute_result"
    }
   ],
   "source": [
    "someListOfLists = list(zip(y_review_texts, y_test, y_pred, y_pred_probs ))\n",
    "npa = np.asarray(someListOfLists)\n",
    "dff = pd.DataFrame(someListOfLists, columns = ['tweet', 'Real', 'Predicted', 'Pred-prob'])\n",
    "# dff['Real']= pd.to_numeric(df[\"Real\"])\n",
    "dff"
   ]
  },
  {
   "cell_type": "code",
   "execution_count": 63,
   "metadata": {
    "colab": {
     "base_uri": "https://localhost:8080/"
    },
    "id": "9AGkjpDaHz_o",
    "outputId": "68d76c36-c355-451b-eb40-ffa57dce243f"
   },
   "outputs": [
    {
     "data": {
      "text/plain": [
       "array(['C', 'X', 'A', 'H', 'G', 'M', 'D', 'Rx'], dtype=object)"
      ]
     },
     "execution_count": 63,
     "metadata": {},
     "output_type": "execute_result"
    }
   ],
   "source": [
    "# class_names, label_dict, possible_labels\n",
    "# label_dict.keys()\n",
    "# y_pred\n",
    "\n",
    "\n",
    "possible_labels_test = df_test.Substance.unique()\n",
    "possible_labels_test\n",
    "# label_dict = {}\n",
    "# for index, possible_label in enumerate(possible_labels):\n",
    "#     label_dict[possible_label] = index\n",
    "# label_dict"
   ]
  },
  {
   "cell_type": "code",
   "execution_count": 64,
   "metadata": {
    "colab": {
     "base_uri": "https://localhost:8080/"
    },
    "id": "wgq_aUGOG4dK",
    "outputId": "e5a6c79a-b6e6-4626-bb6d-09257257a846"
   },
   "outputs": [
    {
     "ename": "ValueError",
     "evalue": "Number of classes, 9, does not match size of target_names, 8. Try specifying the labels parameter",
     "output_type": "error",
     "traceback": [
      "\u001b[0;31m---------------------------------------------------------------------------\u001b[0m",
      "\u001b[0;31mValueError\u001b[0m                                Traceback (most recent call last)",
      "\u001b[0;32m<ipython-input-64-9bc27af8c2d5>\u001b[0m in \u001b[0;36m<module>\u001b[0;34m\u001b[0m\n\u001b[0;32m----> 1\u001b[0;31m \u001b[0mprint\u001b[0m\u001b[0;34m(\u001b[0m\u001b[0mclassification_report\u001b[0m\u001b[0;34m(\u001b[0m\u001b[0my_test\u001b[0m\u001b[0;34m,\u001b[0m \u001b[0my_pred\u001b[0m\u001b[0;34m,\u001b[0m \u001b[0mtarget_names\u001b[0m\u001b[0;34m=\u001b[0m\u001b[0mpossible_labels_test\u001b[0m\u001b[0;34m)\u001b[0m\u001b[0;34m)\u001b[0m\u001b[0;34m\u001b[0m\u001b[0;34m\u001b[0m\u001b[0m\n\u001b[0m",
      "\u001b[0;32m~/.local/lib/python3.6/site-packages/sklearn/metrics/classification.py\u001b[0m in \u001b[0;36mclassification_report\u001b[0;34m(y_true, y_pred, labels, target_names, sample_weight, digits, output_dict)\u001b[0m\n\u001b[1;32m   1874\u001b[0m                 \u001b[0;34m\"Number of classes, {0}, does not match size of \"\u001b[0m\u001b[0;34m\u001b[0m\u001b[0;34m\u001b[0m\u001b[0m\n\u001b[1;32m   1875\u001b[0m                 \u001b[0;34m\"target_names, {1}. Try specifying the labels \"\u001b[0m\u001b[0;34m\u001b[0m\u001b[0;34m\u001b[0m\u001b[0m\n\u001b[0;32m-> 1876\u001b[0;31m                 \u001b[0;34m\"parameter\"\u001b[0m\u001b[0;34m.\u001b[0m\u001b[0mformat\u001b[0m\u001b[0;34m(\u001b[0m\u001b[0mlen\u001b[0m\u001b[0;34m(\u001b[0m\u001b[0mlabels\u001b[0m\u001b[0;34m)\u001b[0m\u001b[0;34m,\u001b[0m \u001b[0mlen\u001b[0m\u001b[0;34m(\u001b[0m\u001b[0mtarget_names\u001b[0m\u001b[0;34m)\u001b[0m\u001b[0;34m)\u001b[0m\u001b[0;34m\u001b[0m\u001b[0;34m\u001b[0m\u001b[0m\n\u001b[0m\u001b[1;32m   1877\u001b[0m             )\n\u001b[1;32m   1878\u001b[0m     \u001b[0;32mif\u001b[0m \u001b[0mtarget_names\u001b[0m \u001b[0;32mis\u001b[0m \u001b[0;32mNone\u001b[0m\u001b[0;34m:\u001b[0m\u001b[0;34m\u001b[0m\u001b[0;34m\u001b[0m\u001b[0m\n",
      "\u001b[0;31mValueError\u001b[0m: Number of classes, 9, does not match size of target_names, 8. Try specifying the labels parameter"
     ]
    }
   ],
   "source": [
    "print(classification_report(y_test, y_pred, target_names=possible_labels_test))"
   ]
  },
  {
   "cell_type": "code",
   "execution_count": 53,
   "metadata": {
    "colab": {
     "base_uri": "https://localhost:8080/",
     "height": 296
    },
    "id": "2QtoYqSlHTG2",
    "outputId": "829b4ac4-d49e-4694-e52a-8de90666b2e2"
   },
   "outputs": [
    {
     "ename": "ValueError",
     "evalue": "Shape of passed values is (9, 9), indices imply (8, 8)",
     "output_type": "error",
     "traceback": [
      "\u001b[0;31m---------------------------------------------------------------------------\u001b[0m",
      "\u001b[0;31mValueError\u001b[0m                                Traceback (most recent call last)",
      "\u001b[0;32m~/.local/lib/python3.6/site-packages/pandas/core/internals/managers.py\u001b[0m in \u001b[0;36mcreate_block_manager_from_blocks\u001b[0;34m(blocks, axes)\u001b[0m\n\u001b[1;32m   1670\u001b[0m                 blocks = [\n\u001b[0;32m-> 1671\u001b[0;31m                     \u001b[0mmake_block\u001b[0m\u001b[0;34m(\u001b[0m\u001b[0mvalues\u001b[0m\u001b[0;34m=\u001b[0m\u001b[0mblocks\u001b[0m\u001b[0;34m[\u001b[0m\u001b[0;36m0\u001b[0m\u001b[0;34m]\u001b[0m\u001b[0;34m,\u001b[0m \u001b[0mplacement\u001b[0m\u001b[0;34m=\u001b[0m\u001b[0mslice\u001b[0m\u001b[0;34m(\u001b[0m\u001b[0;36m0\u001b[0m\u001b[0;34m,\u001b[0m \u001b[0mlen\u001b[0m\u001b[0;34m(\u001b[0m\u001b[0maxes\u001b[0m\u001b[0;34m[\u001b[0m\u001b[0;36m0\u001b[0m\u001b[0;34m]\u001b[0m\u001b[0;34m)\u001b[0m\u001b[0;34m)\u001b[0m\u001b[0;34m)\u001b[0m\u001b[0;34m\u001b[0m\u001b[0;34m\u001b[0m\u001b[0m\n\u001b[0m\u001b[1;32m   1672\u001b[0m                 ]\n",
      "\u001b[0;32m~/.local/lib/python3.6/site-packages/pandas/core/internals/blocks.py\u001b[0m in \u001b[0;36mmake_block\u001b[0;34m(values, placement, klass, ndim, dtype)\u001b[0m\n\u001b[1;32m   2743\u001b[0m \u001b[0;34m\u001b[0m\u001b[0m\n\u001b[0;32m-> 2744\u001b[0;31m     \u001b[0;32mreturn\u001b[0m \u001b[0mklass\u001b[0m\u001b[0;34m(\u001b[0m\u001b[0mvalues\u001b[0m\u001b[0;34m,\u001b[0m \u001b[0mndim\u001b[0m\u001b[0;34m=\u001b[0m\u001b[0mndim\u001b[0m\u001b[0;34m,\u001b[0m \u001b[0mplacement\u001b[0m\u001b[0;34m=\u001b[0m\u001b[0mplacement\u001b[0m\u001b[0;34m)\u001b[0m\u001b[0;34m\u001b[0m\u001b[0;34m\u001b[0m\u001b[0m\n\u001b[0m\u001b[1;32m   2745\u001b[0m \u001b[0;34m\u001b[0m\u001b[0m\n",
      "\u001b[0;32m~/.local/lib/python3.6/site-packages/pandas/core/internals/blocks.py\u001b[0m in \u001b[0;36m__init__\u001b[0;34m(self, values, placement, ndim)\u001b[0m\n\u001b[1;32m    130\u001b[0m             raise ValueError(\n\u001b[0;32m--> 131\u001b[0;31m                 \u001b[0;34mf\"Wrong number of items passed {len(self.values)}, \"\u001b[0m\u001b[0;34m\u001b[0m\u001b[0;34m\u001b[0m\u001b[0m\n\u001b[0m\u001b[1;32m    132\u001b[0m                 \u001b[0;34mf\"placement implies {len(self.mgr_locs)}\"\u001b[0m\u001b[0;34m\u001b[0m\u001b[0;34m\u001b[0m\u001b[0m\n",
      "\u001b[0;31mValueError\u001b[0m: Wrong number of items passed 9, placement implies 8",
      "\nDuring handling of the above exception, another exception occurred:\n",
      "\u001b[0;31mValueError\u001b[0m                                Traceback (most recent call last)",
      "\u001b[0;32m<ipython-input-53-7136681f61f4>\u001b[0m in \u001b[0;36m<module>\u001b[0;34m\u001b[0m\n\u001b[1;32m      7\u001b[0m \u001b[0;34m\u001b[0m\u001b[0m\n\u001b[1;32m      8\u001b[0m \u001b[0mcm\u001b[0m \u001b[0;34m=\u001b[0m \u001b[0mconfusion_matrix\u001b[0m\u001b[0;34m(\u001b[0m\u001b[0my_test\u001b[0m\u001b[0;34m,\u001b[0m \u001b[0my_pred\u001b[0m\u001b[0;34m)\u001b[0m\u001b[0;34m\u001b[0m\u001b[0;34m\u001b[0m\u001b[0m\n\u001b[0;32m----> 9\u001b[0;31m \u001b[0mdf_cm\u001b[0m \u001b[0;34m=\u001b[0m \u001b[0mpd\u001b[0m\u001b[0;34m.\u001b[0m\u001b[0mDataFrame\u001b[0m\u001b[0;34m(\u001b[0m\u001b[0mcm\u001b[0m\u001b[0;34m,\u001b[0m \u001b[0mindex\u001b[0m\u001b[0;34m=\u001b[0m\u001b[0mpossible_labels_test\u001b[0m\u001b[0;34m,\u001b[0m \u001b[0mcolumns\u001b[0m\u001b[0;34m=\u001b[0m\u001b[0mpossible_labels_test\u001b[0m\u001b[0;34m)\u001b[0m\u001b[0;34m\u001b[0m\u001b[0;34m\u001b[0m\u001b[0m\n\u001b[0m\u001b[1;32m     10\u001b[0m \u001b[0mshow_confusion_matrix\u001b[0m\u001b[0;34m(\u001b[0m\u001b[0mdf_cm\u001b[0m\u001b[0;34m)\u001b[0m\u001b[0;34m\u001b[0m\u001b[0;34m\u001b[0m\u001b[0m\n",
      "\u001b[0;32m~/.local/lib/python3.6/site-packages/pandas/core/frame.py\u001b[0m in \u001b[0;36m__init__\u001b[0;34m(self, data, index, columns, dtype, copy)\u001b[0m\n\u001b[1;32m    495\u001b[0m                 \u001b[0mmgr\u001b[0m \u001b[0;34m=\u001b[0m \u001b[0minit_dict\u001b[0m\u001b[0;34m(\u001b[0m\u001b[0;34m{\u001b[0m\u001b[0mdata\u001b[0m\u001b[0;34m.\u001b[0m\u001b[0mname\u001b[0m\u001b[0;34m:\u001b[0m \u001b[0mdata\u001b[0m\u001b[0;34m}\u001b[0m\u001b[0;34m,\u001b[0m \u001b[0mindex\u001b[0m\u001b[0;34m,\u001b[0m \u001b[0mcolumns\u001b[0m\u001b[0;34m,\u001b[0m \u001b[0mdtype\u001b[0m\u001b[0;34m=\u001b[0m\u001b[0mdtype\u001b[0m\u001b[0;34m)\u001b[0m\u001b[0;34m\u001b[0m\u001b[0;34m\u001b[0m\u001b[0m\n\u001b[1;32m    496\u001b[0m             \u001b[0;32melse\u001b[0m\u001b[0;34m:\u001b[0m\u001b[0;34m\u001b[0m\u001b[0;34m\u001b[0m\u001b[0m\n\u001b[0;32m--> 497\u001b[0;31m                 \u001b[0mmgr\u001b[0m \u001b[0;34m=\u001b[0m \u001b[0minit_ndarray\u001b[0m\u001b[0;34m(\u001b[0m\u001b[0mdata\u001b[0m\u001b[0;34m,\u001b[0m \u001b[0mindex\u001b[0m\u001b[0;34m,\u001b[0m \u001b[0mcolumns\u001b[0m\u001b[0;34m,\u001b[0m \u001b[0mdtype\u001b[0m\u001b[0;34m=\u001b[0m\u001b[0mdtype\u001b[0m\u001b[0;34m,\u001b[0m \u001b[0mcopy\u001b[0m\u001b[0;34m=\u001b[0m\u001b[0mcopy\u001b[0m\u001b[0;34m)\u001b[0m\u001b[0;34m\u001b[0m\u001b[0;34m\u001b[0m\u001b[0m\n\u001b[0m\u001b[1;32m    498\u001b[0m \u001b[0;34m\u001b[0m\u001b[0m\n\u001b[1;32m    499\u001b[0m         \u001b[0;31m# For data is list-like, or Iterable (will consume into list)\u001b[0m\u001b[0;34m\u001b[0m\u001b[0;34m\u001b[0m\u001b[0;34m\u001b[0m\u001b[0m\n",
      "\u001b[0;32m~/.local/lib/python3.6/site-packages/pandas/core/internals/construction.py\u001b[0m in \u001b[0;36minit_ndarray\u001b[0;34m(values, index, columns, dtype, copy)\u001b[0m\n\u001b[1;32m    232\u001b[0m         \u001b[0mblock_values\u001b[0m \u001b[0;34m=\u001b[0m \u001b[0;34m[\u001b[0m\u001b[0mvalues\u001b[0m\u001b[0;34m]\u001b[0m\u001b[0;34m\u001b[0m\u001b[0;34m\u001b[0m\u001b[0m\n\u001b[1;32m    233\u001b[0m \u001b[0;34m\u001b[0m\u001b[0m\n\u001b[0;32m--> 234\u001b[0;31m     \u001b[0;32mreturn\u001b[0m \u001b[0mcreate_block_manager_from_blocks\u001b[0m\u001b[0;34m(\u001b[0m\u001b[0mblock_values\u001b[0m\u001b[0;34m,\u001b[0m \u001b[0;34m[\u001b[0m\u001b[0mcolumns\u001b[0m\u001b[0;34m,\u001b[0m \u001b[0mindex\u001b[0m\u001b[0;34m]\u001b[0m\u001b[0;34m)\u001b[0m\u001b[0;34m\u001b[0m\u001b[0;34m\u001b[0m\u001b[0m\n\u001b[0m\u001b[1;32m    235\u001b[0m \u001b[0;34m\u001b[0m\u001b[0m\n\u001b[1;32m    236\u001b[0m \u001b[0;34m\u001b[0m\u001b[0m\n",
      "\u001b[0;32m~/.local/lib/python3.6/site-packages/pandas/core/internals/managers.py\u001b[0m in \u001b[0;36mcreate_block_manager_from_blocks\u001b[0;34m(blocks, axes)\u001b[0m\n\u001b[1;32m   1679\u001b[0m         \u001b[0mblocks\u001b[0m \u001b[0;34m=\u001b[0m \u001b[0;34m[\u001b[0m\u001b[0mgetattr\u001b[0m\u001b[0;34m(\u001b[0m\u001b[0mb\u001b[0m\u001b[0;34m,\u001b[0m \u001b[0;34m\"values\"\u001b[0m\u001b[0;34m,\u001b[0m \u001b[0mb\u001b[0m\u001b[0;34m)\u001b[0m \u001b[0;32mfor\u001b[0m \u001b[0mb\u001b[0m \u001b[0;32min\u001b[0m \u001b[0mblocks\u001b[0m\u001b[0;34m]\u001b[0m\u001b[0;34m\u001b[0m\u001b[0;34m\u001b[0m\u001b[0m\n\u001b[1;32m   1680\u001b[0m         \u001b[0mtot_items\u001b[0m \u001b[0;34m=\u001b[0m \u001b[0msum\u001b[0m\u001b[0;34m(\u001b[0m\u001b[0mb\u001b[0m\u001b[0;34m.\u001b[0m\u001b[0mshape\u001b[0m\u001b[0;34m[\u001b[0m\u001b[0;36m0\u001b[0m\u001b[0;34m]\u001b[0m \u001b[0;32mfor\u001b[0m \u001b[0mb\u001b[0m \u001b[0;32min\u001b[0m \u001b[0mblocks\u001b[0m\u001b[0;34m)\u001b[0m\u001b[0;34m\u001b[0m\u001b[0;34m\u001b[0m\u001b[0m\n\u001b[0;32m-> 1681\u001b[0;31m         \u001b[0;32mraise\u001b[0m \u001b[0mconstruction_error\u001b[0m\u001b[0;34m(\u001b[0m\u001b[0mtot_items\u001b[0m\u001b[0;34m,\u001b[0m \u001b[0mblocks\u001b[0m\u001b[0;34m[\u001b[0m\u001b[0;36m0\u001b[0m\u001b[0;34m]\u001b[0m\u001b[0;34m.\u001b[0m\u001b[0mshape\u001b[0m\u001b[0;34m[\u001b[0m\u001b[0;36m1\u001b[0m\u001b[0;34m:\u001b[0m\u001b[0;34m]\u001b[0m\u001b[0;34m,\u001b[0m \u001b[0maxes\u001b[0m\u001b[0;34m,\u001b[0m \u001b[0me\u001b[0m\u001b[0;34m)\u001b[0m\u001b[0;34m\u001b[0m\u001b[0;34m\u001b[0m\u001b[0m\n\u001b[0m\u001b[1;32m   1682\u001b[0m \u001b[0;34m\u001b[0m\u001b[0m\n\u001b[1;32m   1683\u001b[0m \u001b[0;34m\u001b[0m\u001b[0m\n",
      "\u001b[0;31mValueError\u001b[0m: Shape of passed values is (9, 9), indices imply (8, 8)"
     ]
    }
   ],
   "source": [
    "def show_confusion_matrix(confusion_matrix):\n",
    "  hmap = sns.heatmap(confusion_matrix, annot=True, fmt=\"d\", cmap=\"Blues\")\n",
    "  hmap.yaxis.set_ticklabels(hmap.yaxis.get_ticklabels(), rotation=0, ha='right')\n",
    "  hmap.xaxis.set_ticklabels(hmap.xaxis.get_ticklabels(), rotation=30, ha='right')\n",
    "  plt.ylabel('True sentiment')\n",
    "  plt.xlabel('Predicted sentiment');\n",
    "\n",
    "cm = confusion_matrix(y_test, y_pred)\n",
    "df_cm = pd.DataFrame(cm, index=possible_labels_test, columns=possible_labels_test)\n",
    "show_confusion_matrix(df_cm)"
   ]
  },
  {
   "cell_type": "code",
   "execution_count": 54,
   "metadata": {
    "colab": {
     "base_uri": "https://localhost:8080/"
    },
    "id": "SJGrU0s4LSig",
    "outputId": "2e3534e2-d479-4d26-d983-d9253998e5b1"
   },
   "outputs": [
    {
     "data": {
      "text/plain": [
       "(tensor(8), tensor(8))"
      ]
     },
     "execution_count": 54,
     "metadata": {},
     "output_type": "execute_result"
    }
   ],
   "source": [
    "idx = 15\n",
    "idx = 99\n",
    "\n",
    "review_text = y_review_texts[idx]\n",
    "true_sentiment = y_test[idx]\n",
    "pred_df = pd.DataFrame({\n",
    "  'class_names': possible_labels,\n",
    "  'values': y_pred_probs[idx]\n",
    "})\n",
    "true_sentiment, y_pred[idx]"
   ]
  },
  {
   "cell_type": "code",
   "execution_count": 55,
   "metadata": {},
   "outputs": [
    {
     "data": {
      "text/html": [
       "<div>\n",
       "<style scoped>\n",
       "    .dataframe tbody tr th:only-of-type {\n",
       "        vertical-align: middle;\n",
       "    }\n",
       "\n",
       "    .dataframe tbody tr th {\n",
       "        vertical-align: top;\n",
       "    }\n",
       "\n",
       "    .dataframe thead th {\n",
       "        text-align: right;\n",
       "    }\n",
       "</style>\n",
       "<table border=\"1\" class=\"dataframe\">\n",
       "  <thead>\n",
       "    <tr style=\"text-align: right;\">\n",
       "      <th></th>\n",
       "      <th>class_names</th>\n",
       "      <th>values</th>\n",
       "    </tr>\n",
       "  </thead>\n",
       "  <tbody>\n",
       "    <tr>\n",
       "      <th>0</th>\n",
       "      <td>X</td>\n",
       "      <td>0.013726</td>\n",
       "    </tr>\n",
       "    <tr>\n",
       "      <th>1</th>\n",
       "      <td>A</td>\n",
       "      <td>0.010969</td>\n",
       "    </tr>\n",
       "    <tr>\n",
       "      <th>2</th>\n",
       "      <td>D</td>\n",
       "      <td>0.033471</td>\n",
       "    </tr>\n",
       "    <tr>\n",
       "      <th>3</th>\n",
       "      <td>M</td>\n",
       "      <td>0.001005</td>\n",
       "    </tr>\n",
       "    <tr>\n",
       "      <th>4</th>\n",
       "      <td>G</td>\n",
       "      <td>0.000310</td>\n",
       "    </tr>\n",
       "    <tr>\n",
       "      <th>5</th>\n",
       "      <td>T</td>\n",
       "      <td>0.000332</td>\n",
       "    </tr>\n",
       "    <tr>\n",
       "      <th>6</th>\n",
       "      <td>Rx</td>\n",
       "      <td>0.000432</td>\n",
       "    </tr>\n",
       "    <tr>\n",
       "      <th>7</th>\n",
       "      <td>H</td>\n",
       "      <td>0.000598</td>\n",
       "    </tr>\n",
       "    <tr>\n",
       "      <th>8</th>\n",
       "      <td>C</td>\n",
       "      <td>0.937124</td>\n",
       "    </tr>\n",
       "    <tr>\n",
       "      <th>9</th>\n",
       "      <td>O</td>\n",
       "      <td>0.000234</td>\n",
       "    </tr>\n",
       "    <tr>\n",
       "      <th>10</th>\n",
       "      <td>V</td>\n",
       "      <td>0.000150</td>\n",
       "    </tr>\n",
       "    <tr>\n",
       "      <th>11</th>\n",
       "      <td>Mx</td>\n",
       "      <td>0.000126</td>\n",
       "    </tr>\n",
       "    <tr>\n",
       "      <th>12</th>\n",
       "      <td>CD</td>\n",
       "      <td>0.000238</td>\n",
       "    </tr>\n",
       "    <tr>\n",
       "      <th>13</th>\n",
       "      <td>Ox</td>\n",
       "      <td>0.001127</td>\n",
       "    </tr>\n",
       "    <tr>\n",
       "      <th>14</th>\n",
       "      <td>P</td>\n",
       "      <td>0.000160</td>\n",
       "    </tr>\n",
       "  </tbody>\n",
       "</table>\n",
       "</div>"
      ],
      "text/plain": [
       "   class_names    values\n",
       "0            X  0.013726\n",
       "1            A  0.010969\n",
       "2            D  0.033471\n",
       "3            M  0.001005\n",
       "4            G  0.000310\n",
       "5            T  0.000332\n",
       "6           Rx  0.000432\n",
       "7            H  0.000598\n",
       "8            C  0.937124\n",
       "9            O  0.000234\n",
       "10           V  0.000150\n",
       "11          Mx  0.000126\n",
       "12          CD  0.000238\n",
       "13          Ox  0.001127\n",
       "14           P  0.000160"
      ]
     },
     "execution_count": 55,
     "metadata": {},
     "output_type": "execute_result"
    }
   ],
   "source": [
    "pred_df"
   ]
  },
  {
   "cell_type": "code",
   "execution_count": null,
   "metadata": {},
   "outputs": [],
   "source": [
    "# possible_labels,class_names,true_sentiment"
   ]
  },
  {
   "cell_type": "code",
   "execution_count": 56,
   "metadata": {
    "colab": {
     "base_uri": "https://localhost:8080/"
    },
    "id": "drJmVVjjLvDP",
    "outputId": "54529139-7b9d-4f04-e574-81613b12afb5"
   },
   "outputs": [
    {
     "name": "stdout",
     "output_type": "stream",
     "text": [
      "In a cab &amp; the girls next to me snorting cocaine...I like this\n",
      "cab.\n",
      "\n",
      "True sentiment: C\n",
      "True sentiment category fullname: Cocaine\n"
     ]
    }
   ],
   "source": [
    "print(\"\\n\".join(wrap(review_text)))\n",
    "print()\n",
    "print(f'True sentiment: {possible_labels[true_sentiment]}')\n",
    "print(f'True sentiment category fullname: {class_names[possible_labels[true_sentiment]]}')"
   ]
  },
  {
   "cell_type": "code",
   "execution_count": 57,
   "metadata": {
    "colab": {
     "base_uri": "https://localhost:8080/",
     "height": 289
    },
    "id": "sBdtUr21MS9-",
    "outputId": "d9f69ade-1918-4f74-bad6-58238a793388"
   },
   "outputs": [
    {
     "data": {
      "image/png": "[encoded data removed]",
      "text/plain": [
       "<Figure size 432x288 with 1 Axes>"
      ]
     },
     "metadata": {
      "image/png": {
       "height": 272,
       "width": 406
      },
      "needs_background": "light"
     },
     "output_type": "display_data"
    }
   ],
   "source": [
    "sns.barplot(x='values', y='class_names', data=pred_df, orient='h')\n",
    "plt.ylabel('Substance Type')\n",
    "plt.xlabel('probability')\n",
    "plt.xlim([0, 1]);"
   ]
  },
  {
   "cell_type": "markdown",
   "metadata": {
    "id": "fjKez11bNOMu"
   },
   "source": [
    "Predicting on Raw Text"
   ]
  },
  {
   "cell_type": "code",
   "execution_count": 263,
   "metadata": {
    "colab": {
     "base_uri": "https://localhost:8080/"
    },
    "id": "wNxU7rH7NNCT",
    "outputId": "4bea17c8-a46e-4cd0-bab8-d532db28eea2"
   },
   "outputs": [
    {
     "name": "stderr",
     "output_type": "stream",
     "text": [
      "Truncation was not explicitly activated but `max_length` is provided a specific value, please use `truncation=True` to explicitly truncate examples to max length. Defaulting to 'longest_first' truncation strategy. If you encode pairs of sequences (GLUE-style) with the tokenizer you can select this strategy more precisely by providing a specific strategy to `truncation`.\n"
     ]
    },
    {
     "name": "stdout",
     "output_type": "stream",
     "text": [
      "Tweet text: Some shots from my shoot for F.I.T. Studio. Coach Fred\n",
      "Substance type  : O\n"
     ]
    }
   ],
   "source": [
    "tweet = \"Some shots from my shoot for F.I.T. Studio. Coach Fred\"\n",
    "encoded_tweet = tokenizer.encode_plus(\n",
    "  tweet,\n",
    "  max_length=MAX_LEN,\n",
    "  add_special_tokens=True,\n",
    "  return_token_type_ids=True,\n",
    "#   pad_to_max_length=True,\n",
    "  return_attention_mask=True,\n",
    "  return_tensors='pt',\n",
    ")\n",
    "input_ids = encoded_tweet['input_ids'].to(device)\n",
    "attention_mask = encoded_tweet['attention_mask'].to(device)\n",
    "token_type_ids = encoded_tweet['token_type_ids'].to(device)\n",
    "\n",
    "\n",
    "output = model(input_ids, attention_mask, token_type_ids)\n",
    "_, prediction = torch.max(output, dim=1)\n",
    "print(f'Tweet text: {tweet}')\n",
    "print(f'Substance type  : {possible_labels[prediction]}')"
   ]
  },
  {
   "cell_type": "code",
   "execution_count": null,
   "metadata": {},
   "outputs": [],
   "source": []
  }
 ],
 "metadata": {
  "accelerator": "GPU",
  "colab": {
   "collapsed_sections": [],
   "name": "TweetsClassification.ipynb",
   "provenance": []
  },
  "kernelspec": {
   "display_name": "gpu2",
   "language": "python",
   "name": "gpu2"
  },
  "language_info": {
   "codemirror_mode": {
    "name": "ipython",
    "version": 3
   },
   "file_extension": ".py",
   "mimetype": "text/x-python",
   "name": "python",
   "nbconvert_exporter": "python",
   "pygments_lexer": "ipython3",
   "version": "3.7.7"
  },
  "widgets": {
   "application/vnd.jupyter.widget-state+json": {
    "055e6760af2a4cc99a5ab6c89d09a631": {
     "model_module": "@jupyter-widgets/base",
     "model_module_version": "1.2.0",
     "model_name": "LayoutModel",
     "state": {
      "_model_module": "@jupyter-widgets/base",
      "_model_module_version": "1.2.0",
      "_model_name": "LayoutModel",
      "_view_count": null,
      "_view_module": "@jupyter-widgets/base",
      "_view_module_version": "1.2.0",
      "_view_name": "LayoutView",
      "align_content": null,
      "align_items": null,
      "align_self": null,
      "border": null,
      "bottom": null,
      "display": null,
      "flex": null,
      "flex_flow": null,
      "grid_area": null,
      "grid_auto_columns": null,
      "grid_auto_flow": null,
      "grid_auto_rows": null,
      "grid_column": null,
      "grid_gap": null,
      "grid_row": null,
      "grid_template_areas": null,
      "grid_template_columns": null,
      "grid_template_rows": null,
      "height": null,
      "justify_content": null,
      "justify_items": null,
      "left": null,
      "margin": null,
      "max_height": null,
      "max_width": null,
      "min_height": null,
      "min_width": null,
      "object_fit": null,
      "object_position": null,
      "order": null,
      "overflow": null,
      "overflow_x": null,
      "overflow_y": null,
      "padding": null,
      "right": null,
      "top": null,
      "visibility": null,
      "width": null
     }
    },
    "06f7bff32930487389f4bcd11a046ba9": {
     "model_module": "@jupyter-widgets/controls",
     "model_module_version": "1.5.0",
     "model_name": "FloatProgressModel",
     "state": {
      "_dom_classes": [],
      "_model_module": "@jupyter-widgets/controls",
      "_model_module_version": "1.5.0",
      "_model_name": "FloatProgressModel",
      "_view_count": null,
      "_view_module": "@jupyter-widgets/controls",
      "_view_module_version": "1.5.0",
      "_view_name": "ProgressView",
      "bar_style": "success",
      "description": "",
      "description_tooltip": null,
      "layout": "IPY_MODEL_07d860f569894b60a8a57586b5ed22e5",
      "max": 435797,
      "min": 0,
      "orientation": "horizontal",
      "style": "IPY_MODEL_55de3f028970426a9904fc9123459878",
      "value": 435797
     }
    },
    "07d860f569894b60a8a57586b5ed22e5": {
     "model_module": "@jupyter-widgets/base",
     "model_module_version": "1.2.0",
     "model_name": "LayoutModel",
     "state": {
      "_model_module": "@jupyter-widgets/base",
      "_model_module_version": "1.2.0",
      "_model_name": "LayoutModel",
      "_view_count": null,
      "_view_module": "@jupyter-widgets/base",
      "_view_module_version": "1.2.0",
      "_view_name": "LayoutView",
      "align_content": null,
      "align_items": null,
      "align_self": null,
      "border": null,
      "bottom": null,
      "display": null,
      "flex": null,
      "flex_flow": null,
      "grid_area": null,
      "grid_auto_columns": null,
      "grid_auto_flow": null,
      "grid_auto_rows": null,
      "grid_column": null,
      "grid_gap": null,
      "grid_row": null,
      "grid_template_areas": null,
      "grid_template_columns": null,
      "grid_template_rows": null,
      "height": null,
      "justify_content": null,
      "justify_items": null,
      "left": null,
      "margin": null,
      "max_height": null,
      "max_width": null,
      "min_height": null,
      "min_width": null,
      "object_fit": null,
      "object_position": null,
      "order": null,
      "overflow": null,
      "overflow_x": null,
      "overflow_y": null,
      "padding": null,
      "right": null,
      "top": null,
      "visibility": null,
      "width": null
     }
    },
    "085cdd69c17e4436af7f950636b90c6e": {
     "model_module": "@jupyter-widgets/controls",
     "model_module_version": "1.5.0",
     "model_name": "DescriptionStyleModel",
     "state": {
      "_model_module": "@jupyter-widgets/controls",
      "_model_module_version": "1.5.0",
      "_model_name": "DescriptionStyleModel",
      "_view_count": null,
      "_view_module": "@jupyter-widgets/base",
      "_view_module_version": "1.2.0",
      "_view_name": "StyleView",
      "description_width": ""
     }
    },
    "0cbbf3d4487644b89158c60e70dbb607": {
     "model_module": "@jupyter-widgets/controls",
     "model_module_version": "1.5.0",
     "model_name": "FloatProgressModel",
     "state": {
      "_dom_classes": [],
      "_model_module": "@jupyter-widgets/controls",
      "_model_module_version": "1.5.0",
      "_model_name": "FloatProgressModel",
      "_view_count": null,
      "_view_module": "@jupyter-widgets/controls",
      "_view_module_version": "1.5.0",
      "_view_name": "ProgressView",
      "bar_style": "success",
      "description": "",
      "description_tooltip": null,
      "layout": "IPY_MODEL_133db211b5044e0e8b39b129adf709e3",
      "max": 29,
      "min": 0,
      "orientation": "horizontal",
      "style": "IPY_MODEL_865c669b97224cc2be141212d5de0af5",
      "value": 29
     }
    },
    "121058277c9a4920a7f9c87da8d9cf18": {
     "model_module": "@jupyter-widgets/controls",
     "model_module_version": "1.5.0",
     "model_name": "DescriptionStyleModel",
     "state": {
      "_model_module": "@jupyter-widgets/controls",
      "_model_module_version": "1.5.0",
      "_model_name": "DescriptionStyleModel",
      "_view_count": null,
      "_view_module": "@jupyter-widgets/base",
      "_view_module_version": "1.2.0",
      "_view_name": "StyleView",
      "description_width": ""
     }
    },
    "133db211b5044e0e8b39b129adf709e3": {
     "model_module": "@jupyter-widgets/base",
     "model_module_version": "1.2.0",
     "model_name": "LayoutModel",
     "state": {
      "_model_module": "@jupyter-widgets/base",
      "_model_module_version": "1.2.0",
      "_model_name": "LayoutModel",
      "_view_count": null,
      "_view_module": "@jupyter-widgets/base",
      "_view_module_version": "1.2.0",
      "_view_name": "LayoutView",
      "align_content": null,
      "align_items": null,
      "align_self": null,
      "border": null,
      "bottom": null,
      "display": null,
      "flex": null,
      "flex_flow": null,
      "grid_area": null,
      "grid_auto_columns": null,
      "grid_auto_flow": null,
      "grid_auto_rows": null,
      "grid_column": null,
      "grid_gap": null,
      "grid_row": null,
      "grid_template_areas": null,
      "grid_template_columns": null,
      "grid_template_rows": null,
      "height": null,
      "justify_content": null,
      "justify_items": null,
      "left": null,
      "margin": null,
      "max_height": null,
      "max_width": null,
      "min_height": null,
      "min_width": null,
      "object_fit": null,
      "object_position": null,
      "order": null,
      "overflow": null,
      "overflow_x": null,
      "overflow_y": null,
      "padding": null,
      "right": null,
      "top": null,
      "visibility": null,
      "width": null
     }
    },
    "18263e27139341a884f597dc6e3e175f": {
     "model_module": "@jupyter-widgets/controls",
     "model_module_version": "1.5.0",
     "model_name": "ProgressStyleModel",
     "state": {
      "_model_module": "@jupyter-widgets/controls",
      "_model_module_version": "1.5.0",
      "_model_name": "ProgressStyleModel",
      "_view_count": null,
      "_view_module": "@jupyter-widgets/base",
      "_view_module_version": "1.2.0",
      "_view_name": "StyleView",
      "bar_color": null,
      "description_width": ""
     }
    },
    "203bbb759bfc42fb8895a162e08d3226": {
     "model_module": "@jupyter-widgets/controls",
     "model_module_version": "1.5.0",
     "model_name": "HTMLModel",
     "state": {
      "_dom_classes": [],
      "_model_module": "@jupyter-widgets/controls",
      "_model_module_version": "1.5.0",
      "_model_name": "HTMLModel",
      "_view_count": null,
      "_view_module": "@jupyter-widgets/controls",
      "_view_module_version": "1.5.0",
      "_view_name": "HTMLView",
      "description": "",
      "description_tooltip": null,
      "layout": "IPY_MODEL_3d4f2c2b28864980b41c8720823fef6e",
      "placeholder": "​",
      "style": "IPY_MODEL_121058277c9a4920a7f9c87da8d9cf18",
      "value": " 570/570 [00:00&lt;00:00, 14.6kB/s]"
     }
    },
    "228b86f13326402ab8378ff0c8fbbff1": {
     "model_module": "@jupyter-widgets/controls",
     "model_module_version": "1.5.0",
     "model_name": "DescriptionStyleModel",
     "state": {
      "_model_module": "@jupyter-widgets/controls",
      "_model_module_version": "1.5.0",
      "_model_name": "DescriptionStyleModel",
      "_view_count": null,
      "_view_module": "@jupyter-widgets/base",
      "_view_module_version": "1.2.0",
      "_view_name": "StyleView",
      "description_width": ""
     }
    },
    "2674f4b837014c9083f38a737dd757aa": {
     "model_module": "@jupyter-widgets/base",
     "model_module_version": "1.2.0",
     "model_name": "LayoutModel",
     "state": {
      "_model_module": "@jupyter-widgets/base",
      "_model_module_version": "1.2.0",
      "_model_name": "LayoutModel",
      "_view_count": null,
      "_view_module": "@jupyter-widgets/base",
      "_view_module_version": "1.2.0",
      "_view_name": "LayoutView",
      "align_content": null,
      "align_items": null,
      "align_self": null,
      "border": null,
      "bottom": null,
      "display": null,
      "flex": null,
      "flex_flow": null,
      "grid_area": null,
      "grid_auto_columns": null,
      "grid_auto_flow": null,
      "grid_auto_rows": null,
      "grid_column": null,
      "grid_gap": null,
      "grid_row": null,
      "grid_template_areas": null,
      "grid_template_columns": null,
      "grid_template_rows": null,
      "height": null,
      "justify_content": null,
      "justify_items": null,
      "left": null,
      "margin": null,
      "max_height": null,
      "max_width": null,
      "min_height": null,
      "min_width": null,
      "object_fit": null,
      "object_position": null,
      "order": null,
      "overflow": null,
      "overflow_x": null,
      "overflow_y": null,
      "padding": null,
      "right": null,
      "top": null,
      "visibility": null,
      "width": null
     }
    },
    "283139806e8a4a9a9246bc7f6c5b3898": {
     "model_module": "@jupyter-widgets/controls",
     "model_module_version": "1.5.0",
     "model_name": "HBoxModel",
     "state": {
      "_dom_classes": [],
      "_model_module": "@jupyter-widgets/controls",
      "_model_module_version": "1.5.0",
      "_model_name": "HBoxModel",
      "_view_count": null,
      "_view_module": "@jupyter-widgets/controls",
      "_view_module_version": "1.5.0",
      "_view_name": "HBoxView",
      "box_style": "",
      "children": [
       "IPY_MODEL_5195c3fff00b4392a9858558f5367ac6",
       "IPY_MODEL_99e1bdc66761476e8ac577a44b9d6d5a",
       "IPY_MODEL_936e7ea6788547eb961fab7f0ac3fc9c"
      ],
      "layout": "IPY_MODEL_d850d2931d484a9c809dbc3ca011257d"
     }
    },
    "2a76d71ad3fa40cbaf398b49e0adefb9": {
     "model_module": "@jupyter-widgets/controls",
     "model_module_version": "1.5.0",
     "model_name": "DescriptionStyleModel",
     "state": {
      "_model_module": "@jupyter-widgets/controls",
      "_model_module_version": "1.5.0",
      "_model_name": "DescriptionStyleModel",
      "_view_count": null,
      "_view_module": "@jupyter-widgets/base",
      "_view_module_version": "1.2.0",
      "_view_name": "StyleView",
      "description_width": ""
     }
    },
    "2f10ffa3df1f44dd919c0baee3d30ac3": {
     "model_module": "@jupyter-widgets/base",
     "model_module_version": "1.2.0",
     "model_name": "LayoutModel",
     "state": {
      "_model_module": "@jupyter-widgets/base",
      "_model_module_version": "1.2.0",
      "_model_name": "LayoutModel",
      "_view_count": null,
      "_view_module": "@jupyter-widgets/base",
      "_view_module_version": "1.2.0",
      "_view_name": "LayoutView",
      "align_content": null,
      "align_items": null,
      "align_self": null,
      "border": null,
      "bottom": null,
      "display": null,
      "flex": null,
      "flex_flow": null,
      "grid_area": null,
      "grid_auto_columns": null,
      "grid_auto_flow": null,
      "grid_auto_rows": null,
      "grid_column": null,
      "grid_gap": null,
      "grid_row": null,
      "grid_template_areas": null,
      "grid_template_columns": null,
      "grid_template_rows": null,
      "height": null,
      "justify_content": null,
      "justify_items": null,
      "left": null,
      "margin": null,
      "max_height": null,
      "max_width": null,
      "min_height": null,
      "min_width": null,
      "object_fit": null,
      "object_position": null,
      "order": null,
      "overflow": null,
      "overflow_x": null,
      "overflow_y": null,
      "padding": null,
      "right": null,
      "top": null,
      "visibility": null,
      "width": null
     }
    },
    "315ee8c0093846a091788364c7688c13": {
     "model_module": "@jupyter-widgets/base",
     "model_module_version": "1.2.0",
     "model_name": "LayoutModel",
     "state": {
      "_model_module": "@jupyter-widgets/base",
      "_model_module_version": "1.2.0",
      "_model_name": "LayoutModel",
      "_view_count": null,
      "_view_module": "@jupyter-widgets/base",
      "_view_module_version": "1.2.0",
      "_view_name": "LayoutView",
      "align_content": null,
      "align_items": null,
      "align_self": null,
      "border": null,
      "bottom": null,
      "display": null,
      "flex": null,
      "flex_flow": null,
      "grid_area": null,
      "grid_auto_columns": null,
      "grid_auto_flow": null,
      "grid_auto_rows": null,
      "grid_column": null,
      "grid_gap": null,
      "grid_row": null,
      "grid_template_areas": null,
      "grid_template_columns": null,
      "grid_template_rows": null,
      "height": null,
      "justify_content": null,
      "justify_items": null,
      "left": null,
      "margin": null,
      "max_height": null,
      "max_width": null,
      "min_height": null,
      "min_width": null,
      "object_fit": null,
      "object_position": null,
      "order": null,
      "overflow": null,
      "overflow_x": null,
      "overflow_y": null,
      "padding": null,
      "right": null,
      "top": null,
      "visibility": null,
      "width": null
     }
    },
    "31a79d60573546178856a921e0f5c190": {
     "model_module": "@jupyter-widgets/controls",
     "model_module_version": "1.5.0",
     "model_name": "HTMLModel",
     "state": {
      "_dom_classes": [],
      "_model_module": "@jupyter-widgets/controls",
      "_model_module_version": "1.5.0",
      "_model_name": "HTMLModel",
      "_view_count": null,
      "_view_module": "@jupyter-widgets/controls",
      "_view_module_version": "1.5.0",
      "_view_name": "HTMLView",
      "description": "",
      "description_tooltip": null,
      "layout": "IPY_MODEL_315ee8c0093846a091788364c7688c13",
      "placeholder": "​",
      "style": "IPY_MODEL_2a76d71ad3fa40cbaf398b49e0adefb9",
      "value": " 426k/426k [00:00&lt;00:00, 368kB/s]"
     }
    },
    "340192f505574f72b7496f865608ffe3": {
     "model_module": "@jupyter-widgets/base",
     "model_module_version": "1.2.0",
     "model_name": "LayoutModel",
     "state": {
      "_model_module": "@jupyter-widgets/base",
      "_model_module_version": "1.2.0",
      "_model_name": "LayoutModel",
      "_view_count": null,
      "_view_module": "@jupyter-widgets/base",
      "_view_module_version": "1.2.0",
      "_view_name": "LayoutView",
      "align_content": null,
      "align_items": null,
      "align_self": null,
      "border": null,
      "bottom": null,
      "display": null,
      "flex": null,
      "flex_flow": null,
      "grid_area": null,
      "grid_auto_columns": null,
      "grid_auto_flow": null,
      "grid_auto_rows": null,
      "grid_column": null,
      "grid_gap": null,
      "grid_row": null,
      "grid_template_areas": null,
      "grid_template_columns": null,
      "grid_template_rows": null,
      "height": null,
      "justify_content": null,
      "justify_items": null,
      "left": null,
      "margin": null,
      "max_height": null,
      "max_width": null,
      "min_height": null,
      "min_width": null,
      "object_fit": null,
      "object_position": null,
      "order": null,
      "overflow": null,
      "overflow_x": null,
      "overflow_y": null,
      "padding": null,
      "right": null,
      "top": null,
      "visibility": null,
      "width": null
     }
    },
    "3c8fcb504c8349f793e935ec4164ca1a": {
     "model_module": "@jupyter-widgets/controls",
     "model_module_version": "1.5.0",
     "model_name": "DescriptionStyleModel",
     "state": {
      "_model_module": "@jupyter-widgets/controls",
      "_model_module_version": "1.5.0",
      "_model_name": "DescriptionStyleModel",
      "_view_count": null,
      "_view_module": "@jupyter-widgets/base",
      "_view_module_version": "1.2.0",
      "_view_name": "StyleView",
      "description_width": ""
     }
    },
    "3d4f2c2b28864980b41c8720823fef6e": {
     "model_module": "@jupyter-widgets/base",
     "model_module_version": "1.2.0",
     "model_name": "LayoutModel",
     "state": {
      "_model_module": "@jupyter-widgets/base",
      "_model_module_version": "1.2.0",
      "_model_name": "LayoutModel",
      "_view_count": null,
      "_view_module": "@jupyter-widgets/base",
      "_view_module_version": "1.2.0",
      "_view_name": "LayoutView",
      "align_content": null,
      "align_items": null,
      "align_self": null,
      "border": null,
      "bottom": null,
      "display": null,
      "flex": null,
      "flex_flow": null,
      "grid_area": null,
      "grid_auto_columns": null,
      "grid_auto_flow": null,
      "grid_auto_rows": null,
      "grid_column": null,
      "grid_gap": null,
      "grid_row": null,
      "grid_template_areas": null,
      "grid_template_columns": null,
      "grid_template_rows": null,
      "height": null,
      "justify_content": null,
      "justify_items": null,
      "left": null,
      "margin": null,
      "max_height": null,
      "max_width": null,
      "min_height": null,
      "min_width": null,
      "object_fit": null,
      "object_position": null,
      "order": null,
      "overflow": null,
      "overflow_x": null,
      "overflow_y": null,
      "padding": null,
      "right": null,
      "top": null,
      "visibility": null,
      "width": null
     }
    },
    "46eb3c39e9bf4951b9fb668f310be103": {
     "model_module": "@jupyter-widgets/controls",
     "model_module_version": "1.5.0",
     "model_name": "ProgressStyleModel",
     "state": {
      "_model_module": "@jupyter-widgets/controls",
      "_model_module_version": "1.5.0",
      "_model_name": "ProgressStyleModel",
      "_view_count": null,
      "_view_module": "@jupyter-widgets/base",
      "_view_module_version": "1.2.0",
      "_view_name": "StyleView",
      "bar_color": null,
      "description_width": ""
     }
    },
    "48e43c1295b2416c8a46e50c57057f40": {
     "model_module": "@jupyter-widgets/controls",
     "model_module_version": "1.5.0",
     "model_name": "HTMLModel",
     "state": {
      "_dom_classes": [],
      "_model_module": "@jupyter-widgets/controls",
      "_model_module_version": "1.5.0",
      "_model_name": "HTMLModel",
      "_view_count": null,
      "_view_module": "@jupyter-widgets/controls",
      "_view_module_version": "1.5.0",
      "_view_name": "HTMLView",
      "description": "",
      "description_tooltip": null,
      "layout": "IPY_MODEL_bcd18d241cc14d6e8f912d07bdb2b351",
      "placeholder": "​",
      "style": "IPY_MODEL_6ef2499da99743f5bfd432942be8236c",
      "value": "Downloading: 100%"
     }
    },
    "5195c3fff00b4392a9858558f5367ac6": {
     "model_module": "@jupyter-widgets/controls",
     "model_module_version": "1.5.0",
     "model_name": "HTMLModel",
     "state": {
      "_dom_classes": [],
      "_model_module": "@jupyter-widgets/controls",
      "_model_module_version": "1.5.0",
      "_model_name": "HTMLModel",
      "_view_count": null,
      "_view_module": "@jupyter-widgets/controls",
      "_view_module_version": "1.5.0",
      "_view_name": "HTMLView",
      "description": "",
      "description_tooltip": null,
      "layout": "IPY_MODEL_340192f505574f72b7496f865608ffe3",
      "placeholder": "​",
      "style": "IPY_MODEL_98620c0254194f9cad64e2d4ffafcf72",
      "value": "Downloading: 100%"
     }
    },
    "530cb8fbb3f54dd4a4c37f3160802f43": {
     "model_module": "@jupyter-widgets/base",
     "model_module_version": "1.2.0",
     "model_name": "LayoutModel",
     "state": {
      "_model_module": "@jupyter-widgets/base",
      "_model_module_version": "1.2.0",
      "_model_name": "LayoutModel",
      "_view_count": null,
      "_view_module": "@jupyter-widgets/base",
      "_view_module_version": "1.2.0",
      "_view_name": "LayoutView",
      "align_content": null,
      "align_items": null,
      "align_self": null,
      "border": null,
      "bottom": null,
      "display": null,
      "flex": null,
      "flex_flow": null,
      "grid_area": null,
      "grid_auto_columns": null,
      "grid_auto_flow": null,
      "grid_auto_rows": null,
      "grid_column": null,
      "grid_gap": null,
      "grid_row": null,
      "grid_template_areas": null,
      "grid_template_columns": null,
      "grid_template_rows": null,
      "height": null,
      "justify_content": null,
      "justify_items": null,
      "left": null,
      "margin": null,
      "max_height": null,
      "max_width": null,
      "min_height": null,
      "min_width": null,
      "object_fit": null,
      "object_position": null,
      "order": null,
      "overflow": null,
      "overflow_x": null,
      "overflow_y": null,
      "padding": null,
      "right": null,
      "top": null,
      "visibility": null,
      "width": null
     }
    },
    "55de3f028970426a9904fc9123459878": {
     "model_module": "@jupyter-widgets/controls",
     "model_module_version": "1.5.0",
     "model_name": "ProgressStyleModel",
     "state": {
      "_model_module": "@jupyter-widgets/controls",
      "_model_module_version": "1.5.0",
      "_model_name": "ProgressStyleModel",
      "_view_count": null,
      "_view_module": "@jupyter-widgets/base",
      "_view_module_version": "1.2.0",
      "_view_name": "StyleView",
      "bar_color": null,
      "description_width": ""
     }
    },
    "5c84a1017fc14329b2b09c69b719d1ab": {
     "model_module": "@jupyter-widgets/base",
     "model_module_version": "1.2.0",
     "model_name": "LayoutModel",
     "state": {
      "_model_module": "@jupyter-widgets/base",
      "_model_module_version": "1.2.0",
      "_model_name": "LayoutModel",
      "_view_count": null,
      "_view_module": "@jupyter-widgets/base",
      "_view_module_version": "1.2.0",
      "_view_name": "LayoutView",
      "align_content": null,
      "align_items": null,
      "align_self": null,
      "border": null,
      "bottom": null,
      "display": null,
      "flex": null,
      "flex_flow": null,
      "grid_area": null,
      "grid_auto_columns": null,
      "grid_auto_flow": null,
      "grid_auto_rows": null,
      "grid_column": null,
      "grid_gap": null,
      "grid_row": null,
      "grid_template_areas": null,
      "grid_template_columns": null,
      "grid_template_rows": null,
      "height": null,
      "justify_content": null,
      "justify_items": null,
      "left": null,
      "margin": null,
      "max_height": null,
      "max_width": null,
      "min_height": null,
      "min_width": null,
      "object_fit": null,
      "object_position": null,
      "order": null,
      "overflow": null,
      "overflow_x": null,
      "overflow_y": null,
      "padding": null,
      "right": null,
      "top": null,
      "visibility": null,
      "width": null
     }
    },
    "64f780fa37514b4fa75910a78554cb68": {
     "model_module": "@jupyter-widgets/base",
     "model_module_version": "1.2.0",
     "model_name": "LayoutModel",
     "state": {
      "_model_module": "@jupyter-widgets/base",
      "_model_module_version": "1.2.0",
      "_model_name": "LayoutModel",
      "_view_count": null,
      "_view_module": "@jupyter-widgets/base",
      "_view_module_version": "1.2.0",
      "_view_name": "LayoutView",
      "align_content": null,
      "align_items": null,
      "align_self": null,
      "border": null,
      "bottom": null,
      "display": null,
      "flex": null,
      "flex_flow": null,
      "grid_area": null,
      "grid_auto_columns": null,
      "grid_auto_flow": null,
      "grid_auto_rows": null,
      "grid_column": null,
      "grid_gap": null,
      "grid_row": null,
      "grid_template_areas": null,
      "grid_template_columns": null,
      "grid_template_rows": null,
      "height": null,
      "justify_content": null,
      "justify_items": null,
      "left": null,
      "margin": null,
      "max_height": null,
      "max_width": null,
      "min_height": null,
      "min_width": null,
      "object_fit": null,
      "object_position": null,
      "order": null,
      "overflow": null,
      "overflow_x": null,
      "overflow_y": null,
      "padding": null,
      "right": null,
      "top": null,
      "visibility": null,
      "width": null
     }
    },
    "6755a7bfcf034309a02ab1fca75ede77": {
     "model_module": "@jupyter-widgets/base",
     "model_module_version": "1.2.0",
     "model_name": "LayoutModel",
     "state": {
      "_model_module": "@jupyter-widgets/base",
      "_model_module_version": "1.2.0",
      "_model_name": "LayoutModel",
      "_view_count": null,
      "_view_module": "@jupyter-widgets/base",
      "_view_module_version": "1.2.0",
      "_view_name": "LayoutView",
      "align_content": null,
      "align_items": null,
      "align_self": null,
      "border": null,
      "bottom": null,
      "display": null,
      "flex": null,
      "flex_flow": null,
      "grid_area": null,
      "grid_auto_columns": null,
      "grid_auto_flow": null,
      "grid_auto_rows": null,
      "grid_column": null,
      "grid_gap": null,
      "grid_row": null,
      "grid_template_areas": null,
      "grid_template_columns": null,
      "grid_template_rows": null,
      "height": null,
      "justify_content": null,
      "justify_items": null,
      "left": null,
      "margin": null,
      "max_height": null,
      "max_width": null,
      "min_height": null,
      "min_width": null,
      "object_fit": null,
      "object_position": null,
      "order": null,
      "overflow": null,
      "overflow_x": null,
      "overflow_y": null,
      "padding": null,
      "right": null,
      "top": null,
      "visibility": null,
      "width": null
     }
    },
    "69f9f6a970f14a8897cdd5c02b74cf4a": {
     "model_module": "@jupyter-widgets/controls",
     "model_module_version": "1.5.0",
     "model_name": "HTMLModel",
     "state": {
      "_dom_classes": [],
      "_model_module": "@jupyter-widgets/controls",
      "_model_module_version": "1.5.0",
      "_model_name": "HTMLModel",
      "_view_count": null,
      "_view_module": "@jupyter-widgets/controls",
      "_view_module_version": "1.5.0",
      "_view_name": "HTMLView",
      "description": "",
      "description_tooltip": null,
      "layout": "IPY_MODEL_ee0878d1399e45b68ca43c9c9cd81d9a",
      "placeholder": "​",
      "style": "IPY_MODEL_e53b976695aa41af944e3f2f8596d1b0",
      "value": " 208k/208k [00:00&lt;00:00, 327kB/s]"
     }
    },
    "6ef2499da99743f5bfd432942be8236c": {
     "model_module": "@jupyter-widgets/controls",
     "model_module_version": "1.5.0",
     "model_name": "DescriptionStyleModel",
     "state": {
      "_model_module": "@jupyter-widgets/controls",
      "_model_module_version": "1.5.0",
      "_model_name": "DescriptionStyleModel",
      "_view_count": null,
      "_view_module": "@jupyter-widgets/base",
      "_view_module_version": "1.2.0",
      "_view_name": "StyleView",
      "description_width": ""
     }
    },
    "6f8284261f834b719a0fd599bb03c8b2": {
     "model_module": "@jupyter-widgets/controls",
     "model_module_version": "1.5.0",
     "model_name": "HTMLModel",
     "state": {
      "_dom_classes": [],
      "_model_module": "@jupyter-widgets/controls",
      "_model_module_version": "1.5.0",
      "_model_name": "HTMLModel",
      "_view_count": null,
      "_view_module": "@jupyter-widgets/controls",
      "_view_module_version": "1.5.0",
      "_view_name": "HTMLView",
      "description": "",
      "description_tooltip": null,
      "layout": "IPY_MODEL_e84104b0dafc43ebb14817cd20708d56",
      "placeholder": "​",
      "style": "IPY_MODEL_085cdd69c17e4436af7f950636b90c6e",
      "value": "Downloading: 100%"
     }
    },
    "73faa65f3d7f4dd5b726cf98298602e7": {
     "model_module": "@jupyter-widgets/base",
     "model_module_version": "1.2.0",
     "model_name": "LayoutModel",
     "state": {
      "_model_module": "@jupyter-widgets/base",
      "_model_module_version": "1.2.0",
      "_model_name": "LayoutModel",
      "_view_count": null,
      "_view_module": "@jupyter-widgets/base",
      "_view_module_version": "1.2.0",
      "_view_name": "LayoutView",
      "align_content": null,
      "align_items": null,
      "align_self": null,
      "border": null,
      "bottom": null,
      "display": null,
      "flex": null,
      "flex_flow": null,
      "grid_area": null,
      "grid_auto_columns": null,
      "grid_auto_flow": null,
      "grid_auto_rows": null,
      "grid_column": null,
      "grid_gap": null,
      "grid_row": null,
      "grid_template_areas": null,
      "grid_template_columns": null,
      "grid_template_rows": null,
      "height": null,
      "justify_content": null,
      "justify_items": null,
      "left": null,
      "margin": null,
      "max_height": null,
      "max_width": null,
      "min_height": null,
      "min_width": null,
      "object_fit": null,
      "object_position": null,
      "order": null,
      "overflow": null,
      "overflow_x": null,
      "overflow_y": null,
      "padding": null,
      "right": null,
      "top": null,
      "visibility": null,
      "width": null
     }
    },
    "7d515148f8814097acdf61376e700410": {
     "model_module": "@jupyter-widgets/base",
     "model_module_version": "1.2.0",
     "model_name": "LayoutModel",
     "state": {
      "_model_module": "@jupyter-widgets/base",
      "_model_module_version": "1.2.0",
      "_model_name": "LayoutModel",
      "_view_count": null,
      "_view_module": "@jupyter-widgets/base",
      "_view_module_version": "1.2.0",
      "_view_name": "LayoutView",
      "align_content": null,
      "align_items": null,
      "align_self": null,
      "border": null,
      "bottom": null,
      "display": null,
      "flex": null,
      "flex_flow": null,
      "grid_area": null,
      "grid_auto_columns": null,
      "grid_auto_flow": null,
      "grid_auto_rows": null,
      "grid_column": null,
      "grid_gap": null,
      "grid_row": null,
      "grid_template_areas": null,
      "grid_template_columns": null,
      "grid_template_rows": null,
      "height": null,
      "justify_content": null,
      "justify_items": null,
      "left": null,
      "margin": null,
      "max_height": null,
      "max_width": null,
      "min_height": null,
      "min_width": null,
      "object_fit": null,
      "object_position": null,
      "order": null,
      "overflow": null,
      "overflow_x": null,
      "overflow_y": null,
      "padding": null,
      "right": null,
      "top": null,
      "visibility": null,
      "width": null
     }
    },
    "865c669b97224cc2be141212d5de0af5": {
     "model_module": "@jupyter-widgets/controls",
     "model_module_version": "1.5.0",
     "model_name": "ProgressStyleModel",
     "state": {
      "_model_module": "@jupyter-widgets/controls",
      "_model_module_version": "1.5.0",
      "_model_name": "ProgressStyleModel",
      "_view_count": null,
      "_view_module": "@jupyter-widgets/base",
      "_view_module_version": "1.2.0",
      "_view_name": "StyleView",
      "bar_color": null,
      "description_width": ""
     }
    },
    "8a4c66093db14c25b8aa2b9d15760dd4": {
     "model_module": "@jupyter-widgets/controls",
     "model_module_version": "1.5.0",
     "model_name": "HBoxModel",
     "state": {
      "_dom_classes": [],
      "_model_module": "@jupyter-widgets/controls",
      "_model_module_version": "1.5.0",
      "_model_name": "HBoxModel",
      "_view_count": null,
      "_view_module": "@jupyter-widgets/controls",
      "_view_module_version": "1.5.0",
      "_view_name": "HBoxView",
      "box_style": "",
      "children": [
       "IPY_MODEL_8b4ac1dcba5749169a74d7c704c458ae",
       "IPY_MODEL_0cbbf3d4487644b89158c60e70dbb607",
       "IPY_MODEL_aeac7285f899476884e5ec6dc9a8c521"
      ],
      "layout": "IPY_MODEL_5c84a1017fc14329b2b09c69b719d1ab"
     }
    },
    "8b4ac1dcba5749169a74d7c704c458ae": {
     "model_module": "@jupyter-widgets/controls",
     "model_module_version": "1.5.0",
     "model_name": "HTMLModel",
     "state": {
      "_dom_classes": [],
      "_model_module": "@jupyter-widgets/controls",
      "_model_module_version": "1.5.0",
      "_model_name": "HTMLModel",
      "_view_count": null,
      "_view_module": "@jupyter-widgets/controls",
      "_view_module_version": "1.5.0",
      "_view_name": "HTMLView",
      "description": "",
      "description_tooltip": null,
      "layout": "IPY_MODEL_64f780fa37514b4fa75910a78554cb68",
      "placeholder": "​",
      "style": "IPY_MODEL_efa4acc3b227476a99a79a0d1d6c024f",
      "value": "Downloading: 100%"
     }
    },
    "936e7ea6788547eb961fab7f0ac3fc9c": {
     "model_module": "@jupyter-widgets/controls",
     "model_module_version": "1.5.0",
     "model_name": "HTMLModel",
     "state": {
      "_dom_classes": [],
      "_model_module": "@jupyter-widgets/controls",
      "_model_module_version": "1.5.0",
      "_model_name": "HTMLModel",
      "_view_count": null,
      "_view_module": "@jupyter-widgets/controls",
      "_view_module_version": "1.5.0",
      "_view_name": "HTMLView",
      "description": "",
      "description_tooltip": null,
      "layout": "IPY_MODEL_73faa65f3d7f4dd5b726cf98298602e7",
      "placeholder": "​",
      "style": "IPY_MODEL_228b86f13326402ab8378ff0c8fbbff1",
      "value": " 416M/416M [00:14&lt;00:00, 30.3MB/s]"
     }
    },
    "95204170f8f74eec91ae42ef1b9b3c15": {
     "model_module": "@jupyter-widgets/controls",
     "model_module_version": "1.5.0",
     "model_name": "ProgressStyleModel",
     "state": {
      "_model_module": "@jupyter-widgets/controls",
      "_model_module_version": "1.5.0",
      "_model_name": "ProgressStyleModel",
      "_view_count": null,
      "_view_module": "@jupyter-widgets/base",
      "_view_module_version": "1.2.0",
      "_view_name": "StyleView",
      "bar_color": null,
      "description_width": ""
     }
    },
    "98620c0254194f9cad64e2d4ffafcf72": {
     "model_module": "@jupyter-widgets/controls",
     "model_module_version": "1.5.0",
     "model_name": "DescriptionStyleModel",
     "state": {
      "_model_module": "@jupyter-widgets/controls",
      "_model_module_version": "1.5.0",
      "_model_name": "DescriptionStyleModel",
      "_view_count": null,
      "_view_module": "@jupyter-widgets/base",
      "_view_module_version": "1.2.0",
      "_view_name": "StyleView",
      "description_width": ""
     }
    },
    "99e1bdc66761476e8ac577a44b9d6d5a": {
     "model_module": "@jupyter-widgets/controls",
     "model_module_version": "1.5.0",
     "model_name": "FloatProgressModel",
     "state": {
      "_dom_classes": [],
      "_model_module": "@jupyter-widgets/controls",
      "_model_module_version": "1.5.0",
      "_model_name": "FloatProgressModel",
      "_view_count": null,
      "_view_module": "@jupyter-widgets/controls",
      "_view_module_version": "1.5.0",
      "_view_name": "ProgressView",
      "bar_style": "success",
      "description": "",
      "description_tooltip": null,
      "layout": "IPY_MODEL_6755a7bfcf034309a02ab1fca75ede77",
      "max": 435779157,
      "min": 0,
      "orientation": "horizontal",
      "style": "IPY_MODEL_18263e27139341a884f597dc6e3e175f",
      "value": 435779157
     }
    },
    "a413ea9ae9954bfd828f9baa0b704ccd": {
     "model_module": "@jupyter-widgets/controls",
     "model_module_version": "1.5.0",
     "model_name": "DescriptionStyleModel",
     "state": {
      "_model_module": "@jupyter-widgets/controls",
      "_model_module_version": "1.5.0",
      "_model_name": "DescriptionStyleModel",
      "_view_count": null,
      "_view_module": "@jupyter-widgets/base",
      "_view_module_version": "1.2.0",
      "_view_name": "StyleView",
      "description_width": ""
     }
    },
    "aeac7285f899476884e5ec6dc9a8c521": {
     "model_module": "@jupyter-widgets/controls",
     "model_module_version": "1.5.0",
     "model_name": "HTMLModel",
     "state": {
      "_dom_classes": [],
      "_model_module": "@jupyter-widgets/controls",
      "_model_module_version": "1.5.0",
      "_model_name": "HTMLModel",
      "_view_count": null,
      "_view_module": "@jupyter-widgets/controls",
      "_view_module_version": "1.5.0",
      "_view_name": "HTMLView",
      "description": "",
      "description_tooltip": null,
      "layout": "IPY_MODEL_bacd9a4d7c624d5eaea8fdcc59c03ebe",
      "placeholder": "​",
      "style": "IPY_MODEL_a413ea9ae9954bfd828f9baa0b704ccd",
      "value": " 29.0/29.0 [00:00&lt;00:00, 726B/s]"
     }
    },
    "bacd9a4d7c624d5eaea8fdcc59c03ebe": {
     "model_module": "@jupyter-widgets/base",
     "model_module_version": "1.2.0",
     "model_name": "LayoutModel",
     "state": {
      "_model_module": "@jupyter-widgets/base",
      "_model_module_version": "1.2.0",
      "_model_name": "LayoutModel",
      "_view_count": null,
      "_view_module": "@jupyter-widgets/base",
      "_view_module_version": "1.2.0",
      "_view_name": "LayoutView",
      "align_content": null,
      "align_items": null,
      "align_self": null,
      "border": null,
      "bottom": null,
      "display": null,
      "flex": null,
      "flex_flow": null,
      "grid_area": null,
      "grid_auto_columns": null,
      "grid_auto_flow": null,
      "grid_auto_rows": null,
      "grid_column": null,
      "grid_gap": null,
      "grid_row": null,
      "grid_template_areas": null,
      "grid_template_columns": null,
      "grid_template_rows": null,
      "height": null,
      "justify_content": null,
      "justify_items": null,
      "left": null,
      "margin": null,
      "max_height": null,
      "max_width": null,
      "min_height": null,
      "min_width": null,
      "object_fit": null,
      "object_position": null,
      "order": null,
      "overflow": null,
      "overflow_x": null,
      "overflow_y": null,
      "padding": null,
      "right": null,
      "top": null,
      "visibility": null,
      "width": null
     }
    },
    "bcd18d241cc14d6e8f912d07bdb2b351": {
     "model_module": "@jupyter-widgets/base",
     "model_module_version": "1.2.0",
     "model_name": "LayoutModel",
     "state": {
      "_model_module": "@jupyter-widgets/base",
      "_model_module_version": "1.2.0",
      "_model_name": "LayoutModel",
      "_view_count": null,
      "_view_module": "@jupyter-widgets/base",
      "_view_module_version": "1.2.0",
      "_view_name": "LayoutView",
      "align_content": null,
      "align_items": null,
      "align_self": null,
      "border": null,
      "bottom": null,
      "display": null,
      "flex": null,
      "flex_flow": null,
      "grid_area": null,
      "grid_auto_columns": null,
      "grid_auto_flow": null,
      "grid_auto_rows": null,
      "grid_column": null,
      "grid_gap": null,
      "grid_row": null,
      "grid_template_areas": null,
      "grid_template_columns": null,
      "grid_template_rows": null,
      "height": null,
      "justify_content": null,
      "justify_items": null,
      "left": null,
      "margin": null,
      "max_height": null,
      "max_width": null,
      "min_height": null,
      "min_width": null,
      "object_fit": null,
      "object_position": null,
      "order": null,
      "overflow": null,
      "overflow_x": null,
      "overflow_y": null,
      "padding": null,
      "right": null,
      "top": null,
      "visibility": null,
      "width": null
     }
    },
    "c4b211e0c60443f3889149135db6bfeb": {
     "model_module": "@jupyter-widgets/controls",
     "model_module_version": "1.5.0",
     "model_name": "FloatProgressModel",
     "state": {
      "_dom_classes": [],
      "_model_module": "@jupyter-widgets/controls",
      "_model_module_version": "1.5.0",
      "_model_name": "FloatProgressModel",
      "_view_count": null,
      "_view_module": "@jupyter-widgets/controls",
      "_view_module_version": "1.5.0",
      "_view_name": "ProgressView",
      "bar_style": "success",
      "description": "",
      "description_tooltip": null,
      "layout": "IPY_MODEL_055e6760af2a4cc99a5ab6c89d09a631",
      "max": 570,
      "min": 0,
      "orientation": "horizontal",
      "style": "IPY_MODEL_46eb3c39e9bf4951b9fb668f310be103",
      "value": 570
     }
    },
    "ca8c2d4b884b4ac794576be0c009f68e": {
     "model_module": "@jupyter-widgets/controls",
     "model_module_version": "1.5.0",
     "model_name": "HBoxModel",
     "state": {
      "_dom_classes": [],
      "_model_module": "@jupyter-widgets/controls",
      "_model_module_version": "1.5.0",
      "_model_name": "HBoxModel",
      "_view_count": null,
      "_view_module": "@jupyter-widgets/controls",
      "_view_module_version": "1.5.0",
      "_view_name": "HBoxView",
      "box_style": "",
      "children": [
       "IPY_MODEL_6f8284261f834b719a0fd599bb03c8b2",
       "IPY_MODEL_dc921144d4f44c499eb91e1c8ab92bdb",
       "IPY_MODEL_69f9f6a970f14a8897cdd5c02b74cf4a"
      ],
      "layout": "IPY_MODEL_7d515148f8814097acdf61376e700410"
     }
    },
    "cc0aaf21f85b4cf1942fdb0e1f62b902": {
     "model_module": "@jupyter-widgets/base",
     "model_module_version": "1.2.0",
     "model_name": "LayoutModel",
     "state": {
      "_model_module": "@jupyter-widgets/base",
      "_model_module_version": "1.2.0",
      "_model_name": "LayoutModel",
      "_view_count": null,
      "_view_module": "@jupyter-widgets/base",
      "_view_module_version": "1.2.0",
      "_view_name": "LayoutView",
      "align_content": null,
      "align_items": null,
      "align_self": null,
      "border": null,
      "bottom": null,
      "display": null,
      "flex": null,
      "flex_flow": null,
      "grid_area": null,
      "grid_auto_columns": null,
      "grid_auto_flow": null,
      "grid_auto_rows": null,
      "grid_column": null,
      "grid_gap": null,
      "grid_row": null,
      "grid_template_areas": null,
      "grid_template_columns": null,
      "grid_template_rows": null,
      "height": null,
      "justify_content": null,
      "justify_items": null,
      "left": null,
      "margin": null,
      "max_height": null,
      "max_width": null,
      "min_height": null,
      "min_width": null,
      "object_fit": null,
      "object_position": null,
      "order": null,
      "overflow": null,
      "overflow_x": null,
      "overflow_y": null,
      "padding": null,
      "right": null,
      "top": null,
      "visibility": null,
      "width": null
     }
    },
    "d850d2931d484a9c809dbc3ca011257d": {
     "model_module": "@jupyter-widgets/base",
     "model_module_version": "1.2.0",
     "model_name": "LayoutModel",
     "state": {
      "_model_module": "@jupyter-widgets/base",
      "_model_module_version": "1.2.0",
      "_model_name": "LayoutModel",
      "_view_count": null,
      "_view_module": "@jupyter-widgets/base",
      "_view_module_version": "1.2.0",
      "_view_name": "LayoutView",
      "align_content": null,
      "align_items": null,
      "align_self": null,
      "border": null,
      "bottom": null,
      "display": null,
      "flex": null,
      "flex_flow": null,
      "grid_area": null,
      "grid_auto_columns": null,
      "grid_auto_flow": null,
      "grid_auto_rows": null,
      "grid_column": null,
      "grid_gap": null,
      "grid_row": null,
      "grid_template_areas": null,
      "grid_template_columns": null,
      "grid_template_rows": null,
      "height": null,
      "justify_content": null,
      "justify_items": null,
      "left": null,
      "margin": null,
      "max_height": null,
      "max_width": null,
      "min_height": null,
      "min_width": null,
      "object_fit": null,
      "object_position": null,
      "order": null,
      "overflow": null,
      "overflow_x": null,
      "overflow_y": null,
      "padding": null,
      "right": null,
      "top": null,
      "visibility": null,
      "width": null
     }
    },
    "dc921144d4f44c499eb91e1c8ab92bdb": {
     "model_module": "@jupyter-widgets/controls",
     "model_module_version": "1.5.0",
     "model_name": "FloatProgressModel",
     "state": {
      "_dom_classes": [],
      "_model_module": "@jupyter-widgets/controls",
      "_model_module_version": "1.5.0",
      "_model_name": "FloatProgressModel",
      "_view_count": null,
      "_view_module": "@jupyter-widgets/controls",
      "_view_module_version": "1.5.0",
      "_view_name": "ProgressView",
      "bar_style": "success",
      "description": "",
      "description_tooltip": null,
      "layout": "IPY_MODEL_2f10ffa3df1f44dd919c0baee3d30ac3",
      "max": 213450,
      "min": 0,
      "orientation": "horizontal",
      "style": "IPY_MODEL_95204170f8f74eec91ae42ef1b9b3c15",
      "value": 213450
     }
    },
    "e53b976695aa41af944e3f2f8596d1b0": {
     "model_module": "@jupyter-widgets/controls",
     "model_module_version": "1.5.0",
     "model_name": "DescriptionStyleModel",
     "state": {
      "_model_module": "@jupyter-widgets/controls",
      "_model_module_version": "1.5.0",
      "_model_name": "DescriptionStyleModel",
      "_view_count": null,
      "_view_module": "@jupyter-widgets/base",
      "_view_module_version": "1.2.0",
      "_view_name": "StyleView",
      "description_width": ""
     }
    },
    "e635e63ca713478a961c98edc3e1ca7a": {
     "model_module": "@jupyter-widgets/controls",
     "model_module_version": "1.5.0",
     "model_name": "HBoxModel",
     "state": {
      "_dom_classes": [],
      "_model_module": "@jupyter-widgets/controls",
      "_model_module_version": "1.5.0",
      "_model_name": "HBoxModel",
      "_view_count": null,
      "_view_module": "@jupyter-widgets/controls",
      "_view_module_version": "1.5.0",
      "_view_name": "HBoxView",
      "box_style": "",
      "children": [
       "IPY_MODEL_48e43c1295b2416c8a46e50c57057f40",
       "IPY_MODEL_06f7bff32930487389f4bcd11a046ba9",
       "IPY_MODEL_31a79d60573546178856a921e0f5c190"
      ],
      "layout": "IPY_MODEL_cc0aaf21f85b4cf1942fdb0e1f62b902"
     }
    },
    "e84104b0dafc43ebb14817cd20708d56": {
     "model_module": "@jupyter-widgets/base",
     "model_module_version": "1.2.0",
     "model_name": "LayoutModel",
     "state": {
      "_model_module": "@jupyter-widgets/base",
      "_model_module_version": "1.2.0",
      "_model_name": "LayoutModel",
      "_view_count": null,
      "_view_module": "@jupyter-widgets/base",
      "_view_module_version": "1.2.0",
      "_view_name": "LayoutView",
      "align_content": null,
      "align_items": null,
      "align_self": null,
      "border": null,
      "bottom": null,
      "display": null,
      "flex": null,
      "flex_flow": null,
      "grid_area": null,
      "grid_auto_columns": null,
      "grid_auto_flow": null,
      "grid_auto_rows": null,
      "grid_column": null,
      "grid_gap": null,
      "grid_row": null,
      "grid_template_areas": null,
      "grid_template_columns": null,
      "grid_template_rows": null,
      "height": null,
      "justify_content": null,
      "justify_items": null,
      "left": null,
      "margin": null,
      "max_height": null,
      "max_width": null,
      "min_height": null,
      "min_width": null,
      "object_fit": null,
      "object_position": null,
      "order": null,
      "overflow": null,
      "overflow_x": null,
      "overflow_y": null,
      "padding": null,
      "right": null,
      "top": null,
      "visibility": null,
      "width": null
     }
    },
    "ee0878d1399e45b68ca43c9c9cd81d9a": {
     "model_module": "@jupyter-widgets/base",
     "model_module_version": "1.2.0",
     "model_name": "LayoutModel",
     "state": {
      "_model_module": "@jupyter-widgets/base",
      "_model_module_version": "1.2.0",
      "_model_name": "LayoutModel",
      "_view_count": null,
      "_view_module": "@jupyter-widgets/base",
      "_view_module_version": "1.2.0",
      "_view_name": "LayoutView",
      "align_content": null,
      "align_items": null,
      "align_self": null,
      "border": null,
      "bottom": null,
      "display": null,
      "flex": null,
      "flex_flow": null,
      "grid_area": null,
      "grid_auto_columns": null,
      "grid_auto_flow": null,
      "grid_auto_rows": null,
      "grid_column": null,
      "grid_gap": null,
      "grid_row": null,
      "grid_template_areas": null,
      "grid_template_columns": null,
      "grid_template_rows": null,
      "height": null,
      "justify_content": null,
      "justify_items": null,
      "left": null,
      "margin": null,
      "max_height": null,
      "max_width": null,
      "min_height": null,
      "min_width": null,
      "object_fit": null,
      "object_position": null,
      "order": null,
      "overflow": null,
      "overflow_x": null,
      "overflow_y": null,
      "padding": null,
      "right": null,
      "top": null,
      "visibility": null,
      "width": null
     }
    },
    "efa4acc3b227476a99a79a0d1d6c024f": {
     "model_module": "@jupyter-widgets/controls",
     "model_module_version": "1.5.0",
     "model_name": "DescriptionStyleModel",
     "state": {
      "_model_module": "@jupyter-widgets/controls",
      "_model_module_version": "1.5.0",
      "_model_name": "DescriptionStyleModel",
      "_view_count": null,
      "_view_module": "@jupyter-widgets/base",
      "_view_module_version": "1.2.0",
      "_view_name": "StyleView",
      "description_width": ""
     }
    },
    "f442c127804f41abad386e33e09c05db": {
     "model_module": "@jupyter-widgets/controls",
     "model_module_version": "1.5.0",
     "model_name": "HTMLModel",
     "state": {
      "_dom_classes": [],
      "_model_module": "@jupyter-widgets/controls",
      "_model_module_version": "1.5.0",
      "_model_name": "HTMLModel",
      "_view_count": null,
      "_view_module": "@jupyter-widgets/controls",
      "_view_module_version": "1.5.0",
      "_view_name": "HTMLView",
      "description": "",
      "description_tooltip": null,
      "layout": "IPY_MODEL_2674f4b837014c9083f38a737dd757aa",
      "placeholder": "​",
      "style": "IPY_MODEL_3c8fcb504c8349f793e935ec4164ca1a",
      "value": "Downloading: 100%"
     }
    },
    "fbc0fbf3c4784098b65f3c9a6d954fca": {
     "model_module": "@jupyter-widgets/controls",
     "model_module_version": "1.5.0",
     "model_name": "HBoxModel",
     "state": {
      "_dom_classes": [],
      "_model_module": "@jupyter-widgets/controls",
      "_model_module_version": "1.5.0",
      "_model_name": "HBoxModel",
      "_view_count": null,
      "_view_module": "@jupyter-widgets/controls",
      "_view_module_version": "1.5.0",
      "_view_name": "HBoxView",
      "box_style": "",
      "children": [
       "IPY_MODEL_f442c127804f41abad386e33e09c05db",
       "IPY_MODEL_c4b211e0c60443f3889149135db6bfeb",
       "IPY_MODEL_203bbb759bfc42fb8895a162e08d3226"
      ],
      "layout": "IPY_MODEL_530cb8fbb3f54dd4a4c37f3160802f43"
     }
    }
   }
  }
 },
 "nbformat": 4,
 "nbformat_minor": 2
}
